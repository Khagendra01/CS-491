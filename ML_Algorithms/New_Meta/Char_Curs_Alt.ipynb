{
 "cells": [
  {
   "cell_type": "code",
   "execution_count": 1,
   "metadata": {},
   "outputs": [
    {
     "name": "stdout",
     "output_type": "stream",
     "text": [
      "WARNING:tensorflow:From c:\\Users\\K-Gen\\AppData\\Local\\Programs\\Python\\Python39\\lib\\site-packages\\keras\\src\\losses.py:2976: The name tf.losses.sparse_softmax_cross_entropy is deprecated. Please use tf.compat.v1.losses.sparse_softmax_cross_entropy instead.\n",
      "\n"
     ]
    }
   ],
   "source": [
    "import pandas as pd\n",
    "import numpy as np\n",
    "from sklearn.model_selection import train_test_split\n",
    "from sklearn.preprocessing import StandardScaler\n",
    "from tensorflow import keras\n",
    "from sklearn.linear_model import Perceptron\n",
    "from sklearn.metrics import accuracy_score\n",
    "import matplotlib.pyplot as plt\n",
    "from imblearn.over_sampling import SMOTE"
   ]
  },
  {
   "cell_type": "code",
   "execution_count": 2,
   "metadata": {},
   "outputs": [],
   "source": [
    "numb_x_src_path = '../../Dataset/MixedDataSetAdded.json'\n",
    "y_src_path = '../../DataBook/Mixed_Data_Analyst2.xlsx'"
   ]
  },
  {
   "cell_type": "code",
   "execution_count": 3,
   "metadata": {},
   "outputs": [],
   "source": [
    "numb_data = pd.read_json(numb_x_src_path)\n",
    "numb_data = numb_data.iloc[:, :-59022]"
   ]
  },
  {
   "cell_type": "code",
   "execution_count": 4,
   "metadata": {},
   "outputs": [],
   "source": [
    "df_supervision = pd.read_excel(y_src_path)\n",
    "plagiarised_array = df_supervision['Plagiarised'].astype(int).values"
   ]
  },
  {
   "cell_type": "code",
   "execution_count": 5,
   "metadata": {},
   "outputs": [],
   "source": [
    "X_N = np.nan_to_num(numb_data.values, nan=0, copy=True).astype(int)\n",
    "y = plagiarised_array"
   ]
  },
  {
   "cell_type": "code",
   "execution_count": 6,
   "metadata": {},
   "outputs": [],
   "source": [
    "X_N_train, X_N_test, y_N_train, y_N_test = train_test_split(X_N, y, test_size=0.2, random_state=32)"
   ]
  },
  {
   "cell_type": "code",
   "execution_count": 7,
   "metadata": {},
   "outputs": [],
   "source": [
    "# scaler = StandardScaler()\n",
    "# X_N_train = scaler.fit_transform(X_N_train)\n",
    "# X_N_test = scaler.fit_transform(X_N_test)"
   ]
  },
  {
   "cell_type": "code",
   "execution_count": 8,
   "metadata": {},
   "outputs": [
    {
     "name": "stdout",
     "output_type": "stream",
     "text": [
      "Training data score: 0.9459459459459459\n",
      "Test data score: 0.8928571428571429\n"
     ]
    }
   ],
   "source": [
    "numbP = Perceptron()\n",
    "numbP.fit(X_N_train,y_N_train)\n",
    "\n",
    "percepPredict = numbP.predict(X_N_test)\n",
    "\n",
    "print(f\"Training data score: {numbP.score(X_N_train, y_N_train)}\")\n",
    "print(f\"Test data score: {numbP.score(X_N_test, y_N_test)}\")"
   ]
  },
  {
   "cell_type": "code",
   "execution_count": 20,
   "metadata": {},
   "outputs": [
    {
     "name": "stdout",
     "output_type": "stream",
     "text": [
      "Epoch 1/100\n",
      "4/4 [==============================] - 1s 53ms/step - loss: 79.0415 - accuracy: 0.7027 - val_loss: 50.5040 - val_accuracy: 0.7500\n",
      "Epoch 2/100\n",
      "4/4 [==============================] - 0s 15ms/step - loss: 98.1976 - accuracy: 0.6667 - val_loss: 48.4150 - val_accuracy: 0.7500\n",
      "Epoch 3/100\n",
      "4/4 [==============================] - 0s 12ms/step - loss: 107.5800 - accuracy: 0.6847 - val_loss: 71.6755 - val_accuracy: 0.7857\n",
      "Epoch 4/100\n",
      "4/4 [==============================] - 0s 12ms/step - loss: 103.4319 - accuracy: 0.7838 - val_loss: 45.8349 - val_accuracy: 0.7857\n",
      "Epoch 5/100\n",
      "4/4 [==============================] - 0s 12ms/step - loss: 45.4490 - accuracy: 0.8468 - val_loss: 13.7274 - val_accuracy: 0.8571\n",
      "Epoch 6/100\n",
      "4/4 [==============================] - 0s 12ms/step - loss: 42.2316 - accuracy: 0.6757 - val_loss: 6.8946 - val_accuracy: 0.8214\n",
      "Epoch 7/100\n",
      "4/4 [==============================] - 0s 11ms/step - loss: 61.0420 - accuracy: 0.5495 - val_loss: 7.3499 - val_accuracy: 0.8214\n",
      "Epoch 8/100\n",
      "4/4 [==============================] - 0s 12ms/step - loss: 42.7592 - accuracy: 0.5766 - val_loss: 8.7426 - val_accuracy: 0.8929\n",
      "Epoch 9/100\n",
      "4/4 [==============================] - 0s 12ms/step - loss: 19.2363 - accuracy: 0.6847 - val_loss: 11.6545 - val_accuracy: 0.8929\n",
      "Epoch 10/100\n",
      "4/4 [==============================] - 0s 11ms/step - loss: 12.0715 - accuracy: 0.7748 - val_loss: 17.1162 - val_accuracy: 0.8929\n",
      "Epoch 11/100\n",
      "4/4 [==============================] - 0s 11ms/step - loss: 28.7438 - accuracy: 0.6486 - val_loss: 7.2191 - val_accuracy: 0.8929\n",
      "Epoch 12/100\n",
      "4/4 [==============================] - 0s 12ms/step - loss: 3.4666 - accuracy: 0.7117 - val_loss: 3.6457 - val_accuracy: 0.8929\n",
      "Epoch 13/100\n",
      "4/4 [==============================] - 0s 12ms/step - loss: 1.7879 - accuracy: 0.7838 - val_loss: 3.4048 - val_accuracy: 0.8571\n",
      "Epoch 14/100\n",
      "4/4 [==============================] - 0s 12ms/step - loss: 1.5140 - accuracy: 0.8288 - val_loss: 2.8371 - val_accuracy: 0.8929\n",
      "Epoch 15/100\n",
      "4/4 [==============================] - 0s 12ms/step - loss: 1.1097 - accuracy: 0.8378 - val_loss: 2.2580 - val_accuracy: 0.8929\n",
      "Epoch 16/100\n",
      "4/4 [==============================] - 0s 12ms/step - loss: 0.7777 - accuracy: 0.8739 - val_loss: 1.8901 - val_accuracy: 0.8929\n",
      "Epoch 17/100\n",
      "4/4 [==============================] - 0s 12ms/step - loss: 0.6220 - accuracy: 0.8649 - val_loss: 1.6301 - val_accuracy: 0.8929\n",
      "Epoch 18/100\n",
      "4/4 [==============================] - 0s 11ms/step - loss: 0.6535 - accuracy: 0.8649 - val_loss: 1.4531 - val_accuracy: 0.8929\n",
      "Epoch 19/100\n",
      "4/4 [==============================] - 0s 12ms/step - loss: 1.0233 - accuracy: 0.8378 - val_loss: 1.3579 - val_accuracy: 0.8571\n",
      "Epoch 20/100\n",
      "4/4 [==============================] - 0s 12ms/step - loss: 0.6311 - accuracy: 0.8739 - val_loss: 1.3244 - val_accuracy: 0.8571\n",
      "Epoch 21/100\n",
      "4/4 [==============================] - 0s 12ms/step - loss: 0.6932 - accuracy: 0.8468 - val_loss: 1.3076 - val_accuracy: 0.8214\n",
      "Epoch 22/100\n",
      "4/4 [==============================] - 0s 12ms/step - loss: 0.8309 - accuracy: 0.8468 - val_loss: 1.3075 - val_accuracy: 0.8214\n",
      "Epoch 23/100\n",
      "4/4 [==============================] - 0s 12ms/step - loss: 0.8075 - accuracy: 0.8468 - val_loss: 1.2042 - val_accuracy: 0.8214\n",
      "Epoch 24/100\n",
      "4/4 [==============================] - 0s 12ms/step - loss: 0.6533 - accuracy: 0.8739 - val_loss: 1.1157 - val_accuracy: 0.8214\n",
      "Epoch 25/100\n",
      "4/4 [==============================] - 0s 11ms/step - loss: 0.6313 - accuracy: 0.8829 - val_loss: 1.0521 - val_accuracy: 0.8214\n",
      "Epoch 26/100\n",
      "4/4 [==============================] - 0s 12ms/step - loss: 0.7112 - accuracy: 0.8649 - val_loss: 0.9730 - val_accuracy: 0.8214\n",
      "Epoch 27/100\n",
      "4/4 [==============================] - 0s 12ms/step - loss: 0.7323 - accuracy: 0.8739 - val_loss: 0.8735 - val_accuracy: 0.8214\n",
      "Epoch 28/100\n",
      "4/4 [==============================] - 0s 11ms/step - loss: 0.6617 - accuracy: 0.8649 - val_loss: 0.8456 - val_accuracy: 0.8214\n",
      "Epoch 29/100\n",
      "4/4 [==============================] - 0s 12ms/step - loss: 0.6284 - accuracy: 0.8829 - val_loss: 0.8230 - val_accuracy: 0.8571\n",
      "Epoch 30/100\n",
      "4/4 [==============================] - 0s 11ms/step - loss: 0.6673 - accuracy: 0.8649 - val_loss: 0.8015 - val_accuracy: 0.8571\n",
      "Epoch 31/100\n",
      "4/4 [==============================] - 0s 12ms/step - loss: 0.8752 - accuracy: 0.8739 - val_loss: 0.8016 - val_accuracy: 0.8571\n",
      "Epoch 32/100\n",
      "4/4 [==============================] - 0s 11ms/step - loss: 0.8432 - accuracy: 0.8559 - val_loss: 0.8519 - val_accuracy: 0.8214\n",
      "Epoch 33/100\n",
      "4/4 [==============================] - 0s 11ms/step - loss: 0.6495 - accuracy: 0.8739 - val_loss: 0.9027 - val_accuracy: 0.8214\n",
      "Epoch 34/100\n",
      "4/4 [==============================] - 0s 12ms/step - loss: 0.7347 - accuracy: 0.8559 - val_loss: 0.9373 - val_accuracy: 0.8214\n",
      "Epoch 35/100\n",
      "4/4 [==============================] - 0s 12ms/step - loss: 0.7588 - accuracy: 0.8649 - val_loss: 0.9359 - val_accuracy: 0.8214\n",
      "Epoch 36/100\n",
      "4/4 [==============================] - 0s 12ms/step - loss: 0.9922 - accuracy: 0.8739 - val_loss: 0.8882 - val_accuracy: 0.8214\n",
      "Epoch 37/100\n",
      "4/4 [==============================] - 0s 13ms/step - loss: 0.7362 - accuracy: 0.8649 - val_loss: 0.8669 - val_accuracy: 0.8571\n",
      "Epoch 38/100\n",
      "4/4 [==============================] - 0s 12ms/step - loss: 0.6504 - accuracy: 0.8739 - val_loss: 0.8503 - val_accuracy: 0.8571\n",
      "Epoch 39/100\n",
      "4/4 [==============================] - 0s 11ms/step - loss: 0.6630 - accuracy: 0.8559 - val_loss: 0.8282 - val_accuracy: 0.8571\n",
      "Epoch 40/100\n",
      "4/4 [==============================] - 0s 14ms/step - loss: 0.6367 - accuracy: 0.8739 - val_loss: 0.8127 - val_accuracy: 0.8571\n",
      "Epoch 41/100\n",
      "4/4 [==============================] - 0s 15ms/step - loss: 0.6208 - accuracy: 0.8829 - val_loss: 0.8037 - val_accuracy: 0.8571\n",
      "Epoch 42/100\n",
      "4/4 [==============================] - 0s 13ms/step - loss: 0.6807 - accuracy: 0.8559 - val_loss: 0.8134 - val_accuracy: 0.8571\n",
      "Epoch 43/100\n",
      "4/4 [==============================] - 0s 12ms/step - loss: 0.6163 - accuracy: 0.8829 - val_loss: 0.8620 - val_accuracy: 0.8214\n",
      "Epoch 44/100\n",
      "4/4 [==============================] - 0s 11ms/step - loss: 0.6184 - accuracy: 0.8829 - val_loss: 0.8895 - val_accuracy: 0.8214\n",
      "Epoch 45/100\n",
      "4/4 [==============================] - 0s 12ms/step - loss: 0.6356 - accuracy: 0.8739 - val_loss: 0.9229 - val_accuracy: 0.8214\n",
      "Epoch 46/100\n",
      "4/4 [==============================] - 0s 12ms/step - loss: 0.6119 - accuracy: 0.8829 - val_loss: 0.9382 - val_accuracy: 0.8214\n",
      "Epoch 47/100\n",
      "4/4 [==============================] - 0s 11ms/step - loss: 0.8751 - accuracy: 0.8649 - val_loss: 0.9340 - val_accuracy: 0.8214\n",
      "Epoch 48/100\n",
      "4/4 [==============================] - 0s 12ms/step - loss: 1.0385 - accuracy: 0.8649 - val_loss: 0.9055 - val_accuracy: 0.8214\n",
      "Epoch 49/100\n",
      "4/4 [==============================] - 0s 11ms/step - loss: 0.6085 - accuracy: 0.8829 - val_loss: 0.8817 - val_accuracy: 0.8214\n",
      "Epoch 50/100\n",
      "4/4 [==============================] - 0s 12ms/step - loss: 0.6483 - accuracy: 0.8739 - val_loss: 0.8664 - val_accuracy: 0.8214\n",
      "Epoch 51/100\n",
      "4/4 [==============================] - 0s 12ms/step - loss: 0.7512 - accuracy: 0.8649 - val_loss: 0.8499 - val_accuracy: 0.8214\n",
      "Epoch 52/100\n",
      "4/4 [==============================] - 0s 12ms/step - loss: 0.6104 - accuracy: 0.8829 - val_loss: 0.8395 - val_accuracy: 0.8214\n",
      "Epoch 53/100\n",
      "4/4 [==============================] - 0s 12ms/step - loss: 0.8024 - accuracy: 0.8739 - val_loss: 0.8134 - val_accuracy: 0.8571\n",
      "Epoch 54/100\n",
      "4/4 [==============================] - 0s 12ms/step - loss: 0.7634 - accuracy: 0.8649 - val_loss: 0.7805 - val_accuracy: 0.8571\n",
      "Epoch 55/100\n",
      "4/4 [==============================] - 0s 12ms/step - loss: 0.7041 - accuracy: 0.8649 - val_loss: 0.7542 - val_accuracy: 0.8571\n",
      "Epoch 56/100\n",
      "4/4 [==============================] - 0s 12ms/step - loss: 0.6083 - accuracy: 0.8739 - val_loss: 0.7441 - val_accuracy: 0.8571\n",
      "Epoch 57/100\n",
      "4/4 [==============================] - 0s 12ms/step - loss: 0.6095 - accuracy: 0.8739 - val_loss: 0.7384 - val_accuracy: 0.8571\n",
      "Epoch 58/100\n",
      "4/4 [==============================] - 0s 12ms/step - loss: 0.6868 - accuracy: 0.8559 - val_loss: 0.7327 - val_accuracy: 0.8571\n",
      "Epoch 59/100\n",
      "4/4 [==============================] - 0s 12ms/step - loss: 0.6540 - accuracy: 0.8559 - val_loss: 0.7297 - val_accuracy: 0.8571\n",
      "Epoch 60/100\n",
      "4/4 [==============================] - 0s 12ms/step - loss: 0.7620 - accuracy: 0.8468 - val_loss: 0.7289 - val_accuracy: 0.8571\n",
      "Epoch 61/100\n",
      "4/4 [==============================] - 0s 13ms/step - loss: 0.6134 - accuracy: 0.8739 - val_loss: 0.7283 - val_accuracy: 0.8571\n",
      "Epoch 62/100\n",
      "4/4 [==============================] - 0s 12ms/step - loss: 0.6084 - accuracy: 0.8739 - val_loss: 0.7276 - val_accuracy: 0.8571\n",
      "Epoch 63/100\n",
      "4/4 [==============================] - 0s 12ms/step - loss: 0.6914 - accuracy: 0.8649 - val_loss: 0.7267 - val_accuracy: 0.8571\n",
      "Epoch 64/100\n",
      "4/4 [==============================] - 0s 12ms/step - loss: 0.6171 - accuracy: 0.8649 - val_loss: 0.7260 - val_accuracy: 0.8571\n",
      "Epoch 65/100\n",
      "4/4 [==============================] - 0s 12ms/step - loss: 0.6650 - accuracy: 0.8649 - val_loss: 0.7255 - val_accuracy: 0.8571\n",
      "Epoch 66/100\n",
      "4/4 [==============================] - 0s 12ms/step - loss: 0.5999 - accuracy: 0.8739 - val_loss: 0.7253 - val_accuracy: 0.8571\n",
      "Epoch 67/100\n",
      "4/4 [==============================] - 0s 11ms/step - loss: 0.6217 - accuracy: 0.8649 - val_loss: 0.7235 - val_accuracy: 0.8571\n",
      "Epoch 68/100\n",
      "4/4 [==============================] - 0s 12ms/step - loss: 0.6303 - accuracy: 0.8649 - val_loss: 0.7224 - val_accuracy: 0.8571\n",
      "Epoch 69/100\n",
      "4/4 [==============================] - 0s 12ms/step - loss: 0.6579 - accuracy: 0.8468 - val_loss: 0.6693 - val_accuracy: 0.8571\n",
      "Epoch 70/100\n",
      "4/4 [==============================] - 0s 11ms/step - loss: 0.9597 - accuracy: 0.8468 - val_loss: 0.6303 - val_accuracy: 0.8571\n",
      "Epoch 71/100\n",
      "4/4 [==============================] - 0s 11ms/step - loss: 0.6001 - accuracy: 0.8739 - val_loss: 0.6274 - val_accuracy: 0.8571\n",
      "Epoch 72/100\n",
      "4/4 [==============================] - 0s 11ms/step - loss: 0.5990 - accuracy: 0.8739 - val_loss: 0.6281 - val_accuracy: 0.8571\n",
      "Epoch 73/100\n",
      "4/4 [==============================] - 0s 10ms/step - loss: 0.7445 - accuracy: 0.8559 - val_loss: 0.6280 - val_accuracy: 0.8571\n",
      "Epoch 74/100\n",
      "4/4 [==============================] - 0s 11ms/step - loss: 0.6013 - accuracy: 0.8739 - val_loss: 0.6248 - val_accuracy: 0.8571\n",
      "Epoch 75/100\n",
      "4/4 [==============================] - 0s 12ms/step - loss: 0.7159 - accuracy: 0.8559 - val_loss: 0.6228 - val_accuracy: 0.8571\n",
      "Epoch 76/100\n",
      "4/4 [==============================] - 0s 12ms/step - loss: 0.5935 - accuracy: 0.8739 - val_loss: 0.6213 - val_accuracy: 0.8571\n",
      "Epoch 77/100\n",
      "4/4 [==============================] - 0s 11ms/step - loss: 0.5993 - accuracy: 0.8739 - val_loss: 0.6209 - val_accuracy: 0.8571\n",
      "Epoch 78/100\n",
      "4/4 [==============================] - 0s 11ms/step - loss: 0.5928 - accuracy: 0.8649 - val_loss: 0.6201 - val_accuracy: 0.8571\n",
      "Epoch 79/100\n",
      "4/4 [==============================] - 0s 13ms/step - loss: 0.6046 - accuracy: 0.8649 - val_loss: 0.6212 - val_accuracy: 0.8571\n",
      "Epoch 80/100\n",
      "4/4 [==============================] - 0s 12ms/step - loss: 0.5913 - accuracy: 0.8739 - val_loss: 0.6210 - val_accuracy: 0.8571\n",
      "Epoch 81/100\n",
      "4/4 [==============================] - 0s 12ms/step - loss: 0.6291 - accuracy: 0.8559 - val_loss: 0.6200 - val_accuracy: 0.8571\n",
      "Epoch 82/100\n",
      "4/4 [==============================] - 0s 13ms/step - loss: 0.5969 - accuracy: 0.8649 - val_loss: 0.6161 - val_accuracy: 0.8571\n",
      "Epoch 83/100\n",
      "4/4 [==============================] - 0s 12ms/step - loss: 0.5894 - accuracy: 0.8739 - val_loss: 0.6127 - val_accuracy: 0.8571\n",
      "Epoch 84/100\n",
      "4/4 [==============================] - 0s 12ms/step - loss: 0.6332 - accuracy: 0.8649 - val_loss: 0.6121 - val_accuracy: 0.8571\n",
      "Epoch 85/100\n",
      "4/4 [==============================] - 0s 12ms/step - loss: 0.6287 - accuracy: 0.8559 - val_loss: 0.6112 - val_accuracy: 0.8571\n",
      "Epoch 86/100\n",
      "4/4 [==============================] - 0s 13ms/step - loss: 0.5955 - accuracy: 0.8649 - val_loss: 0.6108 - val_accuracy: 0.8571\n",
      "Epoch 87/100\n",
      "4/4 [==============================] - 0s 12ms/step - loss: 0.5808 - accuracy: 0.8739 - val_loss: 0.6098 - val_accuracy: 0.8571\n",
      "Epoch 88/100\n",
      "4/4 [==============================] - 0s 11ms/step - loss: 0.6134 - accuracy: 0.8649 - val_loss: 0.6119 - val_accuracy: 0.8571\n",
      "Epoch 89/100\n",
      "4/4 [==============================] - 0s 11ms/step - loss: 0.5817 - accuracy: 0.8739 - val_loss: 0.6189 - val_accuracy: 0.8571\n",
      "Epoch 90/100\n",
      "4/4 [==============================] - 0s 11ms/step - loss: 0.5883 - accuracy: 0.8739 - val_loss: 0.6214 - val_accuracy: 0.8214\n",
      "Epoch 91/100\n",
      "4/4 [==============================] - 0s 11ms/step - loss: 0.5776 - accuracy: 0.8739 - val_loss: 0.6229 - val_accuracy: 0.8214\n",
      "Epoch 92/100\n",
      "4/4 [==============================] - 0s 12ms/step - loss: 0.6621 - accuracy: 0.8559 - val_loss: 0.6230 - val_accuracy: 0.8214\n",
      "Epoch 93/100\n",
      "4/4 [==============================] - 0s 12ms/step - loss: 0.5775 - accuracy: 0.8739 - val_loss: 0.6226 - val_accuracy: 0.8214\n",
      "Epoch 94/100\n",
      "4/4 [==============================] - 0s 12ms/step - loss: 0.7397 - accuracy: 0.8559 - val_loss: 0.6209 - val_accuracy: 0.8214\n",
      "Epoch 95/100\n",
      "4/4 [==============================] - 0s 12ms/step - loss: 0.5797 - accuracy: 0.8739 - val_loss: 0.6185 - val_accuracy: 0.8214\n",
      "Epoch 96/100\n",
      "4/4 [==============================] - 0s 12ms/step - loss: 0.5798 - accuracy: 0.8739 - val_loss: 0.6172 - val_accuracy: 0.8214\n",
      "Epoch 97/100\n",
      "4/4 [==============================] - 0s 12ms/step - loss: 0.5971 - accuracy: 0.8649 - val_loss: 0.6184 - val_accuracy: 0.8214\n",
      "Epoch 98/100\n",
      "4/4 [==============================] - 0s 12ms/step - loss: 0.5723 - accuracy: 0.8739 - val_loss: 0.6161 - val_accuracy: 0.8214\n",
      "Epoch 99/100\n",
      "4/4 [==============================] - 0s 12ms/step - loss: 0.5892 - accuracy: 0.8649 - val_loss: 0.6141 - val_accuracy: 0.8214\n",
      "Epoch 100/100\n",
      "4/4 [==============================] - 0s 12ms/step - loss: 0.5838 - accuracy: 0.8739 - val_loss: 0.6129 - val_accuracy: 0.8214\n",
      "WARNING:tensorflow:6 out of the last 6 calls to <function Model.make_predict_function.<locals>.predict_function at 0x0000021ABC11A310> triggered tf.function retracing. Tracing is expensive and the excessive number of tracings could be due to (1) creating @tf.function repeatedly in a loop, (2) passing tensors with different shapes, (3) passing Python objects instead of tensors. For (1), please define your @tf.function outside of the loop. For (2), @tf.function has reduce_retracing=True option that can avoid unnecessary retracing. For (3), please refer to https://www.tensorflow.org/guide/function#controlling_retracing and https://www.tensorflow.org/api_docs/python/tf/function for  more details.\n",
      "1/1 [==============================] - 0s 89ms/step\n"
     ]
    }
   ],
   "source": [
    "NPH = 32\n",
    "DROPOUT_RATE = 0.5\n",
    "numb_model = keras.models.Sequential([\n",
    "    keras.layers.Input(shape=(16689,)),\n",
    "    keras.layers.Dense(NPH, activation='relu'),\n",
    "    keras.layers.Dense(NPH, activation='relu'),\n",
    "    keras.layers.Dense(NPH, activation='relu'),\n",
    "    keras.layers.Dense(NPH, activation='relu'),\n",
    "    keras.layers.Dense(NPH, activation='relu'),\n",
    "    keras.layers.Dense(NPH, activation='relu'),\n",
    "    keras.layers.Dropout(DROPOUT_RATE),\n",
    "    keras.layers.Dense(1, activation='sigmoid')\n",
    "])\n",
    "\n",
    "LOSS_FN = keras.losses.BinaryCrossentropy()\n",
    "LR = 0.0001\n",
    "optimizer = keras.optimizers.Adam(learning_rate=LR)\n",
    "\n",
    "numb_model.compile(optimizer=optimizer, loss=LOSS_FN, metrics=['accuracy'])\n",
    "\n",
    "history = numb_model.fit(X_N_train, y_N_train, epochs=100, validation_data=(X_N_test, y_N_test))\n",
    "\n",
    "y_pred_numb_binary_flat = (numb_model.predict(X_N_test).flatten() > 0.5).astype(int)"
   ]
  },
  {
   "cell_type": "code",
   "execution_count": 10,
   "metadata": {},
   "outputs": [],
   "source": [
    "# numb_model.summary()\n",
    "# numb_model.save(\"scaled_model.h5\")\n",
    "# config = optimizer.get_config()\n",
    "\n",
    "# # Extract and print the learning rate\n",
    "# learning_rate = config['learning_rate']\n",
    "# print(\"Default learning rate:\", learning_rate)\n"
   ]
  },
  {
   "cell_type": "code",
   "execution_count": 11,
   "metadata": {},
   "outputs": [],
   "source": [
    "# for numb, percep, actual in zip(y_pred_numb_binary_flat, percepPredict, y_N_test):\n",
    "#     print(f\"Number: {numb}, Perceptron: {percep} Actual: {actual}\")"
   ]
  },
  {
   "cell_type": "code",
   "execution_count": 12,
   "metadata": {},
   "outputs": [
    {
     "name": "stdout",
     "output_type": "stream",
     "text": [
      "1/1 [==============================] - 0s 21ms/step - loss: 0.5734 - accuracy: 0.8929\n",
      "0.8928571343421936\n"
     ]
    }
   ],
   "source": [
    "print(numb_model.evaluate(X_N_test,y_N_test)[1])\n",
    "#numb_model.save(\"haldmodel.h5\")"
   ]
  },
  {
   "cell_type": "code",
   "execution_count": 13,
   "metadata": {},
   "outputs": [
    {
     "data": {
      "text/plain": [
       "[<matplotlib.lines.Line2D at 0x21a9f0c6bb0>]"
      ]
     },
     "execution_count": 13,
     "metadata": {},
     "output_type": "execute_result"
    },
    {
     "data": {
      "image/png": "[encoded data removed]",
      "text/plain": [
       "<Figure size 640x480 with 1 Axes>"
      ]
     },
     "metadata": {},
     "output_type": "display_data"
    }
   ],
   "source": [
    "plt.plot(history.history['loss'])\n",
    "plt.plot(history.history['val_loss'])"
   ]
  },
  {
   "cell_type": "code",
   "execution_count": 14,
   "metadata": {},
   "outputs": [
    {
     "data": {
      "text/plain": [
       "[<matplotlib.lines.Line2D at 0x21aa0317a00>]"
      ]
     },
     "execution_count": 14,
     "metadata": {},
     "output_type": "execute_result"
    },
    {
     "data": {
      "image/png": "[encoded data removed]",
      "text/plain": [
       "<Figure size 640x480 with 1 Axes>"
      ]
     },
     "metadata": {},
     "output_type": "display_data"
    }
   ],
   "source": [
    "plt.plot(history.history['accuracy'])\n",
    "plt.plot(history.history['val_accuracy'])"
   ]
  }
 ],
 "metadata": {
  "kernelspec": {
   "display_name": "Python 3",
   "language": "python",
   "name": "python3"
  },
  "language_info": {
   "codemirror_mode": {
    "name": "ipython",
    "version": 3
   },
   "file_extension": ".py",
   "mimetype": "text/x-python",
   "name": "python",
   "nbconvert_exporter": "python",
   "pygments_lexer": "ipython3",
   "version": "3.9.4"
  }
 },
 "nbformat": 4,
 "nbformat_minor": 2
}

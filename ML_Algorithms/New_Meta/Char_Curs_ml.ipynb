{
 "cells": [
  {
   "cell_type": "code",
   "execution_count": 2,
   "metadata": {},
   "outputs": [
    {
     "name": "stdout",
     "output_type": "stream",
     "text": [
      "WARNING:tensorflow:From c:\\Users\\K-Gen\\AppData\\Local\\Programs\\Python\\Python39\\lib\\site-packages\\keras\\src\\losses.py:2976: The name tf.losses.sparse_softmax_cross_entropy is deprecated. Please use tf.compat.v1.losses.sparse_softmax_cross_entropy instead.\n",
      "\n"
     ]
    }
   ],
   "source": [
    "import pandas as pd\n",
    "import numpy as np\n",
    "from sklearn.model_selection import train_test_split\n",
    "from sklearn.preprocessing import StandardScaler\n",
    "from tensorflow import keras\n",
    "from sklearn.linear_model import Perceptron\n",
    "from sklearn.metrics import accuracy_score\n",
    "import matplotlib.pyplot as plt"
   ]
  },
  {
   "cell_type": "code",
   "execution_count": 3,
   "metadata": {},
   "outputs": [],
   "source": [
    "numb_x_src_path = '../../Dataset/MixedDataSet.json'\n",
    "y_src_path = '../../DataBook/Mixed_Data_Analyst.xlsx'"
   ]
  },
  {
   "cell_type": "code",
   "execution_count": 4,
   "metadata": {},
   "outputs": [],
   "source": [
    "numb_data = pd.read_json(numb_x_src_path)\n",
    "numb_data = numb_data.iloc[:, :-59022]"
   ]
  },
  {
   "cell_type": "code",
   "execution_count": 5,
   "metadata": {},
   "outputs": [],
   "source": [
    "df_supervision = pd.read_excel(y_src_path)\n",
    "plagiarised_array = df_supervision['Plagiarised'].astype(int).values"
   ]
  },
  {
   "cell_type": "code",
   "execution_count": 6,
   "metadata": {},
   "outputs": [],
   "source": [
    "X_N = np.nan_to_num(numb_data.values, nan=0, copy=True).astype(int)\n",
    "y = plagiarised_array"
   ]
  },
  {
   "cell_type": "code",
   "execution_count": 7,
   "metadata": {},
   "outputs": [],
   "source": [
    "X_N_train, X_N_test, y_N_train, y_N_test = train_test_split(X_N, y, test_size=0.2, random_state=32)"
   ]
  },
  {
   "cell_type": "code",
   "execution_count": 8,
   "metadata": {},
   "outputs": [],
   "source": [
    "# scaler = StandardScaler()\n",
    "# X_N_train = scaler.fit_transform(X_N_train)\n",
    "# X_N_test = scaler.fit_transform(X_N_test)"
   ]
  },
  {
   "cell_type": "code",
   "execution_count": 9,
   "metadata": {},
   "outputs": [
    {
     "name": "stdout",
     "output_type": "stream",
     "text": [
      "Training data score: 0.9528301886792453\n",
      "Test data score: 0.5185185185185185\n"
     ]
    }
   ],
   "source": [
    "numbP = Perceptron()\n",
    "numbP.fit(X_N_train,y_N_train)\n",
    "\n",
    "percepPredict = numbP.predict(X_N_test)\n",
    "\n",
    "print(f\"Training data score: {numbP.score(X_N_train, y_N_train)}\")\n",
    "print(f\"Test data score: {numbP.score(X_N_test, y_N_test)}\")"
   ]
  },
  {
   "cell_type": "code",
   "execution_count": 10,
   "metadata": {},
   "outputs": [
    {
     "name": "stdout",
     "output_type": "stream",
     "text": [
      "WARNING:tensorflow:From c:\\Users\\K-Gen\\AppData\\Local\\Programs\\Python\\Python39\\lib\\site-packages\\keras\\src\\backend.py:1398: The name tf.executing_eagerly_outside_functions is deprecated. Please use tf.compat.v1.executing_eagerly_outside_functions instead.\n",
      "\n",
      "WARNING:tensorflow:From c:\\Users\\K-Gen\\AppData\\Local\\Programs\\Python\\Python39\\lib\\site-packages\\keras\\src\\optimizers\\__init__.py:309: The name tf.train.Optimizer is deprecated. Please use tf.compat.v1.train.Optimizer instead.\n",
      "\n",
      "Epoch 1/10\n",
      "WARNING:tensorflow:From c:\\Users\\K-Gen\\AppData\\Local\\Programs\\Python\\Python39\\lib\\site-packages\\keras\\src\\utils\\tf_utils.py:492: The name tf.ragged.RaggedTensorValue is deprecated. Please use tf.compat.v1.ragged.RaggedTensorValue instead.\n",
      "\n",
      "WARNING:tensorflow:From c:\\Users\\K-Gen\\AppData\\Local\\Programs\\Python\\Python39\\lib\\site-packages\\keras\\src\\engine\\base_layer_utils.py:384: The name tf.executing_eagerly_outside_functions is deprecated. Please use tf.compat.v1.executing_eagerly_outside_functions instead.\n",
      "\n",
      "4/4 [==============================] - 1s 72ms/step - loss: 0.5398 - accuracy: 0.8491 - val_loss: 0.3477 - val_accuracy: 0.8148\n",
      "Epoch 2/10\n",
      "4/4 [==============================] - 0s 12ms/step - loss: 0.3592 - accuracy: 0.8491 - val_loss: 0.3092 - val_accuracy: 0.8148\n",
      "Epoch 3/10\n",
      "4/4 [==============================] - 0s 12ms/step - loss: 0.3245 - accuracy: 0.8491 - val_loss: 0.4613 - val_accuracy: 0.8148\n",
      "Epoch 4/10\n",
      "4/4 [==============================] - 0s 12ms/step - loss: 0.3899 - accuracy: 0.8585 - val_loss: 0.5224 - val_accuracy: 0.8148\n",
      "Epoch 5/10\n",
      "4/4 [==============================] - 0s 13ms/step - loss: 0.2993 - accuracy: 0.8679 - val_loss: 0.3192 - val_accuracy: 0.7778\n",
      "Epoch 6/10\n",
      "4/4 [==============================] - 0s 12ms/step - loss: 0.1805 - accuracy: 0.9057 - val_loss: 0.2644 - val_accuracy: 0.8148\n",
      "Epoch 7/10\n",
      "4/4 [==============================] - 0s 12ms/step - loss: 0.2032 - accuracy: 0.8962 - val_loss: 0.2465 - val_accuracy: 0.8519\n",
      "Epoch 8/10\n",
      "4/4 [==============================] - 0s 12ms/step - loss: 0.1295 - accuracy: 0.9245 - val_loss: 0.1402 - val_accuracy: 0.9630\n",
      "Epoch 9/10\n",
      "4/4 [==============================] - 0s 12ms/step - loss: 0.1150 - accuracy: 0.9528 - val_loss: 0.1612 - val_accuracy: 0.9630\n",
      "Epoch 10/10\n",
      "4/4 [==============================] - 0s 12ms/step - loss: 0.1056 - accuracy: 0.9623 - val_loss: 0.1600 - val_accuracy: 0.9630\n",
      "1/1 [==============================] - 0s 83ms/step\n"
     ]
    }
   ],
   "source": [
    "NPH = 32\n",
    "numb_model = keras.models.Sequential([\n",
    "    keras.layers.Input(shape=(16689,)),\n",
    "    keras.layers.Dense(NPH, activation='relu'),\n",
    "    keras.layers.Dense(NPH, activation='relu'),\n",
    "    keras.layers.Dense(NPH, activation='relu'),\n",
    "    keras.layers.Dense(NPH, activation='relu'),\n",
    "    keras.layers.Dense(NPH, activation='relu'),\n",
    "    keras.layers.Dense(NPH, activation='relu'),\n",
    "    keras.layers.Dense(1, activation='sigmoid')\n",
    "])\n",
    "\n",
    "LOSS_FN = keras.losses.BinaryCrossentropy()\n",
    "\n",
    "numb_model.compile(optimizer='adam', loss=LOSS_FN, metrics=['accuracy'])\n",
    "\n",
    "history = numb_model.fit(X_N_train, y_N_train, epochs=10, validation_data=(X_N_test, y_N_test))\n",
    "\n",
    "y_pred_numb_binary_flat = (numb_model.predict(X_N_test).flatten() > 0.5).astype(int)"
   ]
  },
  {
   "cell_type": "code",
   "execution_count": 20,
   "metadata": {},
   "outputs": [
    {
     "name": "stdout",
     "output_type": "stream",
     "text": [
      "Epoch 1/10\n",
      "5/5 [==============================] - 0s 5ms/step - loss: 26.7616 - accuracy: 0.9248\n",
      "Epoch 2/10\n",
      "5/5 [==============================] - 0s 4ms/step - loss: 6.3010 - accuracy: 0.9850\n",
      "Epoch 3/10\n",
      "5/5 [==============================] - 0s 4ms/step - loss: 8.8731 - accuracy: 0.9474\n",
      "Epoch 4/10\n",
      "5/5 [==============================] - 0s 4ms/step - loss: 17.8957 - accuracy: 0.9549\n",
      "Epoch 5/10\n",
      "5/5 [==============================] - 0s 4ms/step - loss: 22.9171 - accuracy: 0.9023\n",
      "Epoch 6/10\n",
      "5/5 [==============================] - 0s 4ms/step - loss: 62.4544 - accuracy: 0.9398\n",
      "Epoch 7/10\n",
      "5/5 [==============================] - 0s 4ms/step - loss: 9.2239 - accuracy: 0.9474\n",
      "Epoch 8/10\n",
      "5/5 [==============================] - 0s 4ms/step - loss: 9.3184 - accuracy: 0.9549\n",
      "Epoch 9/10\n",
      "5/5 [==============================] - 0s 3ms/step - loss: 0.7427 - accuracy: 0.9925\n",
      "Epoch 10/10\n",
      "5/5 [==============================] - 0s 4ms/step - loss: 8.1833 - accuracy: 0.9624\n"
     ]
    },
    {
     "name": "stderr",
     "output_type": "stream",
     "text": [
      "c:\\Users\\K-Gen\\AppData\\Local\\Programs\\Python\\Python39\\lib\\site-packages\\keras\\src\\engine\\training.py:3103: UserWarning: You are saving your model as an HDF5 file via `model.save()`. This file format is considered legacy. We recommend using instead the native Keras format, e.g. `model.save('my_model.keras')`.\n",
      "  saving_api.save_model(\n"
     ]
    }
   ],
   "source": [
    "# numb_model.summary()\n",
    "# numb_model.save(\"scaled_model.h5\")"
   ]
  },
  {
   "cell_type": "code",
   "execution_count": 12,
   "metadata": {},
   "outputs": [
    {
     "name": "stdout",
     "output_type": "stream",
     "text": [
      "Number: 0, Perceptron: 1 Actual: 0\n",
      "Number: 1, Perceptron: 0 Actual: 1\n",
      "Number: 1, Perceptron: 1 Actual: 1\n",
      "Number: 1, Perceptron: 1 Actual: 1\n",
      "Number: 0, Perceptron: 1 Actual: 0\n",
      "Number: 0, Perceptron: 1 Actual: 0\n",
      "Number: 0, Perceptron: 0 Actual: 0\n",
      "Number: 0, Perceptron: 1 Actual: 0\n",
      "Number: 0, Perceptron: 0 Actual: 0\n",
      "Number: 0, Perceptron: 0 Actual: 0\n",
      "Number: 0, Perceptron: 1 Actual: 0\n",
      "Number: 0, Perceptron: 0 Actual: 0\n",
      "Number: 0, Perceptron: 0 Actual: 0\n",
      "Number: 1, Perceptron: 0 Actual: 1\n",
      "Number: 0, Perceptron: 0 Actual: 0\n",
      "Number: 0, Perceptron: 1 Actual: 0\n",
      "Number: 0, Perceptron: 0 Actual: 0\n",
      "Number: 0, Perceptron: 1 Actual: 0\n",
      "Number: 0, Perceptron: 1 Actual: 0\n",
      "Number: 0, Perceptron: 0 Actual: 0\n",
      "Number: 0, Perceptron: 0 Actual: 0\n",
      "Number: 0, Perceptron: 0 Actual: 0\n",
      "Number: 0, Perceptron: 1 Actual: 0\n",
      "Number: 0, Perceptron: 0 Actual: 0\n",
      "Number: 1, Perceptron: 0 Actual: 1\n",
      "Number: 1, Perceptron: 0 Actual: 0\n",
      "Number: 0, Perceptron: 1 Actual: 0\n"
     ]
    }
   ],
   "source": [
    "for numb, percep, actual in zip(y_pred_numb_binary_flat, percepPredict, y_N_test):\n",
    "    print(f\"Number: {numb}, Perceptron: {percep} Actual: {actual}\")"
   ]
  },
  {
   "cell_type": "code",
   "execution_count": 13,
   "metadata": {},
   "outputs": [
    {
     "name": "stdout",
     "output_type": "stream",
     "text": [
      "1/1 [==============================] - 0s 26ms/step - loss: 0.1600 - accuracy: 0.9630\n",
      "0.9629629850387573\n"
     ]
    },
    {
     "name": "stderr",
     "output_type": "stream",
     "text": [
      "c:\\Users\\K-Gen\\AppData\\Local\\Programs\\Python\\Python39\\lib\\site-packages\\keras\\src\\engine\\training.py:3103: UserWarning: You are saving your model as an HDF5 file via `model.save()`. This file format is considered legacy. We recommend using instead the native Keras format, e.g. `model.save('my_model.keras')`.\n",
      "  saving_api.save_model(\n"
     ]
    }
   ],
   "source": [
    "print(numb_model.evaluate(X_N_test,y_N_test)[1])\n",
    "numb_model.save(\"haldmodel.h5\")"
   ]
  },
  {
   "cell_type": "code",
   "execution_count": 14,
   "metadata": {},
   "outputs": [
    {
     "data": {
      "text/plain": [
       "[<matplotlib.lines.Line2D at 0x17cd24a9340>]"
      ]
     },
     "execution_count": 14,
     "metadata": {},
     "output_type": "execute_result"
    },
    {
     "data": {
      "image/png": "[encoded data removed]",
      "text/plain": [
       "<Figure size 640x480 with 1 Axes>"
      ]
     },
     "metadata": {},
     "output_type": "display_data"
    }
   ],
   "source": [
    "plt.plot(history.history['loss'])\n",
    "plt.plot(history.history['val_loss'])"
   ]
  },
  {
   "cell_type": "code",
   "execution_count": 15,
   "metadata": {},
   "outputs": [
    {
     "data": {
      "text/plain": [
       "[<matplotlib.lines.Line2D at 0x17cdcfdf3d0>]"
      ]
     },
     "execution_count": 15,
     "metadata": {},
     "output_type": "execute_result"
    },
    {
     "data": {
      "image/png": "[encoded data removed]",
      "text/plain": [
       "<Figure size 640x480 with 1 Axes>"
      ]
     },
     "metadata": {},
     "output_type": "display_data"
    }
   ],
   "source": [
    "plt.plot(history.history['accuracy'])\n",
    "plt.plot(history.history['val_accuracy'])"
   ]
  }
 ],
 "metadata": {
  "kernelspec": {
   "display_name": "Python 3",
   "language": "python",
   "name": "python3"
  },
  "language_info": {
   "codemirror_mode": {
    "name": "ipython",
    "version": 3
   },
   "file_extension": ".py",
   "mimetype": "text/x-python",
   "name": "python",
   "nbconvert_exporter": "python",
   "pygments_lexer": "ipython3",
   "version": "3.9.4"
  }
 },
 "nbformat": 4,
 "nbformat_minor": 2
}

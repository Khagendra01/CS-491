{
 "cells": [
  {
   "cell_type": "code",
   "execution_count": 1,
   "metadata": {},
   "outputs": [
    {
     "name": "stdout",
     "output_type": "stream",
     "text": [
      "WARNING:tensorflow:From c:\\Users\\K-Gen\\AppData\\Local\\Programs\\Python\\Python39\\lib\\site-packages\\keras\\src\\losses.py:2976: The name tf.losses.sparse_softmax_cross_entropy is deprecated. Please use tf.compat.v1.losses.sparse_softmax_cross_entropy instead.\n",
      "\n"
     ]
    }
   ],
   "source": [
    "import pandas as pd\n",
    "import numpy as np\n",
    "from sklearn.model_selection import train_test_split\n",
    "from sklearn.preprocessing import StandardScaler\n",
    "from tensorflow import keras\n",
    "from sklearn.linear_model import Perceptron\n",
    "from sklearn.metrics import accuracy_score\n",
    "import matplotlib.pyplot as plt"
   ]
  },
  {
   "cell_type": "code",
   "execution_count": 2,
   "metadata": {},
   "outputs": [],
   "source": [
    "numb_x_src_path = '../../Dataset/MixedDataSet.json'\n",
    "y_src_path = '../../DataBook/Mixed_Data_Analyst.xlsx'"
   ]
  },
  {
   "cell_type": "code",
   "execution_count": 3,
   "metadata": {},
   "outputs": [],
   "source": [
    "numb_data = pd.read_json(numb_x_src_path)\n",
    "numb_data = numb_data.iloc[:, :-59022]"
   ]
  },
  {
   "cell_type": "code",
   "execution_count": 4,
   "metadata": {},
   "outputs": [],
   "source": [
    "df_supervision = pd.read_excel(y_src_path)\n",
    "plagiarised_array = df_supervision['Plagiarised'].astype(int).values"
   ]
  },
  {
   "cell_type": "code",
   "execution_count": 5,
   "metadata": {},
   "outputs": [],
   "source": [
    "X_N = np.nan_to_num(numb_data.values, nan=0, copy=True).astype(int)\n",
    "y = plagiarised_array"
   ]
  },
  {
   "cell_type": "code",
   "execution_count": 6,
   "metadata": {},
   "outputs": [],
   "source": [
    "X_N_train, X_N_test, y_N_train, y_N_test = train_test_split(X_N, y, test_size=0.2, random_state=32)"
   ]
  },
  {
   "cell_type": "code",
   "execution_count": 7,
   "metadata": {},
   "outputs": [],
   "source": [
    "# scaler = StandardScaler()\n",
    "# X_N_train = scaler.fit_transform(X_N_train)\n",
    "# X_N_test = scaler.fit_transform(X_N_test)"
   ]
  },
  {
   "cell_type": "code",
   "execution_count": 8,
   "metadata": {},
   "outputs": [
    {
     "name": "stdout",
     "output_type": "stream",
     "text": [
      "Training data score: 0.9528301886792453\n",
      "Test data score: 0.9259259259259259\n"
     ]
    }
   ],
   "source": [
    "numbP = Perceptron()\n",
    "numbP.fit(X_N_train,y_N_train)\n",
    "\n",
    "percepPredict = numbP.predict(X_N_test)\n",
    "\n",
    "print(f\"Training data score: {numbP.score(X_N_train, y_N_train)}\")\n",
    "print(f\"Test data score: {numbP.score(X_N_test, y_N_test)}\")"
   ]
  },
  {
   "cell_type": "code",
   "execution_count": 23,
   "metadata": {},
   "outputs": [
    {
     "name": "stdout",
     "output_type": "stream",
     "text": [
      "Epoch 1/5\n",
      "4/4 [==============================] - 1s 68ms/step - loss: 1660.8947 - accuracy: 0.5660 - val_loss: 567.7447 - val_accuracy: 0.1111\n",
      "Epoch 2/5\n",
      "4/4 [==============================] - 0s 34ms/step - loss: 250.9764 - accuracy: 0.6038 - val_loss: 11.3396 - val_accuracy: 0.9259\n",
      "Epoch 3/5\n",
      "4/4 [==============================] - 0s 27ms/step - loss: 14.4567 - accuracy: 0.8679 - val_loss: 0.6220 - val_accuracy: 0.9259\n",
      "Epoch 4/5\n",
      "4/4 [==============================] - 0s 32ms/step - loss: 0.6663 - accuracy: 0.8774 - val_loss: 0.6179 - val_accuracy: 0.9259\n",
      "Epoch 5/5\n",
      "4/4 [==============================] - 0s 31ms/step - loss: 0.6599 - accuracy: 0.8774 - val_loss: 0.5915 - val_accuracy: 0.9630\n",
      "1/1 [==============================] - 0s 54ms/step\n"
     ]
    }
   ],
   "source": [
    "NPH = 32\n",
    "numb_model = keras.models.Sequential([\n",
    "    keras.layers.Input(shape=(16689,)),\n",
    "    keras.layers.Dense(256, activation='relu'),\n",
    "    keras.layers.Dense(128, activation='relu'),\n",
    "    keras.layers.Dense(64, activation='relu'),\n",
    "    keras.layers.Dense(NPH, activation='relu'),\n",
    "    keras.layers.Dense(16, activation='relu'),\n",
    "    keras.layers.Dense(4, activation='relu'),\n",
    "    keras.layers.Dense(1, activation='sigmoid')\n",
    "])\n",
    "\n",
    "LOSS_FN = keras.losses.BinaryCrossentropy()\n",
    "\n",
    "numb_model.compile(optimizer='adam', loss=LOSS_FN, metrics=['accuracy'])\n",
    "\n",
    "history = numb_model.fit(X_N_train, y_N_train, epochs=5, validation_data=(X_N_test, y_N_test))\n",
    "\n",
    "y_pred_numb_binary_flat = (numb_model.predict(X_N_test).flatten() > 0.5).astype(int)"
   ]
  },
  {
   "cell_type": "code",
   "execution_count": 10,
   "metadata": {},
   "outputs": [],
   "source": [
    "# numb_model.summary()\n",
    "# numb_model.save(\"scaled_model.h5\")"
   ]
  },
  {
   "cell_type": "code",
   "execution_count": 24,
   "metadata": {},
   "outputs": [
    {
     "name": "stdout",
     "output_type": "stream",
     "text": [
      "Number: 0, Perceptron: 0 Actual: 0\n",
      "Number: 1, Perceptron: 1 Actual: 1\n",
      "Number: 1, Perceptron: 1 Actual: 1\n",
      "Number: 0, Perceptron: 0 Actual: 1\n",
      "Number: 0, Perceptron: 0 Actual: 0\n",
      "Number: 0, Perceptron: 0 Actual: 0\n",
      "Number: 0, Perceptron: 0 Actual: 0\n",
      "Number: 0, Perceptron: 0 Actual: 0\n",
      "Number: 0, Perceptron: 0 Actual: 0\n",
      "Number: 0, Perceptron: 0 Actual: 0\n",
      "Number: 0, Perceptron: 0 Actual: 0\n",
      "Number: 0, Perceptron: 0 Actual: 0\n",
      "Number: 0, Perceptron: 0 Actual: 0\n",
      "Number: 1, Perceptron: 1 Actual: 1\n",
      "Number: 0, Perceptron: 0 Actual: 0\n",
      "Number: 0, Perceptron: 0 Actual: 0\n",
      "Number: 0, Perceptron: 0 Actual: 0\n",
      "Number: 0, Perceptron: 0 Actual: 0\n",
      "Number: 0, Perceptron: 0 Actual: 0\n",
      "Number: 0, Perceptron: 0 Actual: 0\n",
      "Number: 0, Perceptron: 0 Actual: 0\n",
      "Number: 0, Perceptron: 0 Actual: 0\n",
      "Number: 0, Perceptron: 0 Actual: 0\n",
      "Number: 0, Perceptron: 0 Actual: 0\n",
      "Number: 1, Perceptron: 1 Actual: 1\n",
      "Number: 0, Perceptron: 1 Actual: 0\n",
      "Number: 0, Perceptron: 0 Actual: 0\n"
     ]
    }
   ],
   "source": [
    "for numb, percep, actual in zip(y_pred_numb_binary_flat, percepPredict, y_N_test):\n",
    "    print(f\"Number: {numb}, Perceptron: {percep} Actual: {actual}\")"
   ]
  },
  {
   "cell_type": "code",
   "execution_count": 25,
   "metadata": {},
   "outputs": [
    {
     "name": "stdout",
     "output_type": "stream",
     "text": [
      "1/1 [==============================] - 0s 23ms/step - loss: 0.5915 - accuracy: 0.9630\n",
      "0.9629629850387573\n"
     ]
    }
   ],
   "source": [
    "print(numb_model.evaluate(X_N_test,y_N_test)[1])\n",
    "#numb_model.save(\"haldmodel.h5\")"
   ]
  },
  {
   "cell_type": "code",
   "execution_count": 26,
   "metadata": {},
   "outputs": [
    {
     "data": {
      "text/plain": [
       "[<matplotlib.lines.Line2D at 0x1d7123c1730>]"
      ]
     },
     "execution_count": 26,
     "metadata": {},
     "output_type": "execute_result"
    },
    {
     "data": {
      "image/png": "[encoded data removed]",
      "text/plain": [
       "<Figure size 640x480 with 1 Axes>"
      ]
     },
     "metadata": {},
     "output_type": "display_data"
    }
   ],
   "source": [
    "plt.plot(history.history['loss'])\n",
    "plt.plot(history.history['val_loss'])"
   ]
  },
  {
   "cell_type": "code",
   "execution_count": 27,
   "metadata": {},
   "outputs": [
    {
     "data": {
      "text/plain": [
       "[<matplotlib.lines.Line2D at 0x1d7142eb400>]"
      ]
     },
     "execution_count": 27,
     "metadata": {},
     "output_type": "execute_result"
    },
    {
     "data": {
      "image/png": "[encoded data removed]",
      "text/plain": [
       "<Figure size 640x480 with 1 Axes>"
      ]
     },
     "metadata": {},
     "output_type": "display_data"
    }
   ],
   "source": [
    "plt.plot(history.history['accuracy'])\n",
    "plt.plot(history.history['val_accuracy'])"
   ]
  }
 ],
 "metadata": {
  "kernelspec": {
   "display_name": "Python 3",
   "language": "python",
   "name": "python3"
  },
  "language_info": {
   "codemirror_mode": {
    "name": "ipython",
    "version": 3
   },
   "file_extension": ".py",
   "mimetype": "text/x-python",
   "name": "python",
   "nbconvert_exporter": "python",
   "pygments_lexer": "ipython3",
   "version": "3.9.4"
  }
 },
 "nbformat": 4,
 "nbformat_minor": 2
}

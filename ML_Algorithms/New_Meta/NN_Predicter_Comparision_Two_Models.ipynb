{
 "cells": [
  {
   "cell_type": "code",
   "execution_count": 1,
   "metadata": {},
   "outputs": [],
   "source": [
    "import pandas as pd\n",
    "import numpy as np\n",
    "from sklearn.model_selection import train_test_split\n",
    "from tensorflow.keras.preprocessing.text import Tokenizer\n",
    "from tensorflow.keras.preprocessing.sequence import pad_sequences\n",
    "from tensorflow import keras\n",
    "from sklearn.linear_model import Perceptron\n",
    "from sklearn.metrics import accuracy_score"
   ]
  },
  {
   "cell_type": "code",
   "execution_count": 2,
   "metadata": {},
   "outputs": [],
   "source": [
    "text_x_src_path = '../../Dataset/mixed_text_assignment.json'\n",
    "numb_x_src_path = '../../Dataset/MixedDataSet.json'\n",
    "y_src_path = '../../DataBook/Mixed_Data_Analyst.xlsx'"
   ]
  },
  {
   "cell_type": "code",
   "execution_count": 3,
   "metadata": {},
   "outputs": [],
   "source": [
    "text_data = pd.read_json(text_x_src_path)\n",
    "numb_data = pd.read_json(numb_x_src_path)\n",
    "numb_data = numb_data.iloc[:, :-59022]"
   ]
  },
  {
   "cell_type": "code",
   "execution_count": 4,
   "metadata": {},
   "outputs": [],
   "source": [
    "df_supervision = pd.read_excel(y_src_path)\n",
    "plagiarised_array = df_supervision['Plagiarised'].astype(int).values"
   ]
  },
  {
   "cell_type": "code",
   "execution_count": 5,
   "metadata": {},
   "outputs": [],
   "source": [
    "texts = text_data.iloc[:, :].astype(str).values.tolist()\n",
    "\n",
    "texts = [[element if element != 'None' else '' for element in sublist] for sublist in texts]"
   ]
  },
  {
   "cell_type": "code",
   "execution_count": 6,
   "metadata": {},
   "outputs": [],
   "source": [
    "tokenizer = Tokenizer(num_words=10000, oov_token=\"<OOV>\") \n",
    "tokenizer.fit_on_texts(texts)\n",
    "sequences = tokenizer.texts_to_sequences(texts)\n",
    "\n",
    "max_sequence_len = max([len(seq) for seq in sequences])\n",
    "data_vectorized = pad_sequences(sequences, maxlen=max_sequence_len)"
   ]
  },
  {
   "cell_type": "code",
   "execution_count": 7,
   "metadata": {},
   "outputs": [],
   "source": [
    "X_T = data_vectorized\n",
    "X_N = np.nan_to_num(numb_data.values, nan=0, copy=True).astype(int)\n",
    "y = plagiarised_array\n",
    "from imblearn.over_sampling import SMOTE\n",
    "ros = SMOTE()\n",
    "X_resampled, y_resampled = ros.fit_resample(X_T, y)"
   ]
  },
  {
   "cell_type": "code",
   "execution_count": 8,
   "metadata": {},
   "outputs": [],
   "source": [
    "X_T_train, X_T_test, y_T_train, y_T_test = train_test_split(X_T, y, test_size=0.2, random_state=32)\n",
    "\n",
    "X_N_train, X_N_test, y_N_train, y_N_test = train_test_split(X_N, y, test_size=0.2, random_state=32)"
   ]
  },
  {
   "cell_type": "code",
   "execution_count": 9,
   "metadata": {},
   "outputs": [
    {
     "name": "stdout",
     "output_type": "stream",
     "text": [
      "Text Training data score: 1.0\n",
      "Text Test data score: 0.8888888888888888\n"
     ]
    }
   ],
   "source": [
    "textP = Perceptron()\n",
    "textP.fit(X_T_train,y_T_train)\n",
    "\n",
    "print(f\"Text Training data score: {textP.score(X_T_train, y_T_train)}\")\n",
    "print(f\"Text Test data score: {textP.score(X_T_test, y_T_test)}\")"
   ]
  },
  {
   "cell_type": "code",
   "execution_count": 10,
   "metadata": {},
   "outputs": [
    {
     "name": "stdout",
     "output_type": "stream",
     "text": [
      "Text Training data score: 0.9528301886792453\n",
      "Text Test data score: 0.9259259259259259\n"
     ]
    }
   ],
   "source": [
    "numbP = Perceptron()\n",
    "numbP.fit(X_N_train,y_N_train)\n",
    "\n",
    "percepPredict = numbP.predict(X_N_test)\n",
    "\n",
    "print(f\"Text Training data score: {numbP.score(X_N_train, y_N_train)}\")\n",
    "print(f\"Text Test data score: {numbP.score(X_N_test, y_N_test)}\")"
   ]
  },
  {
   "cell_type": "code",
   "execution_count": 11,
   "metadata": {},
   "outputs": [
    {
     "name": "stdout",
     "output_type": "stream",
     "text": [
      "Epoch 1/5\n",
      "4/4 [==============================] - 0s 28ms/step - loss: 5.7016 - accuracy: 0.7642 - val_loss: 1.3817 - val_accuracy: 0.6667\n",
      "Epoch 2/5\n",
      "4/4 [==============================] - 0s 6ms/step - loss: 1.4717 - accuracy: 0.8585 - val_loss: 0.6087 - val_accuracy: 0.8148\n",
      "Epoch 3/5\n",
      "4/4 [==============================] - 0s 6ms/step - loss: 0.4671 - accuracy: 0.9151 - val_loss: 0.4618 - val_accuracy: 0.8148\n",
      "Epoch 4/5\n",
      "4/4 [==============================] - 0s 5ms/step - loss: 0.1136 - accuracy: 0.9528 - val_loss: 0.4407 - val_accuracy: 0.8148\n",
      "Epoch 5/5\n",
      "4/4 [==============================] - 0s 5ms/step - loss: 0.0307 - accuracy: 1.0000 - val_loss: 0.5936 - val_accuracy: 0.7778\n",
      "1/1 [==============================] - 0s 34ms/step\n"
     ]
    }
   ],
   "source": [
    "text_model = keras.models.Sequential([\n",
    "    keras.layers.Input(shape=(10315,)),\n",
    "    keras.layers.Dense(32, activation='relu'),\n",
    "    keras.layers.Dense(32, activation='relu'),\n",
    "    keras.layers.Dense(32, activation='relu'),\n",
    "    keras.layers.Dense(1, activation='sigmoid')\n",
    "])\n",
    "\n",
    "LOSS_FN = keras.losses.BinaryCrossentropy()\n",
    "\n",
    "text_model.compile(optimizer='adam', loss=LOSS_FN, metrics=['accuracy'])\n",
    "\n",
    "text_model.fit(X_T_train, y_T_train, epochs=5, validation_data=(X_T_test, y_T_test))\n",
    "\n",
    "y_pred_text_binary_flat = (text_model.predict(X_T_test).flatten() > 0.5).astype(int)"
   ]
  },
  {
   "cell_type": "code",
   "execution_count": 12,
   "metadata": {},
   "outputs": [
    {
     "name": "stdout",
     "output_type": "stream",
     "text": [
      "Epoch 1/5\n",
      "4/4 [==============================] - 0s 27ms/step - loss: 454.8592 - accuracy: 0.1698 - val_loss: 40.5545 - val_accuracy: 0.9630\n",
      "Epoch 2/5\n",
      "4/4 [==============================] - 0s 6ms/step - loss: 207.4740 - accuracy: 0.8396 - val_loss: 69.5049 - val_accuracy: 0.6296\n",
      "Epoch 3/5\n",
      "4/4 [==============================] - 0s 6ms/step - loss: 141.8384 - accuracy: 0.6604 - val_loss: 33.7465 - val_accuracy: 0.8148\n",
      "Epoch 4/5\n",
      "4/4 [==============================] - 0s 8ms/step - loss: 118.9054 - accuracy: 0.8491 - val_loss: 213.4538 - val_accuracy: 0.4815\n",
      "Epoch 5/5\n",
      "4/4 [==============================] - 0s 9ms/step - loss: 122.9477 - accuracy: 0.6509 - val_loss: 39.5663 - val_accuracy: 0.8148\n",
      "1/1 [==============================] - 0s 32ms/step\n"
     ]
    }
   ],
   "source": [
    "NPH = 32\n",
    "numb_model = keras.models.Sequential([\n",
    "    keras.layers.Input(shape=(16689,)),\n",
    "    keras.layers.Dense(NPH, activation='relu'),\n",
    "    keras.layers.Dense(NPH, activation='relu'),\n",
    "    keras.layers.Dense(NPH, activation='relu'),\n",
    "    keras.layers.Dense(NPH, activation='relu'),\n",
    "    keras.layers.Dense(NPH, activation='relu'),\n",
    "    keras.layers.Dense(NPH, activation='relu'),\n",
    "    keras.layers.Dense(1, activation='sigmoid')\n",
    "])\n",
    "\n",
    "LOSS_FN = keras.losses.BinaryCrossentropy()\n",
    "\n",
    "numb_model.compile(optimizer='adam', loss=LOSS_FN, metrics=['accuracy'])\n",
    "\n",
    "numb_model.fit(X_N_train, y_N_train, epochs=5, validation_data=(X_N_test, y_N_test))\n",
    "\n",
    "y_pred_numb_binary_flat = (numb_model.predict(X_N_test).flatten() > 0.5).astype(int)"
   ]
  },
  {
   "cell_type": "code",
   "execution_count": null,
   "metadata": {},
   "outputs": [],
   "source": []
  },
  {
   "cell_type": "code",
   "execution_count": 13,
   "metadata": {},
   "outputs": [
    {
     "name": "stdout",
     "output_type": "stream",
     "text": [
      "Number: 0, Textual: 0 Actual: 0\n",
      "Number: 0, Textual: 1 Actual: 1\n",
      "Number: 0, Textual: 0 Actual: 1\n",
      "Number: 0, Textual: 1 Actual: 1\n",
      "Number: 0, Textual: 0 Actual: 0\n",
      "Number: 0, Textual: 0 Actual: 0\n",
      "Number: 0, Textual: 0 Actual: 0\n",
      "Number: 0, Textual: 0 Actual: 0\n",
      "Number: 0, Textual: 1 Actual: 0\n",
      "Number: 0, Textual: 0 Actual: 0\n",
      "Number: 0, Textual: 0 Actual: 0\n",
      "Number: 0, Textual: 1 Actual: 0\n",
      "Number: 0, Textual: 1 Actual: 0\n",
      "Number: 0, Textual: 1 Actual: 1\n",
      "Number: 0, Textual: 0 Actual: 0\n",
      "Number: 0, Textual: 0 Actual: 0\n",
      "Number: 0, Textual: 0 Actual: 0\n",
      "Number: 0, Textual: 1 Actual: 0\n",
      "Number: 0, Textual: 0 Actual: 0\n",
      "Number: 0, Textual: 1 Actual: 0\n",
      "Number: 0, Textual: 0 Actual: 0\n",
      "Number: 0, Textual: 0 Actual: 0\n",
      "Number: 0, Textual: 0 Actual: 0\n",
      "Number: 0, Textual: 0 Actual: 0\n",
      "Number: 0, Textual: 1 Actual: 1\n",
      "Number: 0, Textual: 0 Actual: 0\n",
      "Number: 0, Textual: 0 Actual: 0\n"
     ]
    }
   ],
   "source": [
    "for numb, text, actual in zip(y_pred_numb_binary_flat, y_pred_text_binary_flat, y_N_test):\n",
    "    print(f\"Number: {numb}, Textual: {text} Actual: {actual}\")"
   ]
  },
  {
   "cell_type": "code",
   "execution_count": 14,
   "metadata": {},
   "outputs": [
    {
     "name": "stdout",
     "output_type": "stream",
     "text": [
      "1/1 [==============================] - 0s 12ms/step - loss: 0.5936 - accuracy: 0.7778\n",
      "0.7777777910232544\n",
      "1/1 [==============================] - 0s 11ms/step - loss: 39.5663 - accuracy: 0.8148\n",
      "0.8148148059844971\n"
     ]
    }
   ],
   "source": [
    "print(text_model.evaluate(X_T_test,y_T_test)[1])\n",
    "print(numb_model.evaluate(X_N_test,y_N_test)[1])"
   ]
  }
 ],
 "metadata": {
  "kernelspec": {
   "display_name": "Python 3",
   "language": "python",
   "name": "python3"
  },
  "language_info": {
   "codemirror_mode": {
    "name": "ipython",
    "version": 3
   },
   "file_extension": ".py",
   "mimetype": "text/x-python",
   "name": "python",
   "nbconvert_exporter": "python",
   "pygments_lexer": "ipython3",
   "version": "3.11.2"
  }
 },
 "nbformat": 4,
 "nbformat_minor": 2
}

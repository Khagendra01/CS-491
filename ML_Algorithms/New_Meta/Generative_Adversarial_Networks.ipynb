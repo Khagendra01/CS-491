{
 "cells": [
  {
   "cell_type": "code",
   "execution_count": 1,
   "metadata": {},
   "outputs": [],
   "source": [
    "import tensorflow as tf\n",
    "from tensorflow.keras.layers import Dense, LeakyReLU\n",
    "from tensorflow.keras.models import Sequential\n",
    "import numpy as np\n",
    "import pandas as pd\n",
    "\n",
    "# For reproducibility\n",
    "np.random.seed(42)\n",
    "tf.random.set_seed(42)\n"
   ]
  },
  {
   "cell_type": "code",
   "execution_count": 2,
   "metadata": {},
   "outputs": [],
   "source": [
    "# Load the JSON and Excel datasets\n",
    "x_df = pd.read_json('../../DataSet/assignment1New.json')\n",
    "# y_df = pd.read_excel('../DataBook/crafAssign/Assignment1_Data_Analyst.xlsx')\n",
    "\n",
    "# # Display the first few rows of each DataFrame\n",
    "# print(\"x_df head:\\n\", x_df.head())\n",
    "# print(\"y_df head:\\n\", y_df.head())\n"
   ]
  },
  {
   "cell_type": "code",
   "execution_count": 3,
   "metadata": {},
   "outputs": [],
   "source": [
    "# # Load the Excel dataset from the specified path\n",
    "# excel_path = '../../DataBook/crafAssign/Assignment1_Data_Analyst.xlsx'\n",
    "# try:\n",
    "#     y_df = pd.read_excel(excel_path)\n",
    "#     print(\"Data loaded successfully.\")\n",
    "#     print(\"First few rows:\")\n",
    "#     print(y_df.head())\n",
    "# except FileNotFoundError:\n",
    "#     print(f\"File '{excel_path}' not found. Please check the file path.\")\n",
    "# except Exception as e:\n",
    "#     print(f\"Error loading Excel file: {str(e)}\")\n",
    "\n"
   ]
  },
  {
   "cell_type": "code",
   "execution_count": null,
   "metadata": {},
   "outputs": [],
   "source": []
  },
  {
   "cell_type": "code",
   "execution_count": null,
   "metadata": {},
   "outputs": [],
   "source": []
  },
  {
   "cell_type": "code",
   "execution_count": null,
   "metadata": {},
   "outputs": [],
   "source": []
  },
  {
   "cell_type": "code",
   "execution_count": null,
   "metadata": {},
   "outputs": [],
   "source": []
  }
 ],
 "metadata": {
  "kernelspec": {
   "display_name": "Python 3",
   "language": "python",
   "name": "python3"
  },
  "language_info": {
   "codemirror_mode": {
    "name": "ipython",
    "version": 3
   },
   "file_extension": ".py",
   "mimetype": "text/x-python",
   "name": "python",
   "nbconvert_exporter": "python",
   "pygments_lexer": "ipython3",
   "version": "3.11.2"
  }
 },
 "nbformat": 4,
 "nbformat_minor": 2
}

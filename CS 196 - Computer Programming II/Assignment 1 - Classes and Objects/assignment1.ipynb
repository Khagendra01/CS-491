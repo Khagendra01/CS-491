{
 "cells": [
  {
   "cell_type": "code",
   "execution_count": 2,
   "metadata": {},
   "outputs": [
    {
     "name": "stdout",
     "output_type": "stream",
     "text": [
      "OrangeCat\n",
      "2\n"
     ]
    }
   ],
   "source": [
    "class MyCat:\n",
    "\n",
    "    def __init__(self, x, y):\n",
    "        self.name = x\n",
    "        self.age = y\n",
    "\n",
    "\n",
    "newCat = MyCat(\"OrangeCat\", 2)\n",
    "\n",
    "print(newCat.name)\n",
    "print(newCat.age)\n",
    "\n",
    "\n"
   ]
  }
 ],
 "metadata": {
  "kernelspec": {
   "display_name": "Python 3",
   "language": "python",
   "name": "python3"
  },
  "language_info": {
   "codemirror_mode": {
    "name": "ipython",
    "version": 3
   },
   "file_extension": ".py",
   "mimetype": "text/x-python",
   "name": "python",
   "nbconvert_exporter": "python",
   "pygments_lexer": "ipython3",
   "version": "3.9.4"
  }
 },
 "nbformat": 4,
 "nbformat_minor": 2
}

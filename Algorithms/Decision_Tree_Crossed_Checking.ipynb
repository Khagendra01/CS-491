{
 "cells": [
  {
   "cell_type": "code",
   "execution_count": 2,
   "metadata": {},
   "outputs": [],
   "source": [
    "import pandas as pd\n",
    "import numpy as np\n",
    "from sklearn import datasets\n",
    "from sklearn.tree import DecisionTreeClassifier\n",
    "from sklearn.metrics import accuracy_score\n",
    "from sklearn.metrics import confusion_matrix\n",
    "import matplotlib.pyplot as plt\n",
    "from sklearn.impute import SimpleImputer"
   ]
  },
  {
   "cell_type": "code",
   "execution_count": 3,
   "metadata": {},
   "outputs": [],
   "source": [
    "train_x_src_path = '../Dataset/assignment2New.json'\n",
    "train_y_src_path = '../DataBook/Assignment2_Data_Analyst.xlsx'\n",
    "\n",
    "test_x_src_path = '../Dataset/assignment1New.json'\n",
    "test_y_src_path = '../DataBook/Assignment1_Data_Analyst.xlsx'"
   ]
  },
  {
   "cell_type": "code",
   "execution_count": 4,
   "metadata": {},
   "outputs": [],
   "source": [
    "train_data = pd.read_json(train_x_src_path)\n",
    "test_data = pd.read_json(test_x_src_path)"
   ]
  },
  {
   "cell_type": "code",
   "execution_count": 5,
   "metadata": {},
   "outputs": [],
   "source": [
    "train_df_supervision = pd.read_excel(train_y_src_path)\n",
    "train_plagiarised_array = train_df_supervision['Plagiarised'].astype(int).values\n",
    "\n",
    "test_df_supervision = pd.read_excel(test_y_src_path)\n",
    "test_plagiarised_array = test_df_supervision['Plagiarised'].astype(int).values"
   ]
  },
  {
   "cell_type": "code",
   "execution_count": 6,
   "metadata": {},
   "outputs": [],
   "source": [
    "X_train = np.nan_to_num(train_data.values, nan=0, copy=True).astype(int)\n",
    "y_train = train_plagiarised_array\n",
    "\n",
    "X_test = np.nan_to_num(test_data.values, nan=0, copy=True).astype(int)\n",
    "y_test = test_plagiarised_array"
   ]
  },
  {
   "cell_type": "code",
   "execution_count": 7,
   "metadata": {},
   "outputs": [],
   "source": [
    "difference_in_columns = X_test.shape[1] - X_train.shape[1]\n",
    "\n",
    "# if difference_in_columns > 0:\n",
    "#     last_values = X_train[:, -1]\n",
    "#     new_columns = np.tile(last_values, (difference_in_columns, 1)).T\n",
    "#     X_train_extended = np.hstack((X_train, new_columns))\n",
    "#     X_test_extended = X_test\n",
    "# elif difference_in_columns < 0:\n",
    "#     last_values = X_test[:, -1]\n",
    "#     new_columns = np.tile(last_values, (-difference_in_columns, 1)).T\n",
    "#     X_test_extended = np.hstack((X_test, new_columns))\n",
    "#     X_train_extended = X_train\n",
    "# else:\n",
    "#     X_train_extended = X_train\n",
    "#     X_test_extended = X_test\n",
    "\n",
    "if difference_in_columns > 0:\n",
    "    new_columns = np.zeros((X_train.shape[0], difference_in_columns))\n",
    "    X_train_extended = np.hstack((X_train, new_columns))\n",
    "    X_test_extended = X_test\n",
    "\n",
    "elif difference_in_columns < 0:\n",
    "    new_columns = np.zeros((X_test.shape[0], -difference_in_columns))\n",
    "    X_test_extended = np.hstack((X_test, new_columns))\n",
    "    X_train_extended = X_train\n",
    "\n",
    "else:\n",
    "    X_train_extended = X_train\n",
    "    X_test_extended = X_test"
   ]
  },
  {
   "cell_type": "code",
   "execution_count": 8,
   "metadata": {},
   "outputs": [
    {
     "data": {
      "text/plain": [
       "0.6296296296296297"
      ]
     },
     "execution_count": 8,
     "metadata": {},
     "output_type": "execute_result"
    }
   ],
   "source": [
    "p = DecisionTreeClassifier()\n",
    "p.fit(X_train_extended,y_train)\n",
    "\n",
    "y_pred = p.predict(X_test_extended)\n",
    "\n",
    "# Calculate the accuracy of the classifier\n",
    "accuracy = accuracy_score(y_test, y_pred)\n",
    "\n",
    "y_pred_train = p.predict(X_train_extended)\n",
    "\n",
    "# Calculate the accuracy of the classifier\n",
    "train_accuracy = accuracy_score(y_train, y_pred_train)\n",
    "accuracy"
   ]
  }
 ],
 "metadata": {
  "kernelspec": {
   "display_name": "Python 3",
   "language": "python",
   "name": "python3"
  },
  "language_info": {
   "codemirror_mode": {
    "name": "ipython",
    "version": 3
   },
   "file_extension": ".py",
   "mimetype": "text/x-python",
   "name": "python",
   "nbconvert_exporter": "python",
   "pygments_lexer": "ipython3",
   "version": "3.9.4"
  }
 },
 "nbformat": 4,
 "nbformat_minor": 2
}

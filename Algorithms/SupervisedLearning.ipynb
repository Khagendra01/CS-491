{
 "cells": [
  {
   "cell_type": "code",
   "execution_count": 1,
   "metadata": {},
   "outputs": [],
   "source": [
    "import json\n",
    "\n",
    "src_path = '../DataSet/'\n"
   ]
  },
  {
   "cell_type": "code",
   "execution_count": null,
   "metadata": {},
   "outputs": [],
   "source": [
    "assignment_path = src_path + 'assignment1.submit'\n",
    "\n",
    "with open(assignment_path, 'r') as assignmentFile:\n",
    "    json_data = json.load(assignmentFile)\n",
    "\n",
    "    # Extract the \"log\" field from the parsed JSON\n",
    "    log_field = json_data['submission']['logs'][0]['log']\n",
    "   "
   ]
  },
  {
   "cell_type": "code",
   "execution_count": null,
   "metadata": {},
   "outputs": [],
   "source": [
    "# Split the log_field into individual JSON objects\n",
    "logs = log_field.strip().split('\\n')\n",
    "\n",
    "# Define dictionaries to hold information for each timestamp\n",
    "knowledge_base = {}\n",
    "\n",
    "# Iterate over each log entry\n",
    "for log in logs:\n",
    "    data = json.loads(log)\n",
    "    timestamp = data.get('t')\n",
    "    cell_number = data.get('u')\n",
    "    new_value = data.get('v')\n",
    "    insert_data = data.get('^')\n",
    "    cursor_position = data.get('|')\n",
    "    cursor_position_in_file = data.get('_c')\n",
    "    total_chars_in_file = data.get('_cs')\n",
    "    current_line_number = data.get('_l')\n",
    "    total_lines_in_file = data.get('_ls')\n",
    "\n",
    "    knowledge_base[timestamp] = {\n",
    "        'cell_number': cell_number,\n",
    "        'new_value': new_value,\n",
    "        'insert_data': insert_data,\n",
    "        'cursor_position': cursor_position,\n",
    "        'cursor_position_in_file': cursor_position_in_file,\n",
    "        'total_chars_in_file': total_chars_in_file,\n",
    "        'current_line_number': current_line_number,\n",
    "        'total_lines_in_file': total_lines_in_file\n",
    "    }"
   ]
  },
  {
   "cell_type": "code",
   "execution_count": null,
   "metadata": {},
   "outputs": [],
   "source": [
    "# Print the knowledge_base\n",
    "for timestamp, comment_data in knowledge_base.items():\n",
    "    print(f'Timestamp: {timestamp}')\n",
    "    print(f'Cell Number: {comment_data[\"cell_number\"]}')\n",
    "    print(f'New Value: {comment_data[\"new_value\"]}')\n",
    "    print(f'Insert Data: {comment_data[\"insert_data\"]}')\n",
    "    print(f'Cursor Position: {comment_data[\"cursor_position\"]}')\n",
    "    print(f'Cursor Position in File: {comment_data[\"cursor_position_in_file\"]}')\n",
    "    print(f'Total Chars in File: {comment_data[\"total_chars_in_file\"]}')\n",
    "    print(f'Current Line Number: {comment_data[\"current_line_number\"]}')\n",
    "    print(f'Total Lines in File: {comment_data[\"total_lines_in_file\"]}')\n",
    "    print('---------------------------')"
   ]
  }
 ],
 "metadata": {
  "kernelspec": {
   "display_name": "Python 3",
   "language": "python",
   "name": "python3"
  },
  "language_info": {
   "codemirror_mode": {
    "name": "ipython",
    "version": 3
   },
   "file_extension": ".py",
   "mimetype": "text/x-python",
   "name": "python",
   "nbconvert_exporter": "python",
   "pygments_lexer": "ipython3",
   "version": "3.9.4"
  }
 },
 "nbformat": 4,
 "nbformat_minor": 2
}

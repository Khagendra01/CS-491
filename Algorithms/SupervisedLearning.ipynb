{
 "cells": [
  {
   "cell_type": "code",
   "execution_count": 30,
   "metadata": {},
   "outputs": [],
   "source": [
    "#!pip3 install numpy"
   ]
  },
  {
   "cell_type": "code",
   "execution_count": 31,
   "metadata": {},
   "outputs": [],
   "source": [
    "import json\n",
    "\n",
    "src_path = '../DataSet/'\n"
   ]
  },
  {
   "cell_type": "code",
   "execution_count": 38,
   "metadata": {},
   "outputs": [
    {
     "ename": "KeyError",
     "evalue": "0",
     "output_type": "error",
     "traceback": [
      "\u001b[0;31m---------------------------------------------------------------------------\u001b[0m",
      "\u001b[0;31mKeyError\u001b[0m                                  Traceback (most recent call last)",
      "\u001b[1;32m/Users/kgen/CS-498/Algorithms/SupervisedLearning.ipynb Cell 3\u001b[0m line \u001b[0;36m7\n\u001b[1;32m      <a href='vscode-notebook-cell:/Users/kgen/CS-498/Algorithms/SupervisedLearning.ipynb#W2sZmlsZQ%3D%3D?line=3'>4</a>\u001b[0m json_data \u001b[39m=\u001b[39m json\u001b[39m.\u001b[39mload(assignmentFile)\n\u001b[1;32m      <a href='vscode-notebook-cell:/Users/kgen/CS-498/Algorithms/SupervisedLearning.ipynb#W2sZmlsZQ%3D%3D?line=5'>6</a>\u001b[0m \u001b[39m# Extract the \"log\" field from the parsed JSON\u001b[39;00m\n\u001b[0;32m----> <a href='vscode-notebook-cell:/Users/kgen/CS-498/Algorithms/SupervisedLearning.ipynb#W2sZmlsZQ%3D%3D?line=6'>7</a>\u001b[0m log_field \u001b[39m=\u001b[39m json_data[\u001b[39m'\u001b[39;49m\u001b[39msubmission\u001b[39;49m\u001b[39m'\u001b[39;49m][\u001b[39m0\u001b[39;49m][\u001b[39m'\u001b[39m\u001b[39mlogs\u001b[39m\u001b[39m'\u001b[39m]\n\u001b[1;32m      <a href='vscode-notebook-cell:/Users/kgen/CS-498/Algorithms/SupervisedLearning.ipynb#W2sZmlsZQ%3D%3D?line=8'>9</a>\u001b[0m \u001b[39m# Split the log_field into separate JSON objects\u001b[39;00m\n\u001b[1;32m     <a href='vscode-notebook-cell:/Users/kgen/CS-498/Algorithms/SupervisedLearning.ipynb#W2sZmlsZQ%3D%3D?line=9'>10</a>\u001b[0m log_objects \u001b[39m=\u001b[39m log_field\u001b[39m.\u001b[39msplit(\u001b[39m'\u001b[39m\u001b[39m\\n\u001b[39;00m\u001b[39m'\u001b[39m)\n",
      "\u001b[0;31mKeyError\u001b[0m: 0"
     ]
    }
   ],
   "source": [
    "assignment_path = src_path + 'assignment1.submit'\n",
    "\n",
    "with open(assignment_path, 'r') as assignmentFile:\n",
    "    json_data = json.load(assignmentFile)\n",
    "\n",
    "    # Extract the \"log\" field from the parsed JSON\n",
    "    log_field = json_data['submission'][0]['logs']\n",
    "\n",
    "    # Split the log_field into separate JSON objects\n",
    "    log_objects = log_field.split('\\n')\n",
    "\n",
    "    # Initialize log_data variable\n",
    "    log_data = []\n",
    "\n",
    "# Iterate over each JSON object, parse it, and append to log_data list\n",
    "for log_obj in log_objects:\n",
    "    if log_obj.strip():  # Check if the line is not empty\n",
    "        log_data.append(json.loads(log_obj))\n",
    "\n",
    "#print(log_data)\n",
    "    "
   ]
  }
 ],
 "metadata": {
  "kernelspec": {
   "display_name": "Python 3",
   "language": "python",
   "name": "python3"
  },
  "language_info": {
   "codemirror_mode": {
    "name": "ipython",
    "version": 3
   },
   "file_extension": ".py",
   "mimetype": "text/x-python",
   "name": "python",
   "nbconvert_exporter": "python",
   "pygments_lexer": "ipython3",
   "version": "3.9.4"
  }
 },
 "nbformat": 4,
 "nbformat_minor": 2
}

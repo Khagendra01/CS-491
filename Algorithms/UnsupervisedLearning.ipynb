{
 "cells": [
  {
   "cell_type": "code",
   "execution_count": null,
   "metadata": {},
   "outputs": [],
   "source": [
    "#Not uploaded to the Github"
   ]
  },
  {
   "cell_type": "code",
   "execution_count": null,
   "metadata": {},
   "outputs": [],
   "source": []
  },
  {
   "cell_type": "markdown",
   "metadata": {},
   "source": [
    "#The main idea for unsupervised learning is that we will extract some kind of data that will be similar among plaziarized and unplaziarized without telling the computer and cluster it.\n",
    "The perceptron will know on which side the new data will belong"
   ]
  }
 ],
 "metadata": {
  "language_info": {
   "name": "python"
  }
 },
 "nbformat": 4,
 "nbformat_minor": 2
}

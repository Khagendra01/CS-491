{
 "cells": [
  {
   "cell_type": "code",
   "execution_count": 18,
   "metadata": {},
   "outputs": [],
   "source": [
    "#!pip3 install tensorflow -q"
   ]
  },
  {
   "cell_type": "code",
   "execution_count": 19,
   "metadata": {},
   "outputs": [],
   "source": [
    "import pandas as pd\n",
    "import numpy as np\n",
    "import json\n",
    "from tensorflow import keras\n",
    "from sklearn.linear_model import Perceptron\n",
    "from sklearn.model_selection import train_test_split\n",
    "from sklearn.impute import SimpleImputer\n",
    "from sklearn.metrics import confusion_matrix\n",
    "import matplotlib.pyplot as plt\n",
    "from tensorflow.keras.preprocessing.sequence import pad_sequences"
   ]
  },
  {
   "cell_type": "code",
   "execution_count": 20,
   "metadata": {},
   "outputs": [],
   "source": [
    "x_src_path = '../Dataset/assignment1.json'\n",
    "y_src_path = '../DataBook/Assignment1_Data_Analyst.xlsx'"
   ]
  },
  {
   "cell_type": "code",
   "execution_count": 21,
   "metadata": {},
   "outputs": [],
   "source": [
    "data = pd.read_json(x_src_path)\n"
   ]
  },
  {
   "cell_type": "code",
   "execution_count": 22,
   "metadata": {},
   "outputs": [],
   "source": [
    "df_supervision = pd.read_excel(y_src_path)\n",
    "plagiarised_array = df_supervision['Plagiarised'].astype(int).values"
   ]
  },
  {
   "cell_type": "code",
   "execution_count": 23,
   "metadata": {},
   "outputs": [
    {
     "ename": "OverflowError",
     "evalue": "Python int too large to convert to C long",
     "output_type": "error",
     "traceback": [
      "\u001b[1;31m---------------------------------------------------------------------------\u001b[0m",
      "\u001b[1;31mOverflowError\u001b[0m                             Traceback (most recent call last)",
      "Cell \u001b[1;32mIn[23], line 13\u001b[0m\n\u001b[0;32m     11\u001b[0m \u001b[38;5;66;03m# Pad the lists with zeros to the maximum length\u001b[39;00m\n\u001b[0;32m     12\u001b[0m X_padded \u001b[38;5;241m=\u001b[39m np\u001b[38;5;241m.\u001b[39marray([np\u001b[38;5;241m.\u001b[39mpad(sublist, (\u001b[38;5;241m0\u001b[39m, max_len \u001b[38;5;241m-\u001b[39m \u001b[38;5;28mlen\u001b[39m(sublist)), \u001b[38;5;124m'\u001b[39m\u001b[38;5;124mconstant\u001b[39m\u001b[38;5;124m'\u001b[39m, constant_values\u001b[38;5;241m=\u001b[39m(\u001b[38;5;241m0.0\u001b[39m, \u001b[38;5;241m0.0\u001b[39m)) \u001b[38;5;28;01mfor\u001b[39;00m sublist \u001b[38;5;129;01min\u001b[39;00m X_array])\n\u001b[1;32m---> 13\u001b[0m X_padded \u001b[38;5;241m=\u001b[39m \u001b[43mX_padded\u001b[49m\u001b[38;5;241;43m.\u001b[39;49m\u001b[43mastype\u001b[49m\u001b[43m(\u001b[49m\u001b[38;5;28;43mint\u001b[39;49m\u001b[43m)\u001b[49m\n",
      "\u001b[1;31mOverflowError\u001b[0m: Python int too large to convert to C long"
     ]
    }
   ],
   "source": [
    "X = data.values\n",
    "# Replace None with a default value (e.g., [0.0, 0.0, 0.0])\n",
    "X = [[[0.0, 0.0, 0.0] if item is None else item for item in sublist] for sublist in X]\n",
    "\n",
    "# Convert the list to a NumPy array\n",
    "X_array = np.array(X, dtype=object)\n",
    "\n",
    "# Determine the maximum length of the lists within the array\n",
    "max_len = max(len(sublist) for sublist in X_array)\n",
    "\n",
    "# Pad the lists with zeros to the maximum length\n",
    "X_padded = np.array([np.pad(sublist, (0, max_len - len(sublist)), 'constant', constant_values=(0.0, 0.0)) for sublist in X_array])\n",
    "X_padded = X_padded.astype(int)"
   ]
  },
  {
   "cell_type": "code",
   "execution_count": null,
   "metadata": {},
   "outputs": [],
   "source": [
    "X = X_padded\n",
    "y = plagiarised_array"
   ]
  },
  {
   "cell_type": "code",
   "execution_count": null,
   "metadata": {},
   "outputs": [
    {
     "data": {
      "text/plain": [
       "array([[[1706560727503, 0.0, 0.0],\n",
       "        [1706560730105, 0.0, 0.0],\n",
       "        [1706560730129, 0.0, 0.0],\n",
       "        ...,\n",
       "        [0.0, 0.0, 0.0],\n",
       "        [0.0, 0.0, 0.0],\n",
       "        [0.0, 0.0, 0.0]],\n",
       "\n",
       "       [[1706560190537, 0.0, 0.0],\n",
       "        [1706560212575, 0.0, 0.0],\n",
       "        [1706560217012, 0.0, 0.0],\n",
       "        ...,\n",
       "        [0.0, 0.0, 0.0],\n",
       "        [0.0, 0.0, 0.0],\n",
       "        [0.0, 0.0, 0.0]],\n",
       "\n",
       "       [[1706992495964, 0.0, 0.0],\n",
       "        [1706993686727, 0.0, 0.0],\n",
       "        [1706993689123, 0.0, 0.0],\n",
       "        ...,\n",
       "        [0.0, 0.0, 0.0],\n",
       "        [0.0, 0.0, 0.0],\n",
       "        [0.0, 0.0, 0.0]],\n",
       "\n",
       "       ...,\n",
       "\n",
       "       [[1706560179936, 0.0, 0.0],\n",
       "        [1706560182868, 0.0, 0.0],\n",
       "        [1706560201909, 0.0, 0.0],\n",
       "        ...,\n",
       "        [0.0, 0.0, 0.0],\n",
       "        [0.0, 0.0, 0.0],\n",
       "        [0.0, 0.0, 0.0]],\n",
       "\n",
       "       [[1706726265694, 0.0, 0.0],\n",
       "        [1706726269767, 0.0, 0.0],\n",
       "        [1706726269791, 1.0, 1.0],\n",
       "        ...,\n",
       "        [0.0, 0.0, 0.0],\n",
       "        [0.0, 0.0, 0.0],\n",
       "        [0.0, 0.0, 0.0]],\n",
       "\n",
       "       [[1707149723665, 0.0, 0.0],\n",
       "        [1707150006411, 0.0, 0.0],\n",
       "        [1707150013551, 0.0, 0.0],\n",
       "        ...,\n",
       "        [0.0, 0.0, 0.0],\n",
       "        [0.0, 0.0, 0.0],\n",
       "        [0.0, 0.0, 0.0]]], dtype=object)"
      ]
     },
     "execution_count": 17,
     "metadata": {},
     "output_type": "execute_result"
    }
   ],
   "source": [
    "X"
   ]
  },
  {
   "cell_type": "code",
   "execution_count": null,
   "metadata": {},
   "outputs": [],
   "source": [
    "X_train, X_test, y_train, y_test = train_test_split(X, y, test_size=0.2)"
   ]
  },
  {
   "cell_type": "code",
   "execution_count": null,
   "metadata": {},
   "outputs": [],
   "source": [
    "x_train_flat = X_train.reshape(X_train.shape[0], -1)\n",
    "x_test_flat = X_test.reshape(X_test.shape[0], -1)"
   ]
  },
  {
   "cell_type": "code",
   "execution_count": null,
   "metadata": {},
   "outputs": [
    {
     "name": "stdout",
     "output_type": "stream",
     "text": [
      "True\n"
     ]
    }
   ],
   "source": [
    "X_numeric = x_train_flat.astype(float)\n",
    "\n",
    "# Check for NaN values\n",
    "has_nan = np.isnan(X_numeric).any()\n",
    "\n",
    "print(has_nan)"
   ]
  },
  {
   "cell_type": "code",
   "execution_count": null,
   "metadata": {},
   "outputs": [],
   "source": [
    "perceptron = Perceptron()\n",
    "perceptron.fit(x_train_flat, y_train)\n",
    "\n",
    "# print train and test accuracy scores\n",
    "print(f\"Training data score: {perceptron.score(x_train_flat, y_train)}\")\n",
    "print(f\"Training data score: {perceptron.score(x_test_flat, y_test)}\")"
   ]
  },
  {
   "cell_type": "code",
   "execution_count": null,
   "metadata": {},
   "outputs": [
    {
     "name": "stdout",
     "output_type": "stream",
     "text": [
      "WARNING:tensorflow:From c:\\Users\\K-Gen\\AppData\\Local\\Programs\\Python\\Python39\\lib\\site-packages\\keras\\src\\backend.py:873: The name tf.get_default_graph is deprecated. Please use tf.compat.v1.get_default_graph instead.\n",
      "\n",
      "WARNING:tensorflow:From c:\\Users\\K-Gen\\AppData\\Local\\Programs\\Python\\Python39\\lib\\site-packages\\keras\\src\\optimizers\\__init__.py:309: The name tf.train.Optimizer is deprecated. Please use tf.compat.v1.train.Optimizer instead.\n",
      "\n",
      "Epoch 1/5\n",
      "WARNING:tensorflow:From c:\\Users\\K-Gen\\AppData\\Local\\Programs\\Python\\Python39\\lib\\site-packages\\keras\\src\\utils\\tf_utils.py:492: The name tf.ragged.RaggedTensorValue is deprecated. Please use tf.compat.v1.ragged.RaggedTensorValue instead.\n",
      "\n",
      "WARNING:tensorflow:From c:\\Users\\K-Gen\\AppData\\Local\\Programs\\Python\\Python39\\lib\\site-packages\\keras\\src\\engine\\base_layer_utils.py:384: The name tf.executing_eagerly_outside_functions is deprecated. Please use tf.compat.v1.executing_eagerly_outside_functions instead.\n",
      "\n",
      "2/2 [==============================] - 1s 142ms/step - loss: 1732.3601 - accuracy: 0.2326 - val_loss: 2027.1952 - val_accuracy: 0.3636\n",
      "Epoch 2/5\n",
      "2/2 [==============================] - 0s 31ms/step - loss: 1189.7917 - accuracy: 0.4651 - val_loss: 836.0984 - val_accuracy: 0.9091\n",
      "Epoch 3/5\n",
      "2/2 [==============================] - 0s 26ms/step - loss: 997.0189 - accuracy: 0.9070 - val_loss: 1361.5657 - val_accuracy: 0.9091\n",
      "Epoch 4/5\n",
      "2/2 [==============================] - 0s 25ms/step - loss: 1631.8879 - accuracy: 0.9070 - val_loss: 1633.9438 - val_accuracy: 0.9091\n",
      "Epoch 5/5\n",
      "2/2 [==============================] - 0s 28ms/step - loss: 1999.9896 - accuracy: 0.8837 - val_loss: 1729.4320 - val_accuracy: 0.9091\n"
     ]
    },
    {
     "data": {
      "text/plain": [
       "<keras.src.callbacks.History at 0x1d9b14475e0>"
      ]
     },
     "execution_count": 28,
     "metadata": {},
     "output_type": "execute_result"
    }
   ],
   "source": [
    "# let's use tensorflow keras library to build a 10 perceptron model\n",
    "#  Dense layers are standard fully-interconnected neural network layers\n",
    "model = keras.models.Sequential([\n",
    "    keras.layers.Dense(10, activation='softmax') # output layer\n",
    "])\n",
    "\n",
    "# we'll use sparse_categorical_crossentropy as the loss function\n",
    "LOSS_FN = keras.losses.sparse_categorical_crossentropy\n",
    "\n",
    "# compile the model with standard backprop training algorithm called 'adam'\n",
    "model.compile(optimizer='adam',loss=LOSS_FN,metrics=['accuracy'])\n",
    "\n",
    "# train on training data, and validate on test data\n",
    "# we'll train for 5 epochs\n",
    "model.fit(x_train_flat, y_train, epochs=5, validation_data=(x_test_flat, y_test))"
   ]
  },
  {
   "cell_type": "code",
   "execution_count": null,
   "metadata": {},
   "outputs": [],
   "source": [
    "# let's build a whole bunch of models to compare\n",
    "modelNames = [\n",
    "    '1d',\n",
    "    '2d',\n",
    "    '3d',\n",
    "    '1c1d',\n",
    "    '1c2d',\n",
    "    '2c2d',\n",
    "]\n",
    "\n",
    "# in all models we'll have the same number of nodes per hidden layer\n",
    "NODES_PER_HIDDEN_LAYER = 15\n",
    "\n",
    "models = [\n",
    "    # just the output layer\n",
    "    keras.models.Sequential([\n",
    "        keras.layers.Flatten(input_shape=(28, 28)),\n",
    "        keras.layers.Dense(10, activation='softmax') # output layer\n",
    "    ]),\n",
    "    # 1 hidden layer\n",
    "    keras.models.Sequential([\n",
    "        keras.layers.Flatten(input_shape=(28, 28)),\n",
    "        keras.layers.Dense(NODES_PER_HIDDEN_LAYER, activation='relu'),  # hidden layer 1\n",
    "        keras.layers.Dense(10, activation='softmax') # output layer\n",
    "    ]),\n",
    "    # 2 hidden layers\n",
    "    keras.models.Sequential([\n",
    "        keras.layers.Flatten(input_shape=(28, 28)),\n",
    "        keras.layers.Dense(NODES_PER_HIDDEN_LAYER, activation='relu'),  # hidden layer 1\n",
    "        keras.layers.Dense(NODES_PER_HIDDEN_LAYER, activation='relu'),   # hidden layer 2\n",
    "        keras.layers.Dense(10, activation='softmax') # output layer\n",
    "    ]),\n",
    "    # 1 convolutional layer\n",
    "    keras.models.Sequential([\n",
    "        keras.Input(shape=(28,28,1)),\n",
    "        keras.layers.Conv2D(NODES_PER_HIDDEN_LAYER, kernel_size=(3, 3), activation=\"relu\"),  #convolutional layer 1\n",
    "        keras.layers.Flatten(),\n",
    "        keras.layers.Dense(10, activation=\"softmax\")  # output layer\n",
    "    ]),\n",
    "    # 1 convolutional layer and 1 hidden dense layer\n",
    "    keras.models.Sequential([\n",
    "        keras.Input(shape=(28,28,1)),\n",
    "        keras.layers.Conv2D(NODES_PER_HIDDEN_LAYER, kernel_size=(3, 3), activation=\"relu\"),  #convolutional layer 1\n",
    "        keras.layers.Flatten(),\n",
    "        keras.layers.Dense(NODES_PER_HIDDEN_LAYER, activation='relu'),  # hidden layer 1\n",
    "        keras.layers.Dense(10, activation=\"softmax\")  # output layer\n",
    "    ]),\n",
    "    # 2 convolutional layers and 1 hidden dense layer\n",
    "    keras.models.Sequential([\n",
    "        keras.Input(shape=(28,28,1)),\n",
    "        keras.layers.Conv2D(NODES_PER_HIDDEN_LAYER, kernel_size=(3, 3), activation=\"relu\"),  #convolutional layer 1\n",
    "        keras.layers.Conv2D(NODES_PER_HIDDEN_LAYER, kernel_size=(3, 3), activation=\"relu\"),  #convolutional layer 2\n",
    "        keras.layers.Flatten(),\n",
    "        keras.layers.Dense(NODES_PER_HIDDEN_LAYER, activation='relu'),  # hidden layer 1\n",
    "        keras.layers.Dense(10, activation=\"softmax\")  # output layer\n",
    "    ])\n",
    "]\n",
    "\n"
   ]
  },
  {
   "cell_type": "code",
   "execution_count": null,
   "metadata": {},
   "outputs": [],
   "source": [
    "# compile all models\n",
    "for model in models:\n",
    "    model.compile(optimizer='adam',loss=LOSS_FN,metrics=['accuracy'])"
   ]
  },
  {
   "cell_type": "code",
   "execution_count": null,
   "metadata": {},
   "outputs": [
    {
     "name": "stdout",
     "output_type": "stream",
     "text": [
      "training model 1d\n",
      "Epoch 1/5\n"
     ]
    },
    {
     "ename": "ValueError",
     "evalue": "in user code:\n\n    File \"c:\\Users\\K-Gen\\AppData\\Local\\Programs\\Python\\Python39\\lib\\site-packages\\keras\\src\\engine\\training.py\", line 1401, in train_function  *\n        return step_function(self, iterator)\n    File \"c:\\Users\\K-Gen\\AppData\\Local\\Programs\\Python\\Python39\\lib\\site-packages\\keras\\src\\engine\\training.py\", line 1384, in step_function  **\n        outputs = model.distribute_strategy.run(run_step, args=(data,))\n    File \"c:\\Users\\K-Gen\\AppData\\Local\\Programs\\Python\\Python39\\lib\\site-packages\\keras\\src\\engine\\training.py\", line 1373, in run_step  **\n        outputs = model.train_step(data)\n    File \"c:\\Users\\K-Gen\\AppData\\Local\\Programs\\Python\\Python39\\lib\\site-packages\\keras\\src\\engine\\training.py\", line 1150, in train_step\n        y_pred = self(x, training=True)\n    File \"c:\\Users\\K-Gen\\AppData\\Local\\Programs\\Python\\Python39\\lib\\site-packages\\keras\\src\\utils\\traceback_utils.py\", line 70, in error_handler\n        raise e.with_traceback(filtered_tb) from None\n    File \"c:\\Users\\K-Gen\\AppData\\Local\\Programs\\Python\\Python39\\lib\\site-packages\\keras\\src\\engine\\input_spec.py\", line 298, in assert_input_compatibility\n        raise ValueError(\n\n    ValueError: Input 0 of layer \"sequential_1\" is incompatible with the layer: expected shape=(None, 28, 28), found shape=(None, 33813)\n",
     "output_type": "error",
     "traceback": [
      "\u001b[1;31m---------------------------------------------------------------------------\u001b[0m",
      "\u001b[1;31mValueError\u001b[0m                                Traceback (most recent call last)",
      "Cell \u001b[1;32mIn[13], line 6\u001b[0m\n\u001b[0;32m      4\u001b[0m \u001b[38;5;28;01mfor\u001b[39;00m model, name \u001b[38;5;129;01min\u001b[39;00m \u001b[38;5;28mzip\u001b[39m(models, modelNames):\n\u001b[0;32m      5\u001b[0m     \u001b[38;5;28mprint\u001b[39m(\u001b[38;5;124mf\u001b[39m\u001b[38;5;124m'\u001b[39m\u001b[38;5;124mtraining model \u001b[39m\u001b[38;5;132;01m{\u001b[39;00mname\u001b[38;5;132;01m}\u001b[39;00m\u001b[38;5;124m'\u001b[39m)\n\u001b[1;32m----> 6\u001b[0m     \u001b[43mmodel\u001b[49m\u001b[38;5;241;43m.\u001b[39;49m\u001b[43mfit\u001b[49m\u001b[43m(\u001b[49m\u001b[43mX_train\u001b[49m\u001b[43m,\u001b[49m\u001b[43m \u001b[49m\u001b[43my_train\u001b[49m\u001b[43m,\u001b[49m\u001b[43m \u001b[49m\u001b[43mepochs\u001b[49m\u001b[38;5;241;43m=\u001b[39;49m\u001b[43mTRAINING_EPOCHS\u001b[49m\u001b[43m)\u001b[49m\n",
      "File \u001b[1;32mc:\\Users\\K-Gen\\AppData\\Local\\Programs\\Python\\Python39\\lib\\site-packages\\keras\\src\\utils\\traceback_utils.py:70\u001b[0m, in \u001b[0;36mfilter_traceback.<locals>.error_handler\u001b[1;34m(*args, **kwargs)\u001b[0m\n\u001b[0;32m     67\u001b[0m     filtered_tb \u001b[38;5;241m=\u001b[39m _process_traceback_frames(e\u001b[38;5;241m.\u001b[39m__traceback__)\n\u001b[0;32m     68\u001b[0m     \u001b[38;5;66;03m# To get the full stack trace, call:\u001b[39;00m\n\u001b[0;32m     69\u001b[0m     \u001b[38;5;66;03m# `tf.debugging.disable_traceback_filtering()`\u001b[39;00m\n\u001b[1;32m---> 70\u001b[0m     \u001b[38;5;28;01mraise\u001b[39;00m e\u001b[38;5;241m.\u001b[39mwith_traceback(filtered_tb) \u001b[38;5;28;01mfrom\u001b[39;00m \u001b[38;5;28;01mNone\u001b[39;00m\n\u001b[0;32m     71\u001b[0m \u001b[38;5;28;01mfinally\u001b[39;00m:\n\u001b[0;32m     72\u001b[0m     \u001b[38;5;28;01mdel\u001b[39;00m filtered_tb\n",
      "File \u001b[1;32m~\\AppData\\Local\\Temp\\__autograph_generated_filewznqg6vc.py:15\u001b[0m, in \u001b[0;36mouter_factory.<locals>.inner_factory.<locals>.tf__train_function\u001b[1;34m(iterator)\u001b[0m\n\u001b[0;32m     13\u001b[0m \u001b[38;5;28;01mtry\u001b[39;00m:\n\u001b[0;32m     14\u001b[0m     do_return \u001b[38;5;241m=\u001b[39m \u001b[38;5;28;01mTrue\u001b[39;00m\n\u001b[1;32m---> 15\u001b[0m     retval_ \u001b[38;5;241m=\u001b[39m ag__\u001b[38;5;241m.\u001b[39mconverted_call(ag__\u001b[38;5;241m.\u001b[39mld(step_function), (ag__\u001b[38;5;241m.\u001b[39mld(\u001b[38;5;28mself\u001b[39m), ag__\u001b[38;5;241m.\u001b[39mld(iterator)), \u001b[38;5;28;01mNone\u001b[39;00m, fscope)\n\u001b[0;32m     16\u001b[0m \u001b[38;5;28;01mexcept\u001b[39;00m:\n\u001b[0;32m     17\u001b[0m     do_return \u001b[38;5;241m=\u001b[39m \u001b[38;5;28;01mFalse\u001b[39;00m\n",
      "\u001b[1;31mValueError\u001b[0m: in user code:\n\n    File \"c:\\Users\\K-Gen\\AppData\\Local\\Programs\\Python\\Python39\\lib\\site-packages\\keras\\src\\engine\\training.py\", line 1401, in train_function  *\n        return step_function(self, iterator)\n    File \"c:\\Users\\K-Gen\\AppData\\Local\\Programs\\Python\\Python39\\lib\\site-packages\\keras\\src\\engine\\training.py\", line 1384, in step_function  **\n        outputs = model.distribute_strategy.run(run_step, args=(data,))\n    File \"c:\\Users\\K-Gen\\AppData\\Local\\Programs\\Python\\Python39\\lib\\site-packages\\keras\\src\\engine\\training.py\", line 1373, in run_step  **\n        outputs = model.train_step(data)\n    File \"c:\\Users\\K-Gen\\AppData\\Local\\Programs\\Python\\Python39\\lib\\site-packages\\keras\\src\\engine\\training.py\", line 1150, in train_step\n        y_pred = self(x, training=True)\n    File \"c:\\Users\\K-Gen\\AppData\\Local\\Programs\\Python\\Python39\\lib\\site-packages\\keras\\src\\utils\\traceback_utils.py\", line 70, in error_handler\n        raise e.with_traceback(filtered_tb) from None\n    File \"c:\\Users\\K-Gen\\AppData\\Local\\Programs\\Python\\Python39\\lib\\site-packages\\keras\\src\\engine\\input_spec.py\", line 298, in assert_input_compatibility\n        raise ValueError(\n\n    ValueError: Input 0 of layer \"sequential_1\" is incompatible with the layer: expected shape=(None, 28, 28), found shape=(None, 33813)\n"
     ]
    }
   ],
   "source": [
    "TRAINING_EPOCHS = 5\n",
    "\n",
    "# train all models\n",
    "for model, name in zip(models, modelNames):\n",
    "    print(f'training model {name}')\n",
    "    model.fit(X_train, y_train, epochs=TRAINING_EPOCHS)\n"
   ]
  },
  {
   "cell_type": "code",
   "execution_count": null,
   "metadata": {},
   "outputs": [],
   "source": [
    "# get all model accuracy scores on test data\n",
    "scores = [model.evaluate(X_test,y_test)[1] for model in models]\n"
   ]
  },
  {
   "cell_type": "code",
   "execution_count": null,
   "metadata": {},
   "outputs": [],
   "source": [
    "# let's also add the perceptron score to our accuracy scores list\n",
    "modelNames.insert(0, 'perceptron')\n",
    "scores.insert(0, perceptron.score(x_test_flat, y_test) )\n",
    "\n",
    "# print all models and scores\n",
    "for name,score in zip(modelNames,scores):\n",
    "    print(name, score)"
   ]
  },
  {
   "cell_type": "code",
   "execution_count": null,
   "metadata": {},
   "outputs": [],
   "source": [
    "# display as a bar chart\n",
    "plt.bar(modelNames,scores)\n",
    "plt.ylim(0.8, 1.0)\n",
    "plt.show()"
   ]
  }
 ],
 "metadata": {
  "kernelspec": {
   "display_name": "Python 3",
   "language": "python",
   "name": "python3"
  },
  "language_info": {
   "codemirror_mode": {
    "name": "ipython",
    "version": 3
   },
   "file_extension": ".py",
   "mimetype": "text/x-python",
   "name": "python",
   "nbconvert_exporter": "python",
   "pygments_lexer": "ipython3",
   "version": "3.9.4"
  }
 },
 "nbformat": 4,
 "nbformat_minor": 2
}

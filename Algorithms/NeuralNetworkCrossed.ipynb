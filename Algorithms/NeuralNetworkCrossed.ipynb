{
 "cells": [
  {
   "cell_type": "code",
   "execution_count": 2,
   "metadata": {},
   "outputs": [
    {
     "name": "stdout",
     "output_type": "stream",
     "text": [
      "WARNING:tensorflow:From c:\\Users\\K-Gen\\AppData\\Local\\Programs\\Python\\Python39\\lib\\site-packages\\keras\\src\\losses.py:2976: The name tf.losses.sparse_softmax_cross_entropy is deprecated. Please use tf.compat.v1.losses.sparse_softmax_cross_entropy instead.\n",
      "\n"
     ]
    }
   ],
   "source": [
    "import pandas as pd\n",
    "import numpy as np\n",
    "import json\n",
    "from sklearn import datasets\n",
    "from sklearn.linear_model import Perceptron\n",
    "from sklearn.model_selection import train_test_split\n",
    "from sklearn.metrics import confusion_matrix\n",
    "import matplotlib.pyplot as plt\n",
    "from sklearn.impute import SimpleImputer\n",
    "from tensorflow import keras\n",
    "from keras.optimizers import Adam"
   ]
  },
  {
   "cell_type": "code",
   "execution_count": 3,
   "metadata": {},
   "outputs": [],
   "source": [
    "train_x_src_path = '../Dataset/assignment2New.json'\n",
    "train_y_src_path = '../DataBook/Assignment2_Data_Analyst.xlsx'\n",
    "\n",
    "test_x_src_path = '../Dataset/assignment1New.json'\n",
    "test_y_src_path = '../DataBook/Assignment1_Data_Analyst.xlsx'"
   ]
  },
  {
   "cell_type": "code",
   "execution_count": 4,
   "metadata": {},
   "outputs": [],
   "source": [
    "train_data = pd.read_json(train_x_src_path)\n",
    "test_data = pd.read_json(test_x_src_path)"
   ]
  },
  {
   "cell_type": "code",
   "execution_count": 5,
   "metadata": {},
   "outputs": [],
   "source": [
    "train_df_supervision = pd.read_excel(train_y_src_path)\n",
    "train_plagiarised_array = train_df_supervision['Plagiarised'].astype(int).values\n",
    "\n",
    "test_df_supervision = pd.read_excel(test_y_src_path)\n",
    "test_plagiarised_array = test_df_supervision['Plagiarised'].astype(int).values"
   ]
  },
  {
   "cell_type": "code",
   "execution_count": 6,
   "metadata": {},
   "outputs": [],
   "source": [
    "X_train = np.nan_to_num(train_data.values, nan=0, copy=True).astype(int)\n",
    "y_train = train_plagiarised_array\n",
    "\n",
    "X_test = np.nan_to_num(test_data.values, nan=0, copy=True).astype(int)\n",
    "y_test = test_plagiarised_array"
   ]
  },
  {
   "cell_type": "code",
   "execution_count": 7,
   "metadata": {},
   "outputs": [],
   "source": [
    "difference_in_columns = X_test.shape[1] - X_train.shape[1]\n",
    "\n",
    "# if difference_in_columns > 0:\n",
    "#     last_values = X_train[:, -1]\n",
    "#     new_columns = np.tile(last_values, (difference_in_columns, 1)).T\n",
    "#     X_train_extended = np.hstack((X_train, new_columns))\n",
    "#     X_test_extended = X_test\n",
    "# elif difference_in_columns < 0:\n",
    "#     last_values = X_test[:, -1]\n",
    "#     new_columns = np.tile(last_values, (-difference_in_columns, 1)).T\n",
    "#     X_test_extended = np.hstack((X_test, new_columns))\n",
    "#     X_train_extended = X_train\n",
    "# else:\n",
    "#     X_train_extended = X_train\n",
    "#     X_test_extended = X_test\n",
    "\n",
    "if difference_in_columns > 0:\n",
    "    new_columns = np.zeros((X_train.shape[0], difference_in_columns))\n",
    "    X_train_extended = np.hstack((X_train, new_columns))\n",
    "    X_test_extended = X_test\n",
    "\n",
    "elif difference_in_columns < 0:\n",
    "    new_columns = np.zeros((X_test.shape[0], -difference_in_columns))\n",
    "    X_test_extended = np.hstack((X_test, new_columns))\n",
    "    X_train_extended = X_train\n",
    "\n",
    "else:\n",
    "    X_train_extended = X_train\n",
    "    X_test_extended = X_test"
   ]
  },
  {
   "cell_type": "code",
   "execution_count": 8,
   "metadata": {},
   "outputs": [],
   "source": [
    "imputer = SimpleImputer(missing_values=np.nan, strategy='constant', fill_value=0)\n",
    "X_train = imputer.fit_transform(X_train_extended)\n",
    "X_test = imputer.fit_transform(X_test_extended)"
   ]
  },
  {
   "cell_type": "code",
   "execution_count": 9,
   "metadata": {},
   "outputs": [
    {
     "name": "stdout",
     "output_type": "stream",
     "text": [
      "Training data score: 1.0\n",
      "Test data score: 0.8888888888888888\n"
     ]
    }
   ],
   "source": [
    "p = Perceptron()\n",
    "p.fit(X_train,y_train)\n",
    "\n",
    "print(f\"Training data score: {p.score(X_train, y_train)}\")\n",
    "print(f\"Test data score: {p.score(X_test, y_test)}\")"
   ]
  },
  {
   "cell_type": "code",
   "execution_count": 10,
   "metadata": {},
   "outputs": [],
   "source": [
    "# predictions = p.predict(X_test)\n",
    "# for i in range(len(X_test)):\n",
    "#     print(\"Predicted:\", predictions[i], \"Actual:\", y_test[i])"
   ]
  },
  {
   "cell_type": "code",
   "execution_count": 11,
   "metadata": {},
   "outputs": [
    {
     "data": {
      "text/plain": [
       "<matplotlib.image.AxesImage at 0x1f1c3da9130>"
      ]
     },
     "execution_count": 11,
     "metadata": {},
     "output_type": "execute_result"
    },
    {
     "data": {
      "image/png": "[encoded data removed]",
      "text/plain": [
       "<Figure size 480x480 with 1 Axes>"
      ]
     },
     "metadata": {},
     "output_type": "display_data"
    }
   ],
   "source": [
    "cm = confusion_matrix( p.predict(X_test), y_test)\n",
    "# plt.set_cmap()\n",
    "plt.matshow(cm)"
   ]
  },
  {
   "cell_type": "code",
   "execution_count": 12,
   "metadata": {},
   "outputs": [
    {
     "name": "stdout",
     "output_type": "stream",
     "text": [
      "WARNING:tensorflow:From c:\\Users\\K-Gen\\AppData\\Local\\Programs\\Python\\Python39\\lib\\site-packages\\keras\\src\\backend.py:1398: The name tf.executing_eagerly_outside_functions is deprecated. Please use tf.compat.v1.executing_eagerly_outside_functions instead.\n",
      "\n"
     ]
    }
   ],
   "source": [
    "modelNames = [\n",
    "    '1d',\n",
    "    '2d',\n",
    "    '3d',\n",
    "    '4d',\n",
    "    '5d',\n",
    "    '6d',\n",
    "    '7d'\n",
    "]\n",
    "\n",
    "NODES_PER_HIDDEN_LAYER = 500\n",
    "\n",
    "models = [ \n",
    "\n",
    "    keras.models.Sequential([\n",
    "    keras.layers.Input(shape=(75711,)),\n",
    "    keras.layers.Dense(2, activation='softmax')\n",
    "]),\n",
    "\n",
    "    keras.models.Sequential([\n",
    "    keras.layers.Input(shape=(75711,)),\n",
    "    keras.layers.Dense(NODES_PER_HIDDEN_LAYER, activation='relu'),\n",
    "    keras.layers.Dense(2, activation='softmax')\n",
    "]),\n",
    "\n",
    " keras.models.Sequential([\n",
    "    keras.layers.Input(shape=(75711,)),\n",
    "    keras.layers.Dense(NODES_PER_HIDDEN_LAYER, activation='relu'),\n",
    "    keras.layers.Dense(NODES_PER_HIDDEN_LAYER, activation='relu'),\n",
    "    keras.layers.Dense(2, activation='softmax')\n",
    "]),\n",
    "\n",
    " keras.models.Sequential([\n",
    "    keras.layers.Input(shape=(75711,)),\n",
    "    keras.layers.Dense(NODES_PER_HIDDEN_LAYER, activation='relu'),\n",
    "    keras.layers.Dense(NODES_PER_HIDDEN_LAYER, activation='relu'),\n",
    "    keras.layers.Dense(NODES_PER_HIDDEN_LAYER, activation='relu'),\n",
    "    keras.layers.Dense(2, activation='softmax')\n",
    "]),\n",
    "\n",
    " keras.models.Sequential([\n",
    "    keras.layers.Input(shape=(75711,)),\n",
    "    keras.layers.Dense(NODES_PER_HIDDEN_LAYER, activation='relu'),\n",
    "    keras.layers.Dense(NODES_PER_HIDDEN_LAYER, activation='relu'),\n",
    "    keras.layers.Dense(NODES_PER_HIDDEN_LAYER, activation='relu'),\n",
    "    keras.layers.Dense(NODES_PER_HIDDEN_LAYER, activation='relu'),\n",
    "    keras.layers.Dense(2, activation='softmax')\n",
    "]),\n",
    "\n",
    "keras.models.Sequential([\n",
    "    keras.layers.Input(shape=(75711,)),\n",
    "    keras.layers.Dense(NODES_PER_HIDDEN_LAYER, activation='relu'),\n",
    "    keras.layers.Dense(NODES_PER_HIDDEN_LAYER, activation='relu'),\n",
    "    keras.layers.Dense(NODES_PER_HIDDEN_LAYER, activation='relu'),\n",
    "    keras.layers.Dense(NODES_PER_HIDDEN_LAYER, activation='relu'),\n",
    "    keras.layers.Dense(NODES_PER_HIDDEN_LAYER, activation='relu'),\n",
    "    keras.layers.Dense(2, activation='softmax')\n",
    "]),\n",
    "\n",
    "keras.models.Sequential([\n",
    "    keras.layers.Input(shape=(75711,)),\n",
    "    keras.layers.Dense(NODES_PER_HIDDEN_LAYER, activation='relu'),\n",
    "    keras.layers.Dense(NODES_PER_HIDDEN_LAYER, activation='relu'),\n",
    "    keras.layers.Dense(NODES_PER_HIDDEN_LAYER, activation='relu'),\n",
    "    keras.layers.Dense(NODES_PER_HIDDEN_LAYER, activation='relu'),\n",
    "    keras.layers.Dense(NODES_PER_HIDDEN_LAYER, activation='relu'),\n",
    "    keras.layers.Dense(NODES_PER_HIDDEN_LAYER, activation='relu'),\n",
    "    keras.layers.Dense(2, activation='softmax')\n",
    "]),\n",
    "\n",
    "]"
   ]
  },
  {
   "cell_type": "code",
   "execution_count": 13,
   "metadata": {},
   "outputs": [
    {
     "name": "stdout",
     "output_type": "stream",
     "text": [
      "WARNING:tensorflow:From c:\\Users\\K-Gen\\AppData\\Local\\Programs\\Python\\Python39\\lib\\site-packages\\keras\\src\\optimizers\\__init__.py:309: The name tf.train.Optimizer is deprecated. Please use tf.compat.v1.train.Optimizer instead.\n",
      "\n"
     ]
    }
   ],
   "source": [
    "LOSS_FN = keras.losses.sparse_categorical_crossentropy\n",
    "\n",
    "for model in models:\n",
    "    model.compile(optimizer='adam',loss=LOSS_FN,metrics=['accuracy'])"
   ]
  },
  {
   "cell_type": "code",
   "execution_count": 14,
   "metadata": {},
   "outputs": [
    {
     "name": "stdout",
     "output_type": "stream",
     "text": [
      "training model 1d\n",
      "Epoch 1/5\n",
      "WARNING:tensorflow:From c:\\Users\\K-Gen\\AppData\\Local\\Programs\\Python\\Python39\\lib\\site-packages\\keras\\src\\utils\\tf_utils.py:492: The name tf.ragged.RaggedTensorValue is deprecated. Please use tf.compat.v1.ragged.RaggedTensorValue instead.\n",
      "\n",
      "WARNING:tensorflow:From c:\\Users\\K-Gen\\AppData\\Local\\Programs\\Python\\Python39\\lib\\site-packages\\keras\\src\\engine\\base_layer_utils.py:384: The name tf.executing_eagerly_outside_functions is deprecated. Please use tf.compat.v1.executing_eagerly_outside_functions instead.\n",
      "\n",
      "1/1 [==============================] - 1s 500ms/step - loss: 226.6898 - accuracy: 0.8421\n",
      "Epoch 2/5\n",
      "1/1 [==============================] - 0s 0s/step - loss: 26635.8691 - accuracy: 0.2632\n",
      "Epoch 3/5\n",
      "1/1 [==============================] - 0s 16ms/step - loss: 0.0000e+00 - accuracy: 1.0000\n",
      "Epoch 4/5\n",
      "1/1 [==============================] - 0s 0s/step - loss: 620.2529 - accuracy: 0.9474\n",
      "Epoch 5/5\n",
      "1/1 [==============================] - 0s 16ms/step - loss: 1722.8746 - accuracy: 0.9474\n",
      "training model 2d\n",
      "Epoch 1/5\n",
      "1/1 [==============================] - 1s 578ms/step - loss: 215.9606 - accuracy: 0.8947\n",
      "Epoch 2/5\n",
      "1/1 [==============================] - 0s 203ms/step - loss: 210412.5625 - accuracy: 0.1579\n",
      "Epoch 3/5\n",
      "1/1 [==============================] - 0s 188ms/step - loss: 3954.5662 - accuracy: 0.9474\n",
      "Epoch 4/5\n",
      "1/1 [==============================] - 0s 188ms/step - loss: 13366.7900 - accuracy: 0.8947\n",
      "Epoch 5/5\n",
      "1/1 [==============================] - 0s 212ms/step - loss: 14459.1904 - accuracy: 0.9474\n",
      "training model 3d\n",
      "Epoch 1/5\n",
      "1/1 [==============================] - 1s 668ms/step - loss: 770.7403 - accuracy: 0.6316\n",
      "Epoch 2/5\n",
      "1/1 [==============================] - 0s 201ms/step - loss: 12352.4502 - accuracy: 0.8421\n",
      "Epoch 3/5\n",
      "1/1 [==============================] - 0s 197ms/step - loss: 201.4856 - accuracy: 0.9474\n",
      "Epoch 4/5\n",
      "1/1 [==============================] - 0s 210ms/step - loss: 0.0000e+00 - accuracy: 1.0000\n",
      "Epoch 5/5\n",
      "1/1 [==============================] - 0s 196ms/step - loss: 0.0000e+00 - accuracy: 1.0000\n",
      "training model 4d\n",
      "Epoch 1/5\n",
      "1/1 [==============================] - 1s 796ms/step - loss: 909.6959 - accuracy: 0.1579\n",
      "Epoch 2/5\n",
      "1/1 [==============================] - 0s 201ms/step - loss: 19053.7656 - accuracy: 0.8421\n",
      "Epoch 3/5\n",
      "1/1 [==============================] - 0s 208ms/step - loss: 11843.8623 - accuracy: 0.8421\n",
      "Epoch 4/5\n",
      "1/1 [==============================] - 0s 209ms/step - loss: 3264.2449 - accuracy: 0.8421\n",
      "Epoch 5/5\n",
      "1/1 [==============================] - 0s 197ms/step - loss: 18223.8887 - accuracy: 0.4737\n",
      "training model 5d\n",
      "Epoch 1/5\n",
      "1/1 [==============================] - 1s 871ms/step - loss: 1588.9036 - accuracy: 0.1053\n",
      "Epoch 2/5\n",
      "1/1 [==============================] - 0s 202ms/step - loss: 12466.1709 - accuracy: 0.8421\n",
      "Epoch 3/5\n",
      "1/1 [==============================] - 0s 205ms/step - loss: 5378.2690 - accuracy: 0.8421\n",
      "Epoch 4/5\n",
      "1/1 [==============================] - 0s 200ms/step - loss: 8650.1416 - accuracy: 0.3158\n",
      "Epoch 5/5\n",
      "1/1 [==============================] - 0s 189ms/step - loss: 5480.4048 - accuracy: 0.8947\n",
      "training model 6d\n",
      "Epoch 1/5\n",
      "1/1 [==============================] - 1s 950ms/step - loss: 89.6834 - accuracy: 0.4737\n",
      "Epoch 2/5\n",
      "1/1 [==============================] - 0s 199ms/step - loss: 6890.8892 - accuracy: 0.8421\n",
      "Epoch 3/5\n",
      "1/1 [==============================] - 0s 206ms/step - loss: 848.7475 - accuracy: 0.8421\n",
      "Epoch 4/5\n",
      "1/1 [==============================] - 0s 203ms/step - loss: 67115.5625 - accuracy: 0.1579\n",
      "Epoch 5/5\n",
      "1/1 [==============================] - 0s 209ms/step - loss: 226.8010 - accuracy: 0.9474\n",
      "training model 7d\n",
      "Epoch 1/5\n",
      "1/1 [==============================] - 1s 1s/step - loss: 0.0023 - accuracy: 1.0000\n",
      "Epoch 2/5\n",
      "1/1 [==============================] - 0s 222ms/step - loss: 8042.1069 - accuracy: 0.1579\n",
      "Epoch 3/5\n",
      "1/1 [==============================] - 0s 196ms/step - loss: 770.4546 - accuracy: 0.9474\n",
      "Epoch 4/5\n",
      "1/1 [==============================] - 0s 196ms/step - loss: 15462.4639 - accuracy: 0.2105\n",
      "Epoch 5/5\n",
      "1/1 [==============================] - 0s 202ms/step - loss: 3777.9609 - accuracy: 0.8421\n"
     ]
    }
   ],
   "source": [
    "TRAINING_EPOCHS = 5\n",
    "\n",
    "# train all models\n",
    "for model, name in zip(models, modelNames):\n",
    "    print(f'training model {name}')\n",
    "    model.fit(X_train, y_train, epochs=TRAINING_EPOCHS)\n"
   ]
  },
  {
   "cell_type": "code",
   "execution_count": 15,
   "metadata": {},
   "outputs": [
    {
     "name": "stdout",
     "output_type": "stream",
     "text": [
      "2/2 [==============================] - 0s 0s/step - loss: 11349.2412 - accuracy: 0.8148\n",
      "2/2 [==============================] - 0s 17ms/step - loss: 40331.3789 - accuracy: 0.8333\n",
      "2/2 [==============================] - 0s 16ms/step - loss: 33418.9180 - accuracy: 0.8148\n",
      "2/2 [==============================] - 0s 21ms/step - loss: 14077.4434 - accuracy: 0.8148\n",
      "WARNING:tensorflow:5 out of the last 9 calls to <function Model.make_test_function.<locals>.test_function at 0x000001F1C6251EE0> triggered tf.function retracing. Tracing is expensive and the excessive number of tracings could be due to (1) creating @tf.function repeatedly in a loop, (2) passing tensors with different shapes, (3) passing Python objects instead of tensors. For (1), please define your @tf.function outside of the loop. For (2), @tf.function has reduce_retracing=True option that can avoid unnecessary retracing. For (3), please refer to https://www.tensorflow.org/guide/function#controlling_retracing and https://www.tensorflow.org/api_docs/python/tf/function for  more details.\n",
      "2/2 [==============================] - 0s 14ms/step - loss: 22192.9883 - accuracy: 0.8148\n",
      "WARNING:tensorflow:6 out of the last 11 calls to <function Model.make_test_function.<locals>.test_function at 0x000001F1C62D6790> triggered tf.function retracing. Tracing is expensive and the excessive number of tracings could be due to (1) creating @tf.function repeatedly in a loop, (2) passing tensors with different shapes, (3) passing Python objects instead of tensors. For (1), please define your @tf.function outside of the loop. For (2), @tf.function has reduce_retracing=True option that can avoid unnecessary retracing. For (3), please refer to https://www.tensorflow.org/guide/function#controlling_retracing and https://www.tensorflow.org/api_docs/python/tf/function for  more details.\n",
      "2/2 [==============================] - 0s 16ms/step - loss: 15015.0068 - accuracy: 0.7963\n",
      "2/2 [==============================] - 0s 16ms/step - loss: 8566.0498 - accuracy: 0.7963\n"
     ]
    }
   ],
   "source": [
    "# get all model accuracy scores on test data\n",
    "scores = [model.evaluate(X_test,y_test)[1] for model in models]"
   ]
  },
  {
   "cell_type": "code",
   "execution_count": 24,
   "metadata": {},
   "outputs": [
    {
     "data": {
      "image/png": "[encoded data removed]",
      "text/plain": [
       "<Figure size 640x480 with 1 Axes>"
      ]
     },
     "metadata": {},
     "output_type": "display_data"
    }
   ],
   "source": [
    "modelNames.insert(0, 'perceptron')\n",
    "scores.insert(0, p.score(X_test, y_test) )\n",
    "\n",
    "plt.bar(modelNames,scores)\n",
    "plt.ylim(0.5, 1.0)\n",
    "plt.ylabel('Test Accuracy (%)') \n",
    "plt.show()"
   ]
  }
 ],
 "metadata": {
  "kernelspec": {
   "display_name": "Python 3",
   "language": "python",
   "name": "python3"
  },
  "language_info": {
   "codemirror_mode": {
    "name": "ipython",
    "version": 3
   },
   "file_extension": ".py",
   "mimetype": "text/x-python",
   "name": "python",
   "nbconvert_exporter": "python",
   "pygments_lexer": "ipython3",
   "version": "3.9.4"
  }
 },
 "nbformat": 4,
 "nbformat_minor": 2
}

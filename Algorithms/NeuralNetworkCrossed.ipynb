{
 "cells": [
  {
   "cell_type": "code",
   "execution_count": 19,
   "metadata": {},
   "outputs": [],
   "source": [
    "import pandas as pd\n",
    "import numpy as np\n",
    "import json\n",
    "from sklearn import datasets\n",
    "from sklearn.linear_model import Perceptron\n",
    "from sklearn.model_selection import train_test_split\n",
    "from sklearn.metrics import confusion_matrix\n",
    "import matplotlib.pyplot as plt\n",
    "from sklearn.impute import SimpleImputer\n",
    "from tensorflow import keras\n",
    "from keras.optimizers import Adam"
   ]
  },
  {
   "cell_type": "code",
   "execution_count": 20,
   "metadata": {},
   "outputs": [],
   "source": [
    "train_x_src_path = '../Dataset/assignment1New.json'\n",
    "train_y_src_path = '../DataBook/Assignment1_Data_Analyst.xlsx'\n",
    "\n",
    "test_x_src_path = '../Dataset/assignment2New.json'\n",
    "test_y_src_path = '../DataBook/Assignment2_Data_Analyst.xlsx'"
   ]
  },
  {
   "cell_type": "code",
   "execution_count": 21,
   "metadata": {},
   "outputs": [],
   "source": [
    "train_data = pd.read_json(train_x_src_path)\n",
    "test_data = pd.read_json(test_x_src_path)"
   ]
  },
  {
   "cell_type": "code",
   "execution_count": 22,
   "metadata": {},
   "outputs": [],
   "source": [
    "train_df_supervision = pd.read_excel(train_y_src_path)\n",
    "train_plagiarised_array = train_df_supervision['Plagiarised'].astype(int).values\n",
    "\n",
    "test_df_supervision = pd.read_excel(test_y_src_path)\n",
    "test_plagiarised_array = test_df_supervision['Plagiarised'].astype(int).values"
   ]
  },
  {
   "cell_type": "code",
   "execution_count": 23,
   "metadata": {},
   "outputs": [],
   "source": [
    "X_train = np.nan_to_num(train_data.values, nan=0, copy=True).astype(int)\n",
    "y_train = train_plagiarised_array\n",
    "\n",
    "X_test = np.nan_to_num(test_data.values, nan=0, copy=True).astype(int)\n",
    "y_test = test_plagiarised_array"
   ]
  },
  {
   "cell_type": "code",
   "execution_count": 24,
   "metadata": {},
   "outputs": [],
   "source": [
    "difference_in_columns = X_test.shape[1] - X_train.shape[1]\n",
    "\n",
    "# if difference_in_columns > 0:\n",
    "#     last_values = X_train[:, -1]\n",
    "#     new_columns = np.tile(last_values, (difference_in_columns, 1)).T\n",
    "#     X_train_extended = np.hstack((X_train, new_columns))\n",
    "#     X_test_extended = X_test\n",
    "# elif difference_in_columns < 0:\n",
    "#     last_values = X_test[:, -1]\n",
    "#     new_columns = np.tile(last_values, (-difference_in_columns, 1)).T\n",
    "#     X_test_extended = np.hstack((X_test, new_columns))\n",
    "#     X_train_extended = X_train\n",
    "# else:\n",
    "#     X_train_extended = X_train\n",
    "#     X_test_extended = X_test\n",
    "\n",
    "if difference_in_columns > 0:\n",
    "    new_columns = np.zeros((X_train.shape[0], difference_in_columns))\n",
    "    X_train_extended = np.hstack((X_train, new_columns))\n",
    "    X_test_extended = X_test\n",
    "\n",
    "elif difference_in_columns < 0:\n",
    "    new_columns = np.zeros((X_test.shape[0], -difference_in_columns))\n",
    "    X_test_extended = np.hstack((X_test, new_columns))\n",
    "    X_train_extended = X_train\n",
    "\n",
    "else:\n",
    "    X_train_extended = X_train\n",
    "    X_test_extended = X_test"
   ]
  },
  {
   "cell_type": "code",
   "execution_count": 25,
   "metadata": {},
   "outputs": [],
   "source": [
    "imputer = SimpleImputer(missing_values=np.nan, strategy='constant', fill_value=0)\n",
    "X_train = imputer.fit_transform(X_train_extended)\n",
    "X_test = imputer.fit_transform(X_test_extended)"
   ]
  },
  {
   "cell_type": "code",
   "execution_count": 26,
   "metadata": {},
   "outputs": [
    {
     "name": "stdout",
     "output_type": "stream",
     "text": [
      "Training data score: 0.9444444444444444\n",
      "Test data score: 0.5789473684210527\n"
     ]
    }
   ],
   "source": [
    "p = Perceptron()\n",
    "p.fit(X_train,y_train)\n",
    "\n",
    "print(f\"Training data score: {p.score(X_train, y_train)}\")\n",
    "print(f\"Test data score: {p.score(X_test, y_test)}\")"
   ]
  },
  {
   "cell_type": "code",
   "execution_count": 27,
   "metadata": {},
   "outputs": [],
   "source": [
    "# predictions = p.predict(X_test)\n",
    "# for i in range(len(X_test)):\n",
    "#     print(\"Predicted:\", predictions[i], \"Actual:\", y_test[i])"
   ]
  },
  {
   "cell_type": "code",
   "execution_count": 28,
   "metadata": {},
   "outputs": [
    {
     "data": {
      "text/plain": [
       "<matplotlib.image.AxesImage at 0x1b9e7cee820>"
      ]
     },
     "execution_count": 28,
     "metadata": {},
     "output_type": "execute_result"
    },
    {
     "data": {
      "image/png": "[encoded data removed]",
      "text/plain": [
       "<Figure size 480x480 with 1 Axes>"
      ]
     },
     "metadata": {},
     "output_type": "display_data"
    }
   ],
   "source": [
    "cm = confusion_matrix( p.predict(X_test), y_test)\n",
    "# plt.set_cmap()\n",
    "plt.matshow(cm)"
   ]
  },
  {
   "cell_type": "code",
   "execution_count": 29,
   "metadata": {},
   "outputs": [],
   "source": [
    "modelNames = [\n",
    "    '1d',\n",
    "    '2d',\n",
    "    '3d',\n",
    "    '4d',\n",
    "    '5d',\n",
    "    '6d',\n",
    "    '7d',\n",
    "    '8d',\n",
    "    '9d'\n",
    "]\n",
    "\n",
    "NODES_PER_HIDDEN_LAYER = 500\n",
    "\n",
    "models = [ \n",
    "\n",
    "    keras.models.Sequential([\n",
    "    keras.layers.Input(shape=(75711,)),\n",
    "    keras.layers.Dense(2, activation='softmax')\n",
    "]),\n",
    "\n",
    "    keras.models.Sequential([\n",
    "    keras.layers.Input(shape=(75711,)),\n",
    "    keras.layers.Dense(NODES_PER_HIDDEN_LAYER, activation='relu'),\n",
    "    keras.layers.Dense(2, activation='softmax')\n",
    "]),\n",
    "\n",
    " keras.models.Sequential([\n",
    "    keras.layers.Input(shape=(75711,)),\n",
    "    keras.layers.Dense(NODES_PER_HIDDEN_LAYER, activation='relu'),\n",
    "    keras.layers.Dense(NODES_PER_HIDDEN_LAYER, activation='relu'),\n",
    "    keras.layers.Dense(2, activation='softmax')\n",
    "]),\n",
    "\n",
    " keras.models.Sequential([\n",
    "    keras.layers.Input(shape=(75711,)),\n",
    "    keras.layers.Dense(NODES_PER_HIDDEN_LAYER, activation='relu'),\n",
    "    keras.layers.Dense(NODES_PER_HIDDEN_LAYER, activation='relu'),\n",
    "    keras.layers.Dense(NODES_PER_HIDDEN_LAYER, activation='relu'),\n",
    "    keras.layers.Dense(2, activation='softmax')\n",
    "]),\n",
    "\n",
    " keras.models.Sequential([\n",
    "    keras.layers.Input(shape=(75711,)),\n",
    "    keras.layers.Dense(NODES_PER_HIDDEN_LAYER, activation='relu'),\n",
    "    keras.layers.Dense(NODES_PER_HIDDEN_LAYER, activation='relu'),\n",
    "    keras.layers.Dense(NODES_PER_HIDDEN_LAYER, activation='relu'),\n",
    "    keras.layers.Dense(NODES_PER_HIDDEN_LAYER, activation='relu'),\n",
    "    keras.layers.Dense(2, activation='softmax')\n",
    "]),\n",
    "\n",
    "keras.models.Sequential([\n",
    "    keras.layers.Input(shape=(75711,)),\n",
    "    keras.layers.Dense(NODES_PER_HIDDEN_LAYER, activation='relu'),\n",
    "    keras.layers.Dense(NODES_PER_HIDDEN_LAYER, activation='relu'),\n",
    "    keras.layers.Dense(NODES_PER_HIDDEN_LAYER, activation='relu'),\n",
    "    keras.layers.Dense(NODES_PER_HIDDEN_LAYER, activation='relu'),\n",
    "    keras.layers.Dense(NODES_PER_HIDDEN_LAYER, activation='relu'),\n",
    "    keras.layers.Dense(2, activation='softmax')\n",
    "]),\n",
    "\n",
    "keras.models.Sequential([\n",
    "    keras.layers.Input(shape=(75711,)),\n",
    "    keras.layers.Dense(NODES_PER_HIDDEN_LAYER, activation='relu'),\n",
    "    keras.layers.Dense(NODES_PER_HIDDEN_LAYER, activation='relu'),\n",
    "    keras.layers.Dense(NODES_PER_HIDDEN_LAYER, activation='relu'),\n",
    "    keras.layers.Dense(NODES_PER_HIDDEN_LAYER, activation='relu'),\n",
    "    keras.layers.Dense(NODES_PER_HIDDEN_LAYER, activation='relu'),\n",
    "    keras.layers.Dense(NODES_PER_HIDDEN_LAYER, activation='relu'),\n",
    "    keras.layers.Dense(2, activation='softmax')\n",
    "]),\n",
    "keras.models.Sequential([\n",
    "    keras.layers.Input(shape=(75711,)),\n",
    "    keras.layers.Dense(NODES_PER_HIDDEN_LAYER, activation='relu'),\n",
    "    keras.layers.Dense(NODES_PER_HIDDEN_LAYER, activation='relu'),\n",
    "    keras.layers.Dense(NODES_PER_HIDDEN_LAYER, activation='relu'),\n",
    "    keras.layers.Dense(NODES_PER_HIDDEN_LAYER, activation='relu'),\n",
    "    keras.layers.Dense(NODES_PER_HIDDEN_LAYER, activation='relu'),\n",
    "    keras.layers.Dense(NODES_PER_HIDDEN_LAYER, activation='relu'),\n",
    "    keras.layers.Dense(NODES_PER_HIDDEN_LAYER, activation='relu'),\n",
    "    keras.layers.Dense(2, activation='softmax')\n",
    "]),\n",
    "keras.models.Sequential([\n",
    "    keras.layers.Input(shape=(75711,)),\n",
    "    keras.layers.Dense(NODES_PER_HIDDEN_LAYER, activation='relu'),\n",
    "    keras.layers.Dense(NODES_PER_HIDDEN_LAYER, activation='relu'),\n",
    "    keras.layers.Dense(NODES_PER_HIDDEN_LAYER, activation='relu'),\n",
    "    keras.layers.Dense(NODES_PER_HIDDEN_LAYER, activation='relu'),\n",
    "    keras.layers.Dense(NODES_PER_HIDDEN_LAYER, activation='relu'),\n",
    "    keras.layers.Dense(NODES_PER_HIDDEN_LAYER, activation='relu'),\n",
    "    keras.layers.Dense(NODES_PER_HIDDEN_LAYER, activation='relu'),\n",
    "    keras.layers.Dense(NODES_PER_HIDDEN_LAYER, activation='relu'),\n",
    "    keras.layers.Dense(2, activation='softmax')\n",
    "]),\n",
    "\n",
    "]"
   ]
  },
  {
   "cell_type": "code",
   "execution_count": 30,
   "metadata": {},
   "outputs": [],
   "source": [
    "LOSS_FN = keras.losses.sparse_categorical_crossentropy\n",
    "\n",
    "for model in models:\n",
    "    model.compile(optimizer='adam',loss=LOSS_FN,metrics=['accuracy'])"
   ]
  },
  {
   "cell_type": "code",
   "execution_count": 31,
   "metadata": {},
   "outputs": [
    {
     "name": "stdout",
     "output_type": "stream",
     "text": [
      "training model 1d\n",
      "Epoch 1/5\n",
      "2/2 [==============================] - 0s 0s/step - loss: 3001.5471 - accuracy: 0.5185\n",
      "Epoch 2/5\n",
      "2/2 [==============================] - 0s 17ms/step - loss: 3612.0437 - accuracy: 0.8333\n",
      "Epoch 3/5\n",
      "2/2 [==============================] - 0s 0s/step - loss: 3730.6270 - accuracy: 0.8704\n",
      "Epoch 4/5\n",
      "2/2 [==============================] - 0s 16ms/step - loss: 3150.2173 - accuracy: 0.9074\n",
      "Epoch 5/5\n",
      "2/2 [==============================] - 0s 0s/step - loss: 1959.7405 - accuracy: 0.9074\n",
      "training model 2d\n",
      "Epoch 1/5\n",
      "2/2 [==============================] - 1s 200ms/step - loss: 20080.5957 - accuracy: 0.4074\n",
      "Epoch 2/5\n",
      "2/2 [==============================] - 0s 207ms/step - loss: 32524.8770 - accuracy: 0.7963\n",
      "Epoch 3/5\n",
      "2/2 [==============================] - 0s 193ms/step - loss: 15801.8311 - accuracy: 0.8704\n",
      "Epoch 4/5\n",
      "2/2 [==============================] - 0s 199ms/step - loss: 8422.5322 - accuracy: 0.8889\n",
      "Epoch 5/5\n",
      "2/2 [==============================] - 0s 202ms/step - loss: 4788.9771 - accuracy: 0.9074\n",
      "training model 3d\n",
      "Epoch 1/5\n",
      "2/2 [==============================] - 1s 184ms/step - loss: 11754.3193 - accuracy: 0.4630\n",
      "Epoch 2/5\n",
      "2/2 [==============================] - 0s 199ms/step - loss: 8079.7031 - accuracy: 0.7963\n",
      "Epoch 3/5\n",
      "2/2 [==============================] - 0s 195ms/step - loss: 7545.1494 - accuracy: 0.6111\n",
      "Epoch 4/5\n",
      "2/2 [==============================] - 0s 188ms/step - loss: 2920.2568 - accuracy: 0.8889\n",
      "Epoch 5/5\n",
      "2/2 [==============================] - 0s 198ms/step - loss: 5643.8477 - accuracy: 0.8889\n",
      "training model 4d\n",
      "Epoch 1/5\n",
      "2/2 [==============================] - 1s 194ms/step - loss: 1648.2765 - accuracy: 0.4815\n",
      "Epoch 2/5\n",
      "2/2 [==============================] - 0s 193ms/step - loss: 7700.2935 - accuracy: 0.7778\n",
      "Epoch 3/5\n",
      "2/2 [==============================] - 0s 196ms/step - loss: 4924.8540 - accuracy: 0.8148\n",
      "Epoch 4/5\n",
      "2/2 [==============================] - 0s 217ms/step - loss: 3307.6487 - accuracy: 0.8519\n",
      "Epoch 5/5\n",
      "2/2 [==============================] - 0s 201ms/step - loss: 2474.8037 - accuracy: 0.9074\n",
      "training model 5d\n",
      "Epoch 1/5\n",
      "2/2 [==============================] - 1s 205ms/step - loss: 5743.1445 - accuracy: 0.4444\n",
      "Epoch 2/5\n",
      "2/2 [==============================] - 0s 215ms/step - loss: 10633.2314 - accuracy: 0.4815\n",
      "Epoch 3/5\n",
      "2/2 [==============================] - 0s 212ms/step - loss: 1627.1036 - accuracy: 0.8704\n",
      "Epoch 4/5\n",
      "2/2 [==============================] - 0s 216ms/step - loss: 705.5323 - accuracy: 0.9074\n",
      "Epoch 5/5\n",
      "2/2 [==============================] - 0s 210ms/step - loss: 971.9641 - accuracy: 0.6481\n",
      "training model 6d\n",
      "Epoch 1/5\n",
      "2/2 [==============================] - 1s 206ms/step - loss: 3578.1631 - accuracy: 0.5556\n",
      "Epoch 2/5\n",
      "2/2 [==============================] - 0s 225ms/step - loss: 3395.7656 - accuracy: 0.6852\n",
      "Epoch 3/5\n",
      "2/2 [==============================] - 0s 218ms/step - loss: 507.6584 - accuracy: 0.7778\n",
      "Epoch 4/5\n",
      "2/2 [==============================] - 0s 221ms/step - loss: 3115.0576 - accuracy: 0.8148\n",
      "Epoch 5/5\n",
      "2/2 [==============================] - 0s 213ms/step - loss: 3453.1956 - accuracy: 0.5370\n",
      "training model 7d\n",
      "Epoch 1/5\n",
      "2/2 [==============================] - 1s 201ms/step - loss: 10149.0059 - accuracy: 0.5000\n",
      "Epoch 2/5\n",
      "2/2 [==============================] - 0s 210ms/step - loss: 1100.2904 - accuracy: 0.3889\n",
      "Epoch 3/5\n",
      "2/2 [==============================] - 0s 208ms/step - loss: 5015.1465 - accuracy: 0.7963\n",
      "Epoch 4/5\n",
      "2/2 [==============================] - 0s 210ms/step - loss: 1604.5846 - accuracy: 0.5185\n",
      "Epoch 5/5\n",
      "2/2 [==============================] - 0s 211ms/step - loss: 851.5905 - accuracy: 0.8704\n",
      "training model 8d\n",
      "Epoch 1/5\n",
      "2/2 [==============================] - 1s 212ms/step - loss: 1972.1968 - accuracy: 0.4630\n",
      "Epoch 2/5\n",
      "2/2 [==============================] - 0s 210ms/step - loss: 2978.6123 - accuracy: 0.5370\n",
      "Epoch 3/5\n",
      "2/2 [==============================] - 0s 207ms/step - loss: 339.0686 - accuracy: 0.7778\n",
      "Epoch 4/5\n",
      "2/2 [==============================] - 0s 219ms/step - loss: 991.4611 - accuracy: 0.5926\n",
      "Epoch 5/5\n",
      "2/2 [==============================] - 0s 208ms/step - loss: 1060.0596 - accuracy: 0.7963\n",
      "training model 9d\n",
      "Epoch 1/5\n",
      "2/2 [==============================] - 2s 203ms/step - loss: 2199.7520 - accuracy: 0.6481\n",
      "Epoch 2/5\n",
      "2/2 [==============================] - 0s 211ms/step - loss: 1278.6388 - accuracy: 0.5926\n",
      "Epoch 3/5\n",
      "2/2 [==============================] - 0s 211ms/step - loss: 2990.3857 - accuracy: 0.4630\n",
      "Epoch 4/5\n",
      "2/2 [==============================] - 0s 222ms/step - loss: 81.4339 - accuracy: 0.8704\n",
      "Epoch 5/5\n",
      "2/2 [==============================] - 0s 212ms/step - loss: 183.3884 - accuracy: 0.7407\n"
     ]
    }
   ],
   "source": [
    "TRAINING_EPOCHS = 5\n",
    "\n",
    "# train all models\n",
    "for model, name in zip(models, modelNames):\n",
    "    print(f'training model {name}')\n",
    "    model.fit(X_train, y_train, epochs=TRAINING_EPOCHS)\n"
   ]
  },
  {
   "cell_type": "code",
   "execution_count": 32,
   "metadata": {},
   "outputs": [
    {
     "name": "stdout",
     "output_type": "stream",
     "text": [
      "2/2 [==============================] - 0s 4ms/step - loss: 95644.9297 - accuracy: 0.5789\n",
      "2/2 [==============================] - 0s 16ms/step - loss: 99222.1328 - accuracy: 0.5526\n",
      "2/2 [==============================] - 0s 13ms/step - loss: 51367.9531 - accuracy: 0.6053\n",
      "2/2 [==============================] - 0s 0s/step - loss: 17487.5996 - accuracy: 0.5789\n",
      "2/2 [==============================] - 0s 16ms/step - loss: 18583.0996 - accuracy: 0.6053\n",
      "2/2 [==============================] - 0s 19ms/step - loss: 4683.7959 - accuracy: 0.8421\n",
      "2/2 [==============================] - 0s 15ms/step - loss: 4620.2798 - accuracy: 0.6316\n",
      "2/2 [==============================] - 0s 18ms/step - loss: 2481.9067 - accuracy: 0.8421\n",
      "2/2 [==============================] - 0s 14ms/step - loss: 715.2888 - accuracy: 0.8421\n"
     ]
    }
   ],
   "source": [
    "# get all model accuracy scores on test data\n",
    "scores = [model.evaluate(X_test,y_test)[1] for model in models]"
   ]
  },
  {
   "cell_type": "code",
   "execution_count": 33,
   "metadata": {},
   "outputs": [
    {
     "data": {
      "image/png": "[encoded data removed]",
      "text/plain": [
       "<Figure size 640x480 with 1 Axes>"
      ]
     },
     "metadata": {},
     "output_type": "display_data"
    }
   ],
   "source": [
    "modelNames.insert(0, 'perceptron')\n",
    "scores.insert(0, p.score(X_test, y_test) )\n",
    "\n",
    "plt.bar(modelNames,scores)\n",
    "plt.ylim(0.5, 1.0)\n",
    "plt.ylabel('Test Accuracy (%)') \n",
    "plt.show()"
   ]
  }
 ],
 "metadata": {
  "kernelspec": {
   "display_name": "Python 3",
   "language": "python",
   "name": "python3"
  },
  "language_info": {
   "codemirror_mode": {
    "name": "ipython",
    "version": 3
   },
   "file_extension": ".py",
   "mimetype": "text/x-python",
   "name": "python",
   "nbconvert_exporter": "python",
   "pygments_lexer": "ipython3",
   "version": "3.9.4"
  }
 },
 "nbformat": 4,
 "nbformat_minor": 2
}

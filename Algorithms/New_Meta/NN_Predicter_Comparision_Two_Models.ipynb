{
 "cells": [
  {
   "cell_type": "code",
   "execution_count": 21,
   "metadata": {},
   "outputs": [],
   "source": [
    "import pandas as pd\n",
    "import numpy as np\n",
    "from sklearn.model_selection import train_test_split\n",
    "from tensorflow.keras.preprocessing.text import Tokenizer\n",
    "from tensorflow.keras.preprocessing.sequence import pad_sequences\n",
    "from tensorflow import keras\n",
    "from sklearn.linear_model import Perceptron\n",
    "from sklearn.metrics import accuracy_score"
   ]
  },
  {
   "cell_type": "code",
   "execution_count": 22,
   "metadata": {},
   "outputs": [],
   "source": [
    "text_x_src_path = '../../Dataset/mixed_text_assignment.json'\n",
    "numb_x_src_path = '../../Dataset/MixedDataSet.json'\n",
    "y_src_path = '../../DataBook/Mixed_Data_Analyst.xlsx'"
   ]
  },
  {
   "cell_type": "code",
   "execution_count": 23,
   "metadata": {},
   "outputs": [],
   "source": [
    "text_data = pd.read_json(text_x_src_path)\n",
    "numb_data = pd.read_json(numb_x_src_path)"
   ]
  },
  {
   "cell_type": "code",
   "execution_count": 24,
   "metadata": {},
   "outputs": [],
   "source": [
    "df_supervision = pd.read_excel(y_src_path)\n",
    "plagiarised_array = df_supervision['Plagiarised'].astype(int).values"
   ]
  },
  {
   "cell_type": "code",
   "execution_count": 25,
   "metadata": {},
   "outputs": [],
   "source": [
    "texts = text_data.iloc[:, :].astype(str).values.tolist()\n",
    "\n",
    "texts = [[element if element != 'None' else '' for element in sublist] for sublist in texts]"
   ]
  },
  {
   "cell_type": "code",
   "execution_count": 26,
   "metadata": {},
   "outputs": [],
   "source": [
    "tokenizer = Tokenizer(num_words=10000, oov_token=\"<OOV>\") \n",
    "tokenizer.fit_on_texts(texts)\n",
    "sequences = tokenizer.texts_to_sequences(texts)\n",
    "\n",
    "max_sequence_len = max([len(seq) for seq in sequences])\n",
    "data_vectorized = pad_sequences(sequences, maxlen=max_sequence_len)"
   ]
  },
  {
   "cell_type": "code",
   "execution_count": 27,
   "metadata": {},
   "outputs": [],
   "source": [
    "X_T = data_vectorized\n",
    "X_N = np.nan_to_num(numb_data.values, nan=0, copy=True).astype(int)\n",
    "y = plagiarised_array"
   ]
  },
  {
   "cell_type": "code",
   "execution_count": 28,
   "metadata": {},
   "outputs": [],
   "source": [
    "X_T_train, X_T_test, y_T_train, y_T_test = train_test_split(X_T, y, test_size=0.3, random_state=14)\n",
    "\n",
    "X_N_train, X_N_test, y_N_train, y_N_test = train_test_split(X_N, y, test_size=0.3, random_state=14)"
   ]
  },
  {
   "cell_type": "code",
   "execution_count": 29,
   "metadata": {},
   "outputs": [
    {
     "name": "stdout",
     "output_type": "stream",
     "text": [
      "Text Training data score: 1.0\n",
      "Text Test data score: 0.85\n"
     ]
    }
   ],
   "source": [
    "textP = Perceptron()\n",
    "textP.fit(X_T_train,y_T_train)\n",
    "\n",
    "print(f\"Text Training data score: {textP.score(X_T_train, y_T_train)}\")\n",
    "print(f\"Text Test data score: {textP.score(X_T_test, y_T_test)}\")"
   ]
  },
  {
   "cell_type": "code",
   "execution_count": 30,
   "metadata": {},
   "outputs": [
    {
     "name": "stdout",
     "output_type": "stream",
     "text": [
      "Text Training data score: 1.0\n",
      "Text Test data score: 0.7\n"
     ]
    }
   ],
   "source": [
    "numbP = Perceptron()\n",
    "numbP.fit(X_N_train,y_N_train)\n",
    "\n",
    "print(f\"Text Training data score: {numbP.score(X_N_train, y_N_train)}\")\n",
    "print(f\"Text Test data score: {numbP.score(X_N_test, y_N_test)}\")"
   ]
  },
  {
   "cell_type": "code",
   "execution_count": 37,
   "metadata": {},
   "outputs": [
    {
     "name": "stdout",
     "output_type": "stream",
     "text": [
      "Epoch 1/5\n",
      "3/3 [==============================] - 1s 68ms/step - loss: 9.1571 - accuracy: 0.6774 - val_loss: 5.5150 - val_accuracy: 0.8750\n",
      "Epoch 2/5\n",
      "3/3 [==============================] - 0s 15ms/step - loss: 2.7681 - accuracy: 0.8710 - val_loss: 4.9281 - val_accuracy: 0.8750\n",
      "Epoch 3/5\n",
      "3/3 [==============================] - 0s 15ms/step - loss: 1.2126 - accuracy: 0.9032 - val_loss: 3.5962 - val_accuracy: 0.8500\n",
      "Epoch 4/5\n",
      "3/3 [==============================] - 0s 15ms/step - loss: 0.3101 - accuracy: 0.9462 - val_loss: 3.0473 - val_accuracy: 0.8250\n",
      "Epoch 5/5\n",
      "3/3 [==============================] - 0s 16ms/step - loss: 0.1340 - accuracy: 0.9462 - val_loss: 2.5913 - val_accuracy: 0.8500\n",
      "WARNING:tensorflow:5 out of the last 9 calls to <function Model.make_predict_function.<locals>.predict_function at 0x0000026C1F5A44C0> triggered tf.function retracing. Tracing is expensive and the excessive number of tracings could be due to (1) creating @tf.function repeatedly in a loop, (2) passing tensors with different shapes, (3) passing Python objects instead of tensors. For (1), please define your @tf.function outside of the loop. For (2), @tf.function has reduce_retracing=True option that can avoid unnecessary retracing. For (3), please refer to https://www.tensorflow.org/guide/function#controlling_retracing and https://www.tensorflow.org/api_docs/python/tf/function for  more details.\n",
      "2/2 [==============================] - 0s 3ms/step\n"
     ]
    }
   ],
   "source": [
    "text_model = keras.models.Sequential([\n",
    "    keras.layers.Input(shape=(10315,)),\n",
    "    keras.layers.Dense(32, activation='relu'),\n",
    "    keras.layers.Dense(32, activation='relu'),\n",
    "    keras.layers.Dense(32, activation='relu'),\n",
    "    keras.layers.Dense(1, activation='sigmoid')\n",
    "])\n",
    "\n",
    "LOSS_FN = keras.losses.BinaryCrossentropy()\n",
    "\n",
    "text_model.compile(optimizer='adam', loss=LOSS_FN, metrics=['accuracy'])\n",
    "\n",
    "text_model.fit(X_T_train, y_T_train, epochs=5, validation_data=(X_T_test, y_T_test))\n",
    "\n",
    "threshold = 0.5\n",
    "y_pred_text = text_model.predict(X_T_test)\n",
    "y_pred_text_binary = np.where(y_pred_text >= threshold, 1, 0)\n",
    "y_pred_text_binary_flat = y_pred_text_binary.flatten()"
   ]
  },
  {
   "cell_type": "code",
   "execution_count": 32,
   "metadata": {},
   "outputs": [
    {
     "name": "stdout",
     "output_type": "stream",
     "text": [
      "Epoch 1/5\n",
      "3/3 [==============================] - 1s 88ms/step - loss: 833.2984 - accuracy: 0.7097 - val_loss: 623.1161 - val_accuracy: 0.7250\n",
      "Epoch 2/5\n",
      "3/3 [==============================] - 0s 34ms/step - loss: 1765.1750 - accuracy: 0.8280 - val_loss: 3874.7805 - val_accuracy: 0.8000\n",
      "Epoch 3/5\n",
      "3/3 [==============================] - 0s 34ms/step - loss: 3592.9436 - accuracy: 0.7634 - val_loss: 337.6227 - val_accuracy: 0.8500\n",
      "Epoch 4/5\n",
      "3/3 [==============================] - 0s 32ms/step - loss: 850.9447 - accuracy: 0.8602 - val_loss: 507.2132 - val_accuracy: 0.7750\n",
      "Epoch 5/5\n",
      "3/3 [==============================] - 0s 30ms/step - loss: 571.1388 - accuracy: 0.8925 - val_loss: 1055.5601 - val_accuracy: 0.7500\n",
      "2/2 [==============================] - 0s 4ms/step\n"
     ]
    }
   ],
   "source": [
    "numb_model = keras.models.Sequential([\n",
    "    keras.layers.Input(shape=(75711,)),\n",
    "    keras.layers.Dense(32, activation='relu'),\n",
    "    keras.layers.Dense(32, activation='relu'),\n",
    "    keras.layers.Dense(32, activation='relu'),\n",
    "    keras.layers.Dense(1, activation='sigmoid')\n",
    "])\n",
    "\n",
    "LOSS_FN = keras.losses.BinaryCrossentropy()\n",
    "\n",
    "numb_model.compile(optimizer='adam', loss=LOSS_FN, metrics=['accuracy'])\n",
    "\n",
    "numb_model.fit(X_N_train, y_N_train, epochs=5, validation_data=(X_N_test, y_N_test))\n",
    "\n",
    "threshold = 0.5\n",
    "y_pred_numb = numb_model.predict(X_N_test)\n",
    "y_pred_numb_binary = np.where(y_pred_numb >= threshold, 1, 0)\n",
    "y_pred_numb_binary_flat = y_pred_numb_binary.flatten()"
   ]
  },
  {
   "cell_type": "code",
   "execution_count": 38,
   "metadata": {},
   "outputs": [
    {
     "name": "stdout",
     "output_type": "stream",
     "text": [
      "Number: 1, Textual: 1 Actual: 0\n",
      "Number: 0, Textual: 0 Actual: 0\n",
      "Number: 0, Textual: 0 Actual: 0\n",
      "Number: 0, Textual: 0 Actual: 1\n",
      "Number: 0, Textual: 0 Actual: 0\n",
      "Number: 0, Textual: 0 Actual: 0\n",
      "Number: 0, Textual: 0 Actual: 0\n",
      "Number: 0, Textual: 0 Actual: 0\n",
      "Number: 0, Textual: 0 Actual: 0\n",
      "Number: 0, Textual: 0 Actual: 1\n",
      "Number: 1, Textual: 1 Actual: 1\n",
      "Number: 0, Textual: 0 Actual: 0\n",
      "Number: 0, Textual: 0 Actual: 1\n",
      "Number: 0, Textual: 0 Actual: 0\n",
      "Number: 0, Textual: 0 Actual: 0\n",
      "Number: 1, Textual: 1 Actual: 0\n",
      "Number: 0, Textual: 0 Actual: 0\n",
      "Number: 0, Textual: 0 Actual: 0\n",
      "Number: 0, Textual: 0 Actual: 0\n",
      "Number: 1, Textual: 1 Actual: 0\n",
      "Number: 1, Textual: 1 Actual: 1\n",
      "Number: 0, Textual: 0 Actual: 0\n",
      "Number: 0, Textual: 0 Actual: 0\n",
      "Number: 0, Textual: 0 Actual: 0\n",
      "Number: 0, Textual: 0 Actual: 0\n",
      "Number: 0, Textual: 0 Actual: 0\n",
      "Number: 1, Textual: 1 Actual: 0\n",
      "Number: 0, Textual: 0 Actual: 0\n",
      "Number: 0, Textual: 0 Actual: 0\n",
      "Number: 0, Textual: 0 Actual: 0\n",
      "Number: 0, Textual: 0 Actual: 0\n",
      "Number: 0, Textual: 0 Actual: 0\n",
      "Number: 0, Textual: 0 Actual: 0\n",
      "Number: 0, Textual: 0 Actual: 0\n",
      "Number: 1, Textual: 1 Actual: 0\n",
      "Number: 0, Textual: 0 Actual: 0\n",
      "Number: 0, Textual: 0 Actual: 0\n",
      "Number: 1, Textual: 1 Actual: 0\n",
      "Number: 1, Textual: 1 Actual: 1\n",
      "Number: 1, Textual: 1 Actual: 0\n"
     ]
    }
   ],
   "source": [
    "for numb, text, actual in zip(y_pred_numb_binary_flat, y_pred_numb_binary_flat, y_N_test):\n",
    "    print(f\"Number: {numb}, Textual: {text} Actual: {actual}\")"
   ]
  },
  {
   "cell_type": "code",
   "execution_count": 34,
   "metadata": {},
   "outputs": [],
   "source": [
    "modelNames = [\n",
    "    '1d',\n",
    "    '2d',\n",
    "    '3d',\n",
    "    '4d',\n",
    "    '5d',\n",
    "    '6d',\n",
    "    '7d'\n",
    "]\n",
    "\n",
    "NODES_PER_HIDDEN_LAYER = 32\n",
    "\n",
    "models = [ \n",
    "\n",
    "    keras.models.Sequential([\n",
    "    keras.layers.Input(shape=(10315,)),\n",
    "    keras.layers.Dense(1, activation='sigmoid')\n",
    "]),\n",
    "\n",
    "    keras.models.Sequential([\n",
    "    keras.layers.Input(shape=(10315,)),\n",
    "    keras.layers.Dense(NODES_PER_HIDDEN_LAYER, activation='relu'),\n",
    "    keras.layers.Dense(1, activation='sigmoid')\n",
    "]),\n",
    "\n",
    " keras.models.Sequential([\n",
    "    keras.layers.Input(shape=(10315,)),\n",
    "    keras.layers.Dense(NODES_PER_HIDDEN_LAYER, activation='relu'),\n",
    "    keras.layers.Dense(NODES_PER_HIDDEN_LAYER, activation='relu'),\n",
    "    keras.layers.Dense(1, activation='sigmoid')\n",
    "]),\n",
    "\n",
    " keras.models.Sequential([\n",
    "    keras.layers.Input(shape=(10315,)),\n",
    "    keras.layers.Dense(NODES_PER_HIDDEN_LAYER, activation='relu'),\n",
    "    keras.layers.Dense(NODES_PER_HIDDEN_LAYER, activation='relu'),\n",
    "    keras.layers.Dense(NODES_PER_HIDDEN_LAYER, activation='relu'),\n",
    "    keras.layers.Dense(1, activation='sigmoid')\n",
    "]),\n",
    "\n",
    " keras.models.Sequential([\n",
    "    keras.layers.Input(shape=(10315,)),\n",
    "    keras.layers.Dense(NODES_PER_HIDDEN_LAYER, activation='relu'),\n",
    "    keras.layers.Dense(NODES_PER_HIDDEN_LAYER, activation='relu'),\n",
    "    keras.layers.Dense(NODES_PER_HIDDEN_LAYER, activation='relu'),\n",
    "    keras.layers.Dense(NODES_PER_HIDDEN_LAYER, activation='relu'),\n",
    "    keras.layers.Dense(1, activation='sigmoid')\n",
    "]),\n",
    "\n",
    "keras.models.Sequential([\n",
    "    keras.layers.Input(shape=(10315,)),\n",
    "    keras.layers.Dense(NODES_PER_HIDDEN_LAYER, activation='relu'),\n",
    "    keras.layers.Dense(NODES_PER_HIDDEN_LAYER, activation='relu'),\n",
    "    keras.layers.Dense(NODES_PER_HIDDEN_LAYER, activation='relu'),\n",
    "    keras.layers.Dense(NODES_PER_HIDDEN_LAYER, activation='relu'),\n",
    "    keras.layers.Dense(NODES_PER_HIDDEN_LAYER, activation='relu'),\n",
    "    keras.layers.Dense(1, activation='sigmoid')\n",
    "]),\n",
    "\n",
    "keras.models.Sequential([\n",
    "    keras.layers.Input(shape=(10315,)),\n",
    "    keras.layers.Dense(NODES_PER_HIDDEN_LAYER, activation='relu'),\n",
    "    keras.layers.Dense(NODES_PER_HIDDEN_LAYER, activation='relu'),\n",
    "    keras.layers.Dense(NODES_PER_HIDDEN_LAYER, activation='relu'),\n",
    "    keras.layers.Dense(NODES_PER_HIDDEN_LAYER, activation='relu'),\n",
    "    keras.layers.Dense(NODES_PER_HIDDEN_LAYER, activation='relu'),\n",
    "    keras.layers.Dense(NODES_PER_HIDDEN_LAYER, activation='relu'),\n",
    "    keras.layers.Dense(1, activation='sigmoid')\n",
    "])\n",
    "\n",
    "]"
   ]
  },
  {
   "cell_type": "code",
   "execution_count": 35,
   "metadata": {},
   "outputs": [],
   "source": [
    "LOSS_FN = keras.losses.BinaryCrossentropy()\n",
    "\n",
    "for model in models:\n",
    "    model.compile(optimizer='adam',loss=LOSS_FN,metrics=['accuracy'])"
   ]
  },
  {
   "cell_type": "code",
   "execution_count": 36,
   "metadata": {},
   "outputs": [
    {
     "name": "stdout",
     "output_type": "stream",
     "text": [
      "training model 1d\n"
     ]
    },
    {
     "ename": "NameError",
     "evalue": "name 'X_train' is not defined",
     "output_type": "error",
     "traceback": [
      "\u001b[1;31m---------------------------------------------------------------------------\u001b[0m",
      "\u001b[1;31mNameError\u001b[0m                                 Traceback (most recent call last)",
      "Cell \u001b[1;32mIn[36], line 6\u001b[0m\n\u001b[0;32m      4\u001b[0m \u001b[38;5;28;01mfor\u001b[39;00m model, name \u001b[38;5;129;01min\u001b[39;00m \u001b[38;5;28mzip\u001b[39m(models, modelNames):\n\u001b[0;32m      5\u001b[0m     \u001b[38;5;28mprint\u001b[39m(\u001b[38;5;124mf\u001b[39m\u001b[38;5;124m'\u001b[39m\u001b[38;5;124mtraining model \u001b[39m\u001b[38;5;132;01m{\u001b[39;00mname\u001b[38;5;132;01m}\u001b[39;00m\u001b[38;5;124m'\u001b[39m)\n\u001b[1;32m----> 6\u001b[0m     model\u001b[38;5;241m.\u001b[39mfit(\u001b[43mX_train\u001b[49m, y_train, epochs\u001b[38;5;241m=\u001b[39mTRAINING_EPOCHS)\n",
      "\u001b[1;31mNameError\u001b[0m: name 'X_train' is not defined"
     ]
    }
   ],
   "source": [
    "TRAINING_EPOCHS = 20\n",
    "\n",
    "# train all models\n",
    "for model, name in zip(models, modelNames):\n",
    "    print(f'training model {name}')\n",
    "    model.fit(X_train, y_train, epochs=TRAINING_EPOCHS)\n"
   ]
  },
  {
   "cell_type": "code",
   "execution_count": null,
   "metadata": {},
   "outputs": [
    {
     "name": "stdout",
     "output_type": "stream",
     "text": [
      "2/2 [==============================] - 0s 3ms/step - loss: 8.9633 - accuracy: 0.9000\n",
      "2/2 [==============================] - 0s 4ms/step - loss: 4.1872 - accuracy: 0.9000\n",
      "2/2 [==============================] - 0s 4ms/step - loss: 4.4542 - accuracy: 0.9000\n",
      "2/2 [==============================] - 0s 4ms/step - loss: 1.5722 - accuracy: 0.8250\n",
      "2/2 [==============================] - 0s 4ms/step - loss: 1.4902 - accuracy: 0.9000\n",
      "2/2 [==============================] - 0s 3ms/step - loss: 0.8461 - accuracy: 0.8500\n",
      "2/2 [==============================] - 0s 3ms/step - loss: 0.3005 - accuracy: 0.8750\n"
     ]
    }
   ],
   "source": [
    "# get all model accuracy scores on test data\n",
    "scores = [model.evaluate(X_test,y_test)[1] for model in models]"
   ]
  },
  {
   "cell_type": "code",
   "execution_count": null,
   "metadata": {},
   "outputs": [
    {
     "data": {
      "image/png": "[encoded data removed]",
      "text/plain": [
       "<Figure size 640x480 with 1 Axes>"
      ]
     },
     "metadata": {},
     "output_type": "display_data"
    }
   ],
   "source": [
    "import matplotlib.pyplot as plt\n",
    "modelNames.insert(0, 'perceptron')\n",
    "scores.insert(0, p.score(X_test, y_test) )\n",
    "\n",
    "plt.bar(modelNames,scores)\n",
    "plt.ylim(0.75, 1.0)\n",
    "plt.ylabel('Test Accuracy (%)') \n",
    "plt.xlabel(str(NODES_PER_HIDDEN_LAYER) + \" nodes per hidden layer\")\n",
    "plt.show()"
   ]
  },
  {
   "cell_type": "code",
   "execution_count": null,
   "metadata": {},
   "outputs": [
    {
     "name": "stdout",
     "output_type": "stream",
     "text": [
      "2/2 [==============================] - 0s 3ms/step\n",
      "2/2 [==============================] - 0s 4ms/step\n",
      "2/2 [==============================] - 0s 3ms/step\n",
      "2/2 [==============================] - 0s 4ms/step\n",
      "2/2 [==============================] - 0s 3ms/step\n",
      "2/2 [==============================] - 0s 3ms/step\n",
      "2/2 [==============================] - 0s 3ms/step\n",
      "Model 1 Predicted Labels: [0 0 0 0 0 0 0 0 0 0 0 0 0 0 0 0 0 0 0 0 0 0 0 0 0 0 0 0 0 0 0 0 0 0 0 0 0\n",
      " 0 0 0]\n",
      "Actual Labels: [0 0 0 1 0 0 0 0 0 1 1 0 1 0 0 0 0 0 0 0 1 0 0 0 0 0 0 0 0 0 0 0 0 0 0 0 0\n",
      " 0 1 0]\n",
      "Model 2 Predicted Labels: [0 0 0 0 0 0 0 0 0 0 0 0 0 0 0 0 0 0 0 0 0 0 0 0 0 0 0 0 0 0 0 0 0 0 0 0 0\n",
      " 0 0 0]\n",
      "Actual Labels: [0 0 0 1 0 0 0 0 0 1 1 0 1 0 0 0 0 0 0 0 1 0 0 0 0 0 0 0 0 0 0 0 0 0 0 0 0\n",
      " 0 1 0]\n",
      "Model 3 Predicted Labels: [0 0 0 0 0 0 0 0 0 0 0 0 0 0 0 0 0 0 0 0 0 0 0 0 0 0 0 0 0 0 0 0 0 0 0 0 0\n",
      " 0 0 0]\n",
      "Actual Labels: [0 0 0 1 0 0 0 0 0 1 1 0 1 0 0 0 0 0 0 0 1 0 0 0 0 0 0 0 0 0 0 0 0 0 0 0 0\n",
      " 0 1 0]\n",
      "Model 4 Predicted Labels: [0 0 0 0 0 0 0 0 0 0 0 0 0 0 0 0 0 0 0 0 0 0 0 0 0 0 0 0 0 0 0 0 0 0 0 0 0\n",
      " 0 0 0]\n",
      "Actual Labels: [0 0 0 1 0 0 0 0 0 1 1 0 1 0 0 0 0 0 0 0 1 0 0 0 0 0 0 0 0 0 0 0 0 0 0 0 0\n",
      " 0 1 0]\n",
      "Model 5 Predicted Labels: [0 0 0 0 0 0 0 0 0 0 0 0 0 0 0 0 0 0 0 0 0 0 0 0 0 0 0 0 0 0 0 0 0 0 0 0 0\n",
      " 0 0 0]\n",
      "Actual Labels: [0 0 0 1 0 0 0 0 0 1 1 0 1 0 0 0 0 0 0 0 1 0 0 0 0 0 0 0 0 0 0 0 0 0 0 0 0\n",
      " 0 1 0]\n",
      "Model 6 Predicted Labels: [0 0 0 0 0 0 0 0 0 0 0 0 0 0 0 0 0 0 0 0 0 0 0 0 0 0 0 0 0 0 0 0 0 0 0 0 0\n",
      " 0 0 0]\n",
      "Actual Labels: [0 0 0 1 0 0 0 0 0 1 1 0 1 0 0 0 0 0 0 0 1 0 0 0 0 0 0 0 0 0 0 0 0 0 0 0 0\n",
      " 0 1 0]\n",
      "Model 7 Predicted Labels: [0 0 0 0 0 0 0 0 0 0 0 0 0 0 0 0 0 0 0 0 0 0 0 0 0 0 0 0 0 0 0 0 0 0 0 0 0\n",
      " 0 0 0]\n",
      "Actual Labels: [0 0 0 1 0 0 0 0 0 1 1 0 1 0 0 0 0 0 0 0 1 0 0 0 0 0 0 0 0 0 0 0 0 0 0 0 0\n",
      " 0 1 0]\n"
     ]
    }
   ],
   "source": [
    "probabilities = [model.predict(X_test) for model in models]\n",
    "\n",
    "# Convert probabilities to class labels\n",
    "predicted_labels = [np.argmax(prob, axis=1) for prob in probabilities]\n",
    "\n",
    "# Assuming y_test is your actual labels\n",
    "# Convert y_test to class labels if it's not already in that format\n",
    "# This step depends on how y_test is structured. If it's one-hot encoded, you might need to use np.argmax(y_test, axis=1)\n",
    "\n",
    "# Print predicted and actual labels for each model\n",
    "for i, labels in enumerate(predicted_labels):\n",
    "    print(f\"Model {i+1} Predicted Labels: {labels}\")\n",
    "    print(f\"Actual Labels: {y_test}\")"
   ]
  }
 ],
 "metadata": {
  "kernelspec": {
   "display_name": "Python 3",
   "language": "python",
   "name": "python3"
  },
  "language_info": {
   "codemirror_mode": {
    "name": "ipython",
    "version": 3
   },
   "file_extension": ".py",
   "mimetype": "text/x-python",
   "name": "python",
   "nbconvert_exporter": "python",
   "pygments_lexer": "ipython3",
   "version": "3.9.4"
  }
 },
 "nbformat": 4,
 "nbformat_minor": 2
}

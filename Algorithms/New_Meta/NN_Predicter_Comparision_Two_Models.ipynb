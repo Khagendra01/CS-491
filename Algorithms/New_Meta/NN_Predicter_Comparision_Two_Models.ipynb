{
 "cells": [
  {
   "cell_type": "code",
   "execution_count": 35,
   "metadata": {},
   "outputs": [],
   "source": [
    "import pandas as pd\n",
    "import numpy as np\n",
    "from sklearn.model_selection import train_test_split\n",
    "from tensorflow.keras.preprocessing.text import Tokenizer\n",
    "from tensorflow.keras.preprocessing.sequence import pad_sequences\n",
    "from tensorflow import keras\n",
    "from sklearn.linear_model import Perceptron\n",
    "from sklearn.metrics import accuracy_score"
   ]
  },
  {
   "cell_type": "code",
   "execution_count": 36,
   "metadata": {},
   "outputs": [],
   "source": [
    "text_x_src_path = '../../Dataset/mixed_text_assignment.json'\n",
    "numb_x_src_path = '../../Dataset/MixedDataSet.json'\n",
    "y_src_path = '../../DataBook/Mixed_Data_Analyst.xlsx'"
   ]
  },
  {
   "cell_type": "code",
   "execution_count": 37,
   "metadata": {},
   "outputs": [],
   "source": [
    "text_data = pd.read_json(text_x_src_path)\n",
    "numb_data = pd.read_json(numb_x_src_path)"
   ]
  },
  {
   "cell_type": "code",
   "execution_count": 38,
   "metadata": {},
   "outputs": [],
   "source": [
    "df_supervision = pd.read_excel(y_src_path)\n",
    "plagiarised_array = df_supervision['Plagiarised'].astype(int).values"
   ]
  },
  {
   "cell_type": "code",
   "execution_count": 39,
   "metadata": {},
   "outputs": [],
   "source": [
    "texts = text_data.iloc[:, :].astype(str).values.tolist()\n",
    "\n",
    "texts = [[element if element != 'None' else '' for element in sublist] for sublist in texts]"
   ]
  },
  {
   "cell_type": "code",
   "execution_count": 40,
   "metadata": {},
   "outputs": [],
   "source": [
    "tokenizer = Tokenizer(num_words=10000, oov_token=\"<OOV>\") \n",
    "tokenizer.fit_on_texts(texts)\n",
    "sequences = tokenizer.texts_to_sequences(texts)\n",
    "\n",
    "max_sequence_len = max([len(seq) for seq in sequences])\n",
    "data_vectorized = pad_sequences(sequences, maxlen=max_sequence_len)"
   ]
  },
  {
   "cell_type": "code",
   "execution_count": 41,
   "metadata": {},
   "outputs": [],
   "source": [
    "X_T = data_vectorized\n",
    "X_N = np.nan_to_num(numb_data.values, nan=0, copy=True).astype(int)\n",
    "y = plagiarised_array"
   ]
  },
  {
   "cell_type": "code",
   "execution_count": 42,
   "metadata": {},
   "outputs": [],
   "source": [
    "X_T_train, X_T_test, y_T_train, y_T_test = train_test_split(X_T, y, test_size=0.3, random_state=14)\n",
    "\n",
    "X_N_train, X_N_test, y_N_train, y_N_test = train_test_split(X_N, y, test_size=0.3, random_state=14)"
   ]
  },
  {
   "cell_type": "code",
   "execution_count": 43,
   "metadata": {},
   "outputs": [
    {
     "name": "stdout",
     "output_type": "stream",
     "text": [
      "Text Training data score: 1.0\n",
      "Text Test data score: 0.85\n"
     ]
    }
   ],
   "source": [
    "textP = Perceptron()\n",
    "textP.fit(X_T_train,y_T_train)\n",
    "\n",
    "print(f\"Text Training data score: {textP.score(X_T_train, y_T_train)}\")\n",
    "print(f\"Text Test data score: {textP.score(X_T_test, y_T_test)}\")"
   ]
  },
  {
   "cell_type": "code",
   "execution_count": 44,
   "metadata": {},
   "outputs": [
    {
     "name": "stdout",
     "output_type": "stream",
     "text": [
      "Text Training data score: 1.0\n",
      "Text Test data score: 0.7\n"
     ]
    }
   ],
   "source": [
    "numbP = Perceptron()\n",
    "numbP.fit(X_N_train,y_N_train)\n",
    "\n",
    "print(f\"Text Training data score: {numbP.score(X_N_train, y_N_train)}\")\n",
    "print(f\"Text Test data score: {numbP.score(X_N_test, y_N_test)}\")"
   ]
  },
  {
   "cell_type": "code",
   "execution_count": 50,
   "metadata": {},
   "outputs": [
    {
     "name": "stdout",
     "output_type": "stream",
     "text": [
      "Epoch 1/5\n",
      "3/3 [==============================] - 1s 69ms/step - loss: 5.5941 - accuracy: 0.6882 - val_loss: 5.5181 - val_accuracy: 0.8250\n",
      "Epoch 2/5\n",
      "3/3 [==============================] - 0s 15ms/step - loss: 3.4520 - accuracy: 0.8710 - val_loss: 4.3682 - val_accuracy: 0.7500\n",
      "Epoch 3/5\n",
      "3/3 [==============================] - 0s 15ms/step - loss: 0.7108 - accuracy: 0.9462 - val_loss: 3.6298 - val_accuracy: 0.8250\n",
      "Epoch 4/5\n",
      "3/3 [==============================] - 0s 16ms/step - loss: 8.8249e-04 - accuracy: 1.0000 - val_loss: 3.8400 - val_accuracy: 0.8750\n",
      "Epoch 5/5\n",
      "3/3 [==============================] - 0s 16ms/step - loss: 4.3983e-04 - accuracy: 1.0000 - val_loss: 4.1191 - val_accuracy: 0.9000\n",
      "2/2 [==============================] - 0s 2ms/step\n"
     ]
    },
    {
     "data": {
      "text/plain": [
       "array([[0.00000000e+00],\n",
       "       [4.01294005e-27],\n",
       "       [3.95603440e-34],\n",
       "       [9.89313781e-01],\n",
       "       [1.81896024e-18],\n",
       "       [6.98627354e-14],\n",
       "       [0.00000000e+00],\n",
       "       [3.81166282e-16],\n",
       "       [5.63906311e-10],\n",
       "       [4.30180904e-08],\n",
       "       [1.00388963e-04],\n",
       "       [8.76297560e-31],\n",
       "       [3.03808036e-36],\n",
       "       [9.90752444e-27],\n",
       "       [0.00000000e+00],\n",
       "       [9.68705565e-02],\n",
       "       [2.89682448e-01],\n",
       "       [2.48905952e-12],\n",
       "       [7.21581877e-24],\n",
       "       [2.66460338e-05],\n",
       "       [3.34713830e-25],\n",
       "       [6.39766684e-09],\n",
       "       [1.04581655e-26],\n",
       "       [0.00000000e+00],\n",
       "       [3.31481195e-18],\n",
       "       [2.46422197e-12],\n",
       "       [0.00000000e+00],\n",
       "       [3.23099535e-23],\n",
       "       [2.55065570e-05],\n",
       "       [2.49235634e-27],\n",
       "       [9.15361627e-04],\n",
       "       [2.67707524e-32],\n",
       "       [6.68942847e-14],\n",
       "       [4.01811398e-36],\n",
       "       [0.00000000e+00],\n",
       "       [0.00000000e+00],\n",
       "       [1.58136443e-34],\n",
       "       [5.84838532e-32],\n",
       "       [9.99676228e-01],\n",
       "       [0.00000000e+00]], dtype=float32)"
      ]
     },
     "execution_count": 50,
     "metadata": {},
     "output_type": "execute_result"
    }
   ],
   "source": [
    "text_model = keras.models.Sequential([\n",
    "    keras.layers.Input(shape=(10315,)),\n",
    "    keras.layers.Dense(32, activation='relu'),\n",
    "    keras.layers.Dense(32, activation='relu'),\n",
    "    keras.layers.Dense(32, activation='relu'),\n",
    "    keras.layers.Dense(1, activation='sigmoid')\n",
    "])\n",
    "\n",
    "LOSS_FN = keras.losses.BinaryCrossentropy()\n",
    "\n",
    "text_model.compile(optimizer='adam', loss=LOSS_FN, metrics=['accuracy'])\n",
    "\n",
    "text_model.fit(X_T_train, y_T_train, epochs=5, validation_data=(X_T_test, y_T_test))\n",
    "\n",
    "# threshold = 0.5\n",
    "# y_pred_text = text_model.predict(X_T_test)\n",
    "# y_pred_text_binary = np.where(y_pred_text >= threshold, 1, 0)\n",
    "# y_pred_text_binary_flat = y_pred_text_binary.flatten()"
   ]
  },
  {
   "cell_type": "code",
   "execution_count": 58,
   "metadata": {},
   "outputs": [
    {
     "name": "stdout",
     "output_type": "stream",
     "text": [
      "2/2 [==============================] - 0s 3ms/step\n",
      "0.9\n",
      " Textual: 0 Actual: 0\n",
      " Textual: 0 Actual: 0\n",
      " Textual: 0 Actual: 0\n",
      " Textual: 1 Actual: 1\n",
      " Textual: 0 Actual: 0\n",
      " Textual: 0 Actual: 0\n",
      " Textual: 0 Actual: 0\n",
      " Textual: 0 Actual: 0\n",
      " Textual: 0 Actual: 0\n",
      " Textual: 0 Actual: 1\n",
      " Textual: 0 Actual: 1\n",
      " Textual: 0 Actual: 0\n",
      " Textual: 0 Actual: 1\n",
      " Textual: 0 Actual: 0\n",
      " Textual: 0 Actual: 0\n",
      " Textual: 0 Actual: 0\n",
      " Textual: 0 Actual: 0\n",
      " Textual: 0 Actual: 0\n",
      " Textual: 0 Actual: 0\n",
      " Textual: 0 Actual: 0\n",
      " Textual: 0 Actual: 1\n",
      " Textual: 0 Actual: 0\n",
      " Textual: 0 Actual: 0\n",
      " Textual: 0 Actual: 0\n",
      " Textual: 0 Actual: 0\n",
      " Textual: 0 Actual: 0\n",
      " Textual: 0 Actual: 0\n",
      " Textual: 0 Actual: 0\n",
      " Textual: 0 Actual: 0\n",
      " Textual: 0 Actual: 0\n",
      " Textual: 0 Actual: 0\n",
      " Textual: 0 Actual: 0\n",
      " Textual: 0 Actual: 0\n",
      " Textual: 0 Actual: 0\n",
      " Textual: 0 Actual: 0\n",
      " Textual: 0 Actual: 0\n",
      " Textual: 0 Actual: 0\n",
      " Textual: 0 Actual: 0\n",
      " Textual: 1 Actual: 1\n",
      " Textual: 0 Actual: 0\n"
     ]
    }
   ],
   "source": [
    "predicted_classes = (text_model.predict(X_T_test).flatten() > 0.5).astype(int)\n",
    "ac_sc = accuracy_score(y_T_test, predicted_classes)\n",
    "print(ac_sc)\n",
    "for text, actual in zip(predicted_classes, y_T_test):\n",
    "    print(f\" Textual: {text} Actual: {actual}\")"
   ]
  },
  {
   "cell_type": "code",
   "execution_count": 46,
   "metadata": {},
   "outputs": [
    {
     "name": "stdout",
     "output_type": "stream",
     "text": [
      "Epoch 1/5\n",
      "3/3 [==============================] - 1s 84ms/step - loss: 997.7040 - accuracy: 0.4731 - val_loss: 1097.0756 - val_accuracy: 0.8250\n",
      "Epoch 2/5\n",
      "3/3 [==============================] - 0s 33ms/step - loss: 1673.6143 - accuracy: 0.8602 - val_loss: 665.7233 - val_accuracy: 0.8750\n",
      "Epoch 3/5\n",
      "3/3 [==============================] - 0s 33ms/step - loss: 640.5396 - accuracy: 0.7957 - val_loss: 529.1891 - val_accuracy: 0.7250\n",
      "Epoch 4/5\n",
      "3/3 [==============================] - 0s 25ms/step - loss: 301.9771 - accuracy: 0.8280 - val_loss: 615.2042 - val_accuracy: 0.8250\n",
      "Epoch 5/5\n",
      "3/3 [==============================] - 0s 31ms/step - loss: 543.5486 - accuracy: 0.8172 - val_loss: 1955.9382 - val_accuracy: 0.7750\n",
      "WARNING:tensorflow:6 out of the last 11 calls to <function Model.make_predict_function.<locals>.predict_function at 0x0000019698D63E50> triggered tf.function retracing. Tracing is expensive and the excessive number of tracings could be due to (1) creating @tf.function repeatedly in a loop, (2) passing tensors with different shapes, (3) passing Python objects instead of tensors. For (1), please define your @tf.function outside of the loop. For (2), @tf.function has reduce_retracing=True option that can avoid unnecessary retracing. For (3), please refer to https://www.tensorflow.org/guide/function#controlling_retracing and https://www.tensorflow.org/api_docs/python/tf/function for  more details.\n",
      "2/2 [==============================] - 0s 4ms/step\n"
     ]
    }
   ],
   "source": [
    "numb_model = keras.models.Sequential([\n",
    "    keras.layers.Input(shape=(75711,)),\n",
    "    keras.layers.Dense(32, activation='relu'),\n",
    "    keras.layers.Dense(32, activation='relu'),\n",
    "    keras.layers.Dense(32, activation='relu'),\n",
    "    keras.layers.Dense(1, activation='sigmoid')\n",
    "])\n",
    "\n",
    "LOSS_FN = keras.losses.BinaryCrossentropy()\n",
    "\n",
    "numb_model.compile(optimizer='adam', loss=LOSS_FN, metrics=['accuracy'])\n",
    "\n",
    "numb_model.fit(X_N_train, y_N_train, epochs=5, validation_data=(X_N_test, y_N_test))\n",
    "\n",
    "threshold = 0.5\n",
    "y_pred_numb = numb_model.predict(X_N_test)\n",
    "y_pred_numb_binary = np.where(y_pred_numb >= threshold, 1, 0)\n",
    "y_pred_numb_binary_flat = y_pred_numb_binary.flatten()"
   ]
  },
  {
   "cell_type": "code",
   "execution_count": 49,
   "metadata": {},
   "outputs": [
    {
     "name": "stdout",
     "output_type": "stream",
     "text": [
      "Number: 0, Textual: 0 Actual: 0\n",
      "Number: 0, Textual: 0 Actual: 0\n",
      "Number: 0, Textual: 0 Actual: 0\n",
      "Number: 0, Textual: 0 Actual: 1\n",
      "Number: 0, Textual: 0 Actual: 0\n",
      "Number: 0, Textual: 0 Actual: 0\n",
      "Number: 0, Textual: 0 Actual: 0\n",
      "Number: 0, Textual: 0 Actual: 0\n",
      "Number: 0, Textual: 0 Actual: 0\n",
      "Number: 0, Textual: 0 Actual: 1\n",
      "Number: 1, Textual: 1 Actual: 1\n",
      "Number: 0, Textual: 0 Actual: 0\n",
      "Number: 0, Textual: 0 Actual: 1\n",
      "Number: 0, Textual: 0 Actual: 0\n",
      "Number: 0, Textual: 0 Actual: 0\n",
      "Number: 1, Textual: 1 Actual: 0\n",
      "Number: 1, Textual: 1 Actual: 0\n",
      "Number: 0, Textual: 0 Actual: 0\n",
      "Number: 0, Textual: 0 Actual: 0\n",
      "Number: 0, Textual: 0 Actual: 0\n",
      "Number: 0, Textual: 0 Actual: 1\n",
      "Number: 0, Textual: 0 Actual: 0\n",
      "Number: 0, Textual: 0 Actual: 0\n",
      "Number: 0, Textual: 0 Actual: 0\n",
      "Number: 0, Textual: 0 Actual: 0\n",
      "Number: 0, Textual: 0 Actual: 0\n",
      "Number: 0, Textual: 0 Actual: 0\n",
      "Number: 0, Textual: 0 Actual: 0\n",
      "Number: 1, Textual: 1 Actual: 0\n",
      "Number: 0, Textual: 0 Actual: 0\n",
      "Number: 0, Textual: 0 Actual: 0\n",
      "Number: 0, Textual: 0 Actual: 0\n",
      "Number: 0, Textual: 0 Actual: 0\n",
      "Number: 0, Textual: 0 Actual: 0\n",
      "Number: 1, Textual: 1 Actual: 0\n",
      "Number: 0, Textual: 0 Actual: 0\n",
      "Number: 0, Textual: 0 Actual: 0\n",
      "Number: 1, Textual: 1 Actual: 0\n",
      "Number: 1, Textual: 1 Actual: 1\n",
      "Number: 0, Textual: 0 Actual: 0\n"
     ]
    }
   ],
   "source": [
    "for numb, text, actual in zip(y_pred_numb_binary_flat, y_pred_numb_binary_flat, y_N_test):\n",
    "    print(f\"Number: {numb}, Textual: {text} Actual: {actual}\")"
   ]
  },
  {
   "cell_type": "code",
   "execution_count": 48,
   "metadata": {},
   "outputs": [
    {
     "name": "stdout",
     "output_type": "stream",
     "text": [
      "2/2 [==============================] - 0s 5ms/step - loss: 1.2640 - accuracy: 0.9250\n",
      "0.925000011920929\n",
      "2/2 [==============================] - 0s 5ms/step - loss: 1955.9382 - accuracy: 0.7750\n",
      "0.7749999761581421\n"
     ]
    }
   ],
   "source": [
    "print(text_model.evaluate(X_T_test,y_T_test)[1])\n",
    "print(numb_model.evaluate(X_N_test,y_N_test)[1])"
   ]
  }
 ],
 "metadata": {
  "kernelspec": {
   "display_name": "Python 3",
   "language": "python",
   "name": "python3"
  },
  "language_info": {
   "codemirror_mode": {
    "name": "ipython",
    "version": 3
   },
   "file_extension": ".py",
   "mimetype": "text/x-python",
   "name": "python",
   "nbconvert_exporter": "python",
   "pygments_lexer": "ipython3",
   "version": "3.9.4"
  }
 },
 "nbformat": 4,
 "nbformat_minor": 2
}

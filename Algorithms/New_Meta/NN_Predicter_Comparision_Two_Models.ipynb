{
 "cells": [
  {
   "cell_type": "code",
   "execution_count": 1,
   "metadata": {},
   "outputs": [
    {
     "name": "stdout",
     "output_type": "stream",
     "text": [
      "WARNING:tensorflow:From c:\\Users\\K-Gen\\AppData\\Local\\Programs\\Python\\Python39\\lib\\site-packages\\keras\\src\\losses.py:2976: The name tf.losses.sparse_softmax_cross_entropy is deprecated. Please use tf.compat.v1.losses.sparse_softmax_cross_entropy instead.\n",
      "\n"
     ]
    }
   ],
   "source": [
    "import pandas as pd\n",
    "import numpy as np\n",
    "from sklearn.model_selection import train_test_split\n",
    "from tensorflow.keras.preprocessing.text import Tokenizer\n",
    "from tensorflow.keras.preprocessing.sequence import pad_sequences\n",
    "from tensorflow import keras\n",
    "from sklearn.linear_model import Perceptron\n",
    "from sklearn.metrics import accuracy_score"
   ]
  },
  {
   "cell_type": "code",
   "execution_count": 2,
   "metadata": {},
   "outputs": [],
   "source": [
    "text_x_src_path = '../../Dataset/mixed_text_assignment.json'\n",
    "numb_x_src_path = '../../Dataset/MixedDataSet.json'\n",
    "y_src_path = '../../DataBook/Mixed_Data_Analyst.xlsx'"
   ]
  },
  {
   "cell_type": "code",
   "execution_count": 3,
   "metadata": {},
   "outputs": [],
   "source": [
    "text_data = pd.read_json(text_x_src_path)\n",
    "numb_data = pd.read_json(numb_x_src_path)\n",
    "numb_data = numb_data.iloc[:, :-59022]"
   ]
  },
  {
   "cell_type": "code",
   "execution_count": 4,
   "metadata": {},
   "outputs": [],
   "source": [
    "df_supervision = pd.read_excel(y_src_path)\n",
    "plagiarised_array = df_supervision['Plagiarised'].astype(int).values"
   ]
  },
  {
   "cell_type": "code",
   "execution_count": 5,
   "metadata": {},
   "outputs": [],
   "source": [
    "texts = text_data.iloc[:, :].astype(str).values.tolist()\n",
    "\n",
    "texts = [[element if element != 'None' else '' for element in sublist] for sublist in texts]"
   ]
  },
  {
   "cell_type": "code",
   "execution_count": 6,
   "metadata": {},
   "outputs": [],
   "source": [
    "tokenizer = Tokenizer(num_words=10000, oov_token=\"<OOV>\") \n",
    "tokenizer.fit_on_texts(texts)\n",
    "sequences = tokenizer.texts_to_sequences(texts)\n",
    "\n",
    "max_sequence_len = max([len(seq) for seq in sequences])\n",
    "data_vectorized = pad_sequences(sequences, maxlen=max_sequence_len)"
   ]
  },
  {
   "cell_type": "code",
   "execution_count": 7,
   "metadata": {},
   "outputs": [],
   "source": [
    "X_T = data_vectorized\n",
    "X_N = np.nan_to_num(numb_data.values, nan=0, copy=True).astype(int)\n",
    "y = plagiarised_array\n",
    "from imblearn.over_sampling import SMOTE\n",
    "ros = SMOTE()\n",
    "X_resampled, y_resampled = ros.fit_resample(X_T, y)"
   ]
  },
  {
   "cell_type": "code",
   "execution_count": 8,
   "metadata": {},
   "outputs": [],
   "source": [
    "X_T_train, X_T_test, y_T_train, y_T_test = train_test_split(X_T, y, test_size=0.2, random_state=32)\n",
    "\n",
    "X_N_train, X_N_test, y_N_train, y_N_test = train_test_split(X_N, y, test_size=0.2, random_state=32)"
   ]
  },
  {
   "cell_type": "code",
   "execution_count": 9,
   "metadata": {},
   "outputs": [
    {
     "name": "stdout",
     "output_type": "stream",
     "text": [
      "Text Training data score: 1.0\n",
      "Text Test data score: 0.8888888888888888\n"
     ]
    }
   ],
   "source": [
    "textP = Perceptron()\n",
    "textP.fit(X_T_train,y_T_train)\n",
    "\n",
    "print(f\"Text Training data score: {textP.score(X_T_train, y_T_train)}\")\n",
    "print(f\"Text Test data score: {textP.score(X_T_test, y_T_test)}\")"
   ]
  },
  {
   "cell_type": "code",
   "execution_count": 18,
   "metadata": {},
   "outputs": [
    {
     "name": "stdout",
     "output_type": "stream",
     "text": [
      "Text Training data score: 0.9528301886792453\n",
      "Text Test data score: 0.9259259259259259\n"
     ]
    }
   ],
   "source": [
    "numbP = Perceptron()\n",
    "numbP.fit(X_N_train,y_N_train)\n",
    "\n",
    "percepPredict = numbP.predict(X_N_test)\n",
    "\n",
    "print(f\"Text Training data score: {numbP.score(X_N_train, y_N_train)}\")\n",
    "print(f\"Text Test data score: {numbP.score(X_N_test, y_N_test)}\")"
   ]
  },
  {
   "cell_type": "code",
   "execution_count": 11,
   "metadata": {},
   "outputs": [
    {
     "name": "stdout",
     "output_type": "stream",
     "text": [
      "WARNING:tensorflow:From c:\\Users\\K-Gen\\AppData\\Local\\Programs\\Python\\Python39\\lib\\site-packages\\keras\\src\\backend.py:1398: The name tf.executing_eagerly_outside_functions is deprecated. Please use tf.compat.v1.executing_eagerly_outside_functions instead.\n",
      "\n",
      "WARNING:tensorflow:From c:\\Users\\K-Gen\\AppData\\Local\\Programs\\Python\\Python39\\lib\\site-packages\\keras\\src\\optimizers\\__init__.py:309: The name tf.train.Optimizer is deprecated. Please use tf.compat.v1.train.Optimizer instead.\n",
      "\n",
      "Epoch 1/5\n",
      "WARNING:tensorflow:From c:\\Users\\K-Gen\\AppData\\Local\\Programs\\Python\\Python39\\lib\\site-packages\\keras\\src\\utils\\tf_utils.py:492: The name tf.ragged.RaggedTensorValue is deprecated. Please use tf.compat.v1.ragged.RaggedTensorValue instead.\n",
      "\n",
      "WARNING:tensorflow:From c:\\Users\\K-Gen\\AppData\\Local\\Programs\\Python\\Python39\\lib\\site-packages\\keras\\src\\engine\\base_layer_utils.py:384: The name tf.executing_eagerly_outside_functions is deprecated. Please use tf.compat.v1.executing_eagerly_outside_functions instead.\n",
      "\n",
      "4/4 [==============================] - 1s 50ms/step - loss: 4.4947 - accuracy: 0.7925 - val_loss: 5.4519 - val_accuracy: 0.4444\n",
      "Epoch 2/5\n",
      "4/4 [==============================] - 0s 11ms/step - loss: 2.7963 - accuracy: 0.7358 - val_loss: 1.4364 - val_accuracy: 0.8148\n",
      "Epoch 3/5\n",
      "4/4 [==============================] - 0s 11ms/step - loss: 0.7452 - accuracy: 0.9151 - val_loss: 0.7390 - val_accuracy: 0.8519\n",
      "Epoch 4/5\n",
      "4/4 [==============================] - 0s 10ms/step - loss: 0.1955 - accuracy: 0.9434 - val_loss: 0.6058 - val_accuracy: 0.7407\n",
      "Epoch 5/5\n",
      "4/4 [==============================] - 0s 10ms/step - loss: 0.0428 - accuracy: 0.9906 - val_loss: 0.8630 - val_accuracy: 0.8148\n",
      "1/1 [==============================] - 0s 66ms/step\n"
     ]
    }
   ],
   "source": [
    "text_model = keras.models.Sequential([\n",
    "    keras.layers.Input(shape=(10315,)),\n",
    "    keras.layers.Dense(32, activation='relu'),\n",
    "    keras.layers.Dense(32, activation='relu'),\n",
    "    keras.layers.Dense(32, activation='relu'),\n",
    "    keras.layers.Dense(1, activation='sigmoid')\n",
    "])\n",
    "\n",
    "LOSS_FN = keras.losses.BinaryCrossentropy()\n",
    "\n",
    "text_model.compile(optimizer='adam', loss=LOSS_FN, metrics=['accuracy'])\n",
    "\n",
    "text_model.fit(X_T_train, y_T_train, epochs=5, validation_data=(X_T_test, y_T_test))\n",
    "\n",
    "y_pred_text_binary_flat = (text_model.predict(X_T_test).flatten() > 0.5).astype(int)"
   ]
  },
  {
   "cell_type": "code",
   "execution_count": 23,
   "metadata": {},
   "outputs": [
    {
     "name": "stdout",
     "output_type": "stream",
     "text": [
      "Epoch 1/5\n",
      "5/5 [==============================] - 1s 5ms/step - loss: 4153.1616 - accuracy: 0.1579\n",
      "Epoch 2/5\n",
      "5/5 [==============================] - 0s 4ms/step - loss: 237.6358 - accuracy: 0.6090\n",
      "Epoch 3/5\n",
      "5/5 [==============================] - 0s 4ms/step - loss: 53.7694 - accuracy: 0.7895\n",
      "Epoch 4/5\n",
      "5/5 [==============================] - 0s 4ms/step - loss: 102.8985 - accuracy: 0.7143\n",
      "Epoch 5/5\n",
      "5/5 [==============================] - 0s 5ms/step - loss: 137.9706 - accuracy: 0.8872\n",
      "1/1 [==============================] - 0s 41ms/step\n"
     ]
    }
   ],
   "source": [
    "NPH = 32\n",
    "numb_model = keras.models.Sequential([\n",
    "    keras.layers.Input(shape=(16689,)),\n",
    "    keras.layers.Dense(32, activation='relu'),\n",
    "    keras.layers.Dense(32, activation='relu'),\n",
    "    keras.layers.Dense(32, activation='relu'),\n",
    "    keras.layers.Dense(32, activation='relu'),\n",
    "    keras.layers.Dense(1, activation='sigmoid')\n",
    "])\n",
    "\n",
    "LOSS_FN = keras.losses.BinaryCrossentropy()\n",
    "\n",
    "numb_model.compile(optimizer='adam', loss=LOSS_FN, metrics=['accuracy'])\n",
    "\n",
    "numb_model.fit(X_N_train, y_N_train, epochs=5, validation_data=(X_N_test, y_N_test))\n",
    "\n",
    "y_pred_numb_binary_flat = (numb_model.predict(X_N_test).flatten() > 0.5).astype(int)"
   ]
  },
  {
   "cell_type": "code",
   "execution_count": 19,
   "metadata": {},
   "outputs": [
    {
     "name": "stdout",
     "output_type": "stream",
     "text": [
      "Number: 0, Perceptron: 0 Actual: 0\n",
      "Number: 1, Perceptron: 1 Actual: 1\n",
      "Number: 1, Perceptron: 1 Actual: 1\n",
      "Number: 0, Perceptron: 0 Actual: 1\n",
      "Number: 0, Perceptron: 0 Actual: 0\n",
      "Number: 0, Perceptron: 0 Actual: 0\n",
      "Number: 0, Perceptron: 0 Actual: 0\n",
      "Number: 0, Perceptron: 0 Actual: 0\n",
      "Number: 0, Perceptron: 0 Actual: 0\n",
      "Number: 0, Perceptron: 0 Actual: 0\n",
      "Number: 0, Perceptron: 0 Actual: 0\n",
      "Number: 0, Perceptron: 0 Actual: 0\n",
      "Number: 0, Perceptron: 0 Actual: 0\n",
      "Number: 1, Perceptron: 1 Actual: 1\n",
      "Number: 0, Perceptron: 0 Actual: 0\n",
      "Number: 0, Perceptron: 0 Actual: 0\n",
      "Number: 0, Perceptron: 0 Actual: 0\n",
      "Number: 0, Perceptron: 0 Actual: 0\n",
      "Number: 0, Perceptron: 0 Actual: 0\n",
      "Number: 0, Perceptron: 0 Actual: 0\n",
      "Number: 0, Perceptron: 0 Actual: 0\n",
      "Number: 0, Perceptron: 0 Actual: 0\n",
      "Number: 0, Perceptron: 0 Actual: 0\n",
      "Number: 0, Perceptron: 0 Actual: 0\n",
      "Number: 1, Perceptron: 1 Actual: 1\n",
      "Number: 1, Perceptron: 1 Actual: 0\n",
      "Number: 0, Perceptron: 0 Actual: 0\n"
     ]
    }
   ],
   "source": [
    "for numb, percep, actual in zip(y_pred_numb_binary_flat, percepPredict, y_N_test):\n",
    "    print(f\"Number: {numb}, Perceptron: {percep} Actual: {actual}\")"
   ]
  },
  {
   "cell_type": "code",
   "execution_count": null,
   "metadata": {},
   "outputs": [
    {
     "name": "stdout",
     "output_type": "stream",
     "text": [
      "1/1 [==============================] - 0s 24ms/step - loss: 1.6281 - accuracy: 0.8519\n",
      "0.8518518805503845\n",
      "1/1 [==============================] - 0s 93ms/step - loss: 0.6165 - accuracy: 0.1852\n",
      "0.18518517911434174\n"
     ]
    }
   ],
   "source": [
    "print(text_model.evaluate(X_T_test,y_T_test)[1])\n",
    "print(numb_model.evaluate(X_N_test,y_N_test)[1])"
   ]
  }
 ],
 "metadata": {
  "kernelspec": {
   "display_name": "Python 3",
   "language": "python",
   "name": "python3"
  },
  "language_info": {
   "codemirror_mode": {
    "name": "ipython",
    "version": 3
   },
   "file_extension": ".py",
   "mimetype": "text/x-python",
   "name": "python",
   "nbconvert_exporter": "python",
   "pygments_lexer": "ipython3",
   "version": "3.9.4"
  }
 },
 "nbformat": 4,
 "nbformat_minor": 2
}

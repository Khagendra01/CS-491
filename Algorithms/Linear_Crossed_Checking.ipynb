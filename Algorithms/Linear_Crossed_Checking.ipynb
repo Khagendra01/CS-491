{
 "cells": [
  {
   "cell_type": "code",
   "execution_count": 1,
   "metadata": {},
   "outputs": [],
   "source": [
    "import pandas as pd\n",
    "import numpy as np\n",
    "import json\n",
    "from sklearn import datasets\n",
    "from sklearn.linear_model import Perceptron\n",
    "from sklearn.model_selection import train_test_split\n",
    "from sklearn.metrics import confusion_matrix\n",
    "import matplotlib.pyplot as plt\n",
    "from sklearn.impute import SimpleImputer\n",
    "from sklearn.feature_selection import mutual_info_classif"
   ]
  },
  {
   "cell_type": "code",
   "execution_count": 2,
   "metadata": {},
   "outputs": [],
   "source": [
    "train_x_src_path = '../Dataset/assignment2New.json'\n",
    "train_y_src_path = '../DataBook/Assignment2_Data_Analyst.xlsx'\n",
    "\n",
    "test_x_src_path = '../Dataset/assignment1New.json'\n",
    "test_y_src_path = '../DataBook/Assignment1_Data_Analyst.xlsx'"
   ]
  },
  {
   "cell_type": "code",
   "execution_count": 3,
   "metadata": {},
   "outputs": [],
   "source": [
    "train_data = pd.read_json(train_x_src_path)\n",
    "test_data = pd.read_json(test_x_src_path)"
   ]
  },
  {
   "cell_type": "code",
   "execution_count": 4,
   "metadata": {},
   "outputs": [],
   "source": [
    "train_df_supervision = pd.read_excel(train_y_src_path)\n",
    "train_plagiarised_array = train_df_supervision['Plagiarised'].astype(int).values\n",
    "\n",
    "test_df_supervision = pd.read_excel(test_y_src_path)\n",
    "test_plagiarised_array = test_df_supervision['Plagiarised'].astype(int).values"
   ]
  },
  {
   "cell_type": "code",
   "execution_count": 5,
   "metadata": {},
   "outputs": [],
   "source": [
    "X_train = np.nan_to_num(train_data.values, nan=0, copy=True).astype(int)\n",
    "y_train = train_plagiarised_array\n",
    "\n",
    "X_test = np.nan_to_num(test_data.values, nan=0, copy=True).astype(int)\n",
    "y_test = test_plagiarised_array"
   ]
  },
  {
   "cell_type": "code",
   "execution_count": 6,
   "metadata": {},
   "outputs": [],
   "source": [
    "difference_in_columns = X_test.shape[1] - X_train.shape[1]\n",
    "\n",
    "# if difference_in_columns > 0:\n",
    "#     last_values = X_train[:, -1]\n",
    "#     new_columns = np.tile(last_values, (difference_in_columns, 1)).T\n",
    "#     X_train_extended = np.hstack((X_train, new_columns))\n",
    "#     X_test_extended = X_test\n",
    "# elif difference_in_columns < 0:\n",
    "#     last_values = X_test[:, -1]\n",
    "#     new_columns = np.tile(last_values, (-difference_in_columns, 1)).T\n",
    "#     X_test_extended = np.hstack((X_test, new_columns))\n",
    "#     X_train_extended = X_train\n",
    "# else:\n",
    "#     X_train_extended = X_train\n",
    "#     X_test_extended = X_test\n",
    "\n",
    "if difference_in_columns > 0:\n",
    "    new_columns = np.zeros((X_train.shape[0], difference_in_columns))\n",
    "    X_train_extended = np.hstack((X_train, new_columns))\n",
    "    X_test_extended = X_test\n",
    "\n",
    "elif difference_in_columns < 0:\n",
    "    new_columns = np.zeros((X_test.shape[0], -difference_in_columns))\n",
    "    X_test_extended = np.hstack((X_test, new_columns))\n",
    "    X_train_extended = X_train\n",
    "\n",
    "else:\n",
    "    X_train_extended = X_train\n",
    "    X_test_extended = X_test"
   ]
  },
  {
   "cell_type": "code",
   "execution_count": 7,
   "metadata": {},
   "outputs": [],
   "source": [
    "imputer = SimpleImputer(missing_values=np.nan, strategy='constant', fill_value=0)\n",
    "X_train_imputed = imputer.fit_transform(X_train_extended)\n",
    "X_test_imputed = imputer.fit_transform(X_test_extended)"
   ]
  },
  {
   "cell_type": "code",
   "execution_count": 8,
   "metadata": {},
   "outputs": [
    {
     "name": "stdout",
     "output_type": "stream",
     "text": [
      "Training data score: 1.0\n",
      "Test data score: 0.8888888888888888\n"
     ]
    }
   ],
   "source": [
    "p = Perceptron()\n",
    "p.fit(X_train_imputed,y_train)\n",
    "\n",
    "print(f\"Training data score: {p.score(X_train_imputed, y_train)}\")\n",
    "print(f\"Test data score: {p.score(X_test_imputed, y_test)}\")"
   ]
  },
  {
   "cell_type": "code",
   "execution_count": 9,
   "metadata": {},
   "outputs": [
    {
     "name": "stdout",
     "output_type": "stream",
     "text": [
      "Predicted: 0 Actual: 0\n",
      "Predicted: 0 Actual: 0\n",
      "Predicted: 0 Actual: 0\n",
      "Predicted: 0 Actual: 0\n",
      "Predicted: 0 Actual: 0\n",
      "Predicted: 0 Actual: 0\n",
      "Predicted: 0 Actual: 0\n",
      "Predicted: 0 Actual: 0\n",
      "Predicted: 0 Actual: 0\n",
      "Predicted: 0 Actual: 0\n",
      "Predicted: 0 Actual: 0\n",
      "Predicted: 0 Actual: 0\n",
      "Predicted: 0 Actual: 0\n",
      "Predicted: 0 Actual: 0\n",
      "Predicted: 0 Actual: 0\n",
      "Predicted: 0 Actual: 0\n",
      "Predicted: 0 Actual: 0\n",
      "Predicted: 0 Actual: 0\n",
      "Predicted: 0 Actual: 0\n",
      "Predicted: 1 Actual: 1\n",
      "Predicted: 1 Actual: 0\n",
      "Predicted: 1 Actual: 1\n",
      "Predicted: 1 Actual: 1\n",
      "Predicted: 1 Actual: 1\n",
      "Predicted: 0 Actual: 0\n",
      "Predicted: 0 Actual: 1\n",
      "Predicted: 0 Actual: 0\n",
      "Predicted: 0 Actual: 0\n",
      "Predicted: 0 Actual: 0\n",
      "Predicted: 1 Actual: 0\n",
      "Predicted: 0 Actual: 0\n",
      "Predicted: 0 Actual: 0\n",
      "Predicted: 0 Actual: 0\n",
      "Predicted: 0 Actual: 0\n",
      "Predicted: 0 Actual: 1\n",
      "Predicted: 0 Actual: 0\n",
      "Predicted: 0 Actual: 1\n",
      "Predicted: 0 Actual: 0\n",
      "Predicted: 0 Actual: 0\n",
      "Predicted: 0 Actual: 1\n",
      "Predicted: 0 Actual: 0\n",
      "Predicted: 0 Actual: 0\n",
      "Predicted: 0 Actual: 0\n",
      "Predicted: 1 Actual: 1\n",
      "Predicted: 0 Actual: 0\n",
      "Predicted: 0 Actual: 0\n",
      "Predicted: 0 Actual: 0\n",
      "Predicted: 0 Actual: 0\n",
      "Predicted: 0 Actual: 0\n",
      "Predicted: 0 Actual: 0\n",
      "Predicted: 0 Actual: 0\n",
      "Predicted: 0 Actual: 0\n",
      "Predicted: 1 Actual: 1\n",
      "Predicted: 1 Actual: 1\n"
     ]
    }
   ],
   "source": [
    "predictions = p.predict(X_test_imputed)\n",
    "for i in range(len(X_test_imputed)):\n",
    "    print(\"Predicted:\", predictions[i], \"Actual:\", y_test[i])"
   ]
  },
  {
   "cell_type": "code",
   "execution_count": 10,
   "metadata": {},
   "outputs": [
    {
     "data": {
      "text/plain": [
       "<matplotlib.image.AxesImage at 0x2030e113fd0>"
      ]
     },
     "execution_count": 10,
     "metadata": {},
     "output_type": "execute_result"
    },
    {
     "data": {
      "image/png": "[encoded data removed]",
      "text/plain": [
       "<Figure size 480x480 with 1 Axes>"
      ]
     },
     "metadata": {},
     "output_type": "display_data"
    }
   ],
   "source": [
    "cm = confusion_matrix( p.predict(X_test_imputed), y_test)\n",
    "# plt.set_cmap()\n",
    "plt.matshow(cm)"
   ]
  }
 ],
 "metadata": {
  "kernelspec": {
   "display_name": "Python 3",
   "language": "python",
   "name": "python3"
  },
  "language_info": {
   "codemirror_mode": {
    "name": "ipython",
    "version": 3
   },
   "file_extension": ".py",
   "mimetype": "text/x-python",
   "name": "python",
   "nbconvert_exporter": "python",
   "pygments_lexer": "ipython3",
   "version": "3.9.4"
  }
 },
 "nbformat": 4,
 "nbformat_minor": 2
}
